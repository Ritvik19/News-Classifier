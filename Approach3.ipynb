{
 "cells": [
  {
   "cell_type": "markdown",
   "metadata": {},
   "source": [
    "# Libraries"
   ]
  },
  {
   "cell_type": "code",
   "execution_count": 1,
   "metadata": {
    "ExecuteTime": {
     "end_time": "2020-03-29T12:19:04.707127Z",
     "start_time": "2020-03-29T12:19:03.185771Z"
    }
   },
   "outputs": [],
   "source": [
    "import numpy as np\n",
    "import pandas as pd\n",
    "import matplotlib.pyplot as plt"
   ]
  },
  {
   "cell_type": "code",
   "execution_count": 2,
   "metadata": {
    "ExecuteTime": {
     "end_time": "2020-03-29T12:19:04.737054Z",
     "start_time": "2020-03-29T12:19:04.710120Z"
    }
   },
   "outputs": [
    {
     "name": "stderr",
     "output_type": "stream",
     "text": [
      "D:\\Users\\Ritvik\\Anaconda3\\envs\\datascience\\lib\\site-packages\\tqdm\\std.py:648: FutureWarning: The Panel class is removed from pandas. Accessing it from the top-level namespace will also be removed in the next version\n",
      "  from pandas import Panel\n"
     ]
    }
   ],
   "source": [
    "from tqdm.auto import tqdm\n",
    "tqdm.pandas()\n",
    "from IPython.display import clear_output"
   ]
  },
  {
   "cell_type": "code",
   "execution_count": 3,
   "metadata": {
    "ExecuteTime": {
     "end_time": "2020-03-29T12:19:04.846133Z",
     "start_time": "2020-03-29T12:19:04.743034Z"
    }
   },
   "outputs": [],
   "source": [
    "pd.options.display.max_colwidth = -1"
   ]
  },
  {
   "cell_type": "code",
   "execution_count": 4,
   "metadata": {
    "ExecuteTime": {
     "end_time": "2020-03-29T12:19:04.967165Z",
     "start_time": "2020-03-29T12:19:04.849104Z"
    }
   },
   "outputs": [],
   "source": [
    "import json"
   ]
  },
  {
   "cell_type": "markdown",
   "metadata": {},
   "source": [
    "# Data"
   ]
  },
  {
   "cell_type": "code",
   "execution_count": 5,
   "metadata": {
    "ExecuteTime": {
     "end_time": "2020-03-29T12:19:05.198147Z",
     "start_time": "2020-03-29T12:19:04.970159Z"
    }
   },
   "outputs": [
    {
     "name": "stdout",
     "output_type": "stream",
     "text": [
      "(34539, 8)\n"
     ]
    }
   ],
   "source": [
    "data = pd.read_csv('E:/Scrapped-Data/InshortsScraped.csv')\n",
    "print(data.shape)"
   ]
  },
  {
   "cell_type": "code",
   "execution_count": 6,
   "metadata": {
    "ExecuteTime": {
     "end_time": "2020-03-29T12:19:05.237361Z",
     "start_time": "2020-03-29T12:19:05.202136Z"
    }
   },
   "outputs": [
    {
     "data": {
      "text/html": [
       "<div>\n",
       "<style scoped>\n",
       "    .dataframe tbody tr th:only-of-type {\n",
       "        vertical-align: middle;\n",
       "    }\n",
       "\n",
       "    .dataframe tbody tr th {\n",
       "        vertical-align: top;\n",
       "    }\n",
       "\n",
       "    .dataframe thead th {\n",
       "        text-align: right;\n",
       "    }\n",
       "</style>\n",
       "<table border=\"1\" class=\"dataframe\">\n",
       "  <thead>\n",
       "    <tr style=\"text-align: right;\">\n",
       "      <th></th>\n",
       "      <th>news</th>\n",
       "      <th>national</th>\n",
       "      <th>sports</th>\n",
       "      <th>world</th>\n",
       "      <th>politics</th>\n",
       "      <th>technology</th>\n",
       "      <th>entertainment</th>\n",
       "      <th>hatke</th>\n",
       "    </tr>\n",
       "  </thead>\n",
       "  <tbody>\n",
       "    <tr>\n",
       "      <td>0</td>\n",
       "      <td>7 IITs among India's top higher education institutes, IIT Madras tops</td>\n",
       "      <td>1</td>\n",
       "      <td>0</td>\n",
       "      <td>0</td>\n",
       "      <td>0</td>\n",
       "      <td>0</td>\n",
       "      <td>0</td>\n",
       "      <td>0</td>\n",
       "    </tr>\n",
       "    <tr>\n",
       "      <td>1</td>\n",
       "      <td>They forget she's 14: Devgn on trolls criticising daughter's dress</td>\n",
       "      <td>0</td>\n",
       "      <td>0</td>\n",
       "      <td>0</td>\n",
       "      <td>0</td>\n",
       "      <td>0</td>\n",
       "      <td>1</td>\n",
       "      <td>0</td>\n",
       "    </tr>\n",
       "    <tr>\n",
       "      <td>2</td>\n",
       "      <td>Haven't earned so much that I can wear new clothes every day: Janhvi</td>\n",
       "      <td>0</td>\n",
       "      <td>0</td>\n",
       "      <td>0</td>\n",
       "      <td>0</td>\n",
       "      <td>0</td>\n",
       "      <td>1</td>\n",
       "      <td>0</td>\n",
       "    </tr>\n",
       "    <tr>\n",
       "      <td>3</td>\n",
       "      <td>Fans in US sing Desi Girl for Priyanka outside Jonas Brothers concert</td>\n",
       "      <td>0</td>\n",
       "      <td>0</td>\n",
       "      <td>0</td>\n",
       "      <td>0</td>\n",
       "      <td>0</td>\n",
       "      <td>1</td>\n",
       "      <td>0</td>\n",
       "    </tr>\n",
       "    <tr>\n",
       "      <td>4</td>\n",
       "      <td>Dhoni bhai was very angry, he hugged me after the match: Chahar</td>\n",
       "      <td>0</td>\n",
       "      <td>1</td>\n",
       "      <td>0</td>\n",
       "      <td>0</td>\n",
       "      <td>0</td>\n",
       "      <td>0</td>\n",
       "      <td>0</td>\n",
       "    </tr>\n",
       "  </tbody>\n",
       "</table>\n",
       "</div>"
      ],
      "text/plain": [
       "                                                                    news  \\\n",
       "0  7 IITs among India's top higher education institutes, IIT Madras tops   \n",
       "1  They forget she's 14: Devgn on trolls criticising daughter's dress      \n",
       "2  Haven't earned so much that I can wear new clothes every day: Janhvi    \n",
       "3  Fans in US sing Desi Girl for Priyanka outside Jonas Brothers concert   \n",
       "4  Dhoni bhai was very angry, he hugged me after the match: Chahar         \n",
       "\n",
       "   national  sports  world  politics  technology  entertainment  hatke  \n",
       "0  1         0       0      0         0           0              0      \n",
       "1  0         0       0      0         0           1              0      \n",
       "2  0         0       0      0         0           1              0      \n",
       "3  0         0       0      0         0           1              0      \n",
       "4  0         1       0      0         0           0              0      "
      ]
     },
     "execution_count": 6,
     "metadata": {},
     "output_type": "execute_result"
    }
   ],
   "source": [
    "data.head()"
   ]
  },
  {
   "cell_type": "code",
   "execution_count": 7,
   "metadata": {
    "ExecuteTime": {
     "end_time": "2020-03-29T12:19:05.414012Z",
     "start_time": "2020-03-29T12:19:05.241317Z"
    }
   },
   "outputs": [
    {
     "data": {
      "text/html": [
       "<div>\n",
       "<style scoped>\n",
       "    .dataframe tbody tr th:only-of-type {\n",
       "        vertical-align: middle;\n",
       "    }\n",
       "\n",
       "    .dataframe tbody tr th {\n",
       "        vertical-align: top;\n",
       "    }\n",
       "\n",
       "    .dataframe thead th {\n",
       "        text-align: right;\n",
       "    }\n",
       "</style>\n",
       "<table border=\"1\" class=\"dataframe\">\n",
       "  <thead>\n",
       "    <tr style=\"text-align: right;\">\n",
       "      <th></th>\n",
       "      <th>national</th>\n",
       "      <th>sports</th>\n",
       "      <th>world</th>\n",
       "      <th>politics</th>\n",
       "      <th>technology</th>\n",
       "      <th>entertainment</th>\n",
       "      <th>hatke</th>\n",
       "    </tr>\n",
       "  </thead>\n",
       "  <tbody>\n",
       "    <tr>\n",
       "      <td>count</td>\n",
       "      <td>34539.000000</td>\n",
       "      <td>34539.000000</td>\n",
       "      <td>34539.000000</td>\n",
       "      <td>34539.000000</td>\n",
       "      <td>34539.000000</td>\n",
       "      <td>34539.000000</td>\n",
       "      <td>34539.000000</td>\n",
       "    </tr>\n",
       "    <tr>\n",
       "      <td>mean</td>\n",
       "      <td>0.235068</td>\n",
       "      <td>0.170763</td>\n",
       "      <td>0.145227</td>\n",
       "      <td>0.141434</td>\n",
       "      <td>0.223110</td>\n",
       "      <td>0.146472</td>\n",
       "      <td>0.007933</td>\n",
       "    </tr>\n",
       "    <tr>\n",
       "      <td>std</td>\n",
       "      <td>0.424047</td>\n",
       "      <td>0.376308</td>\n",
       "      <td>0.352335</td>\n",
       "      <td>0.348474</td>\n",
       "      <td>0.416338</td>\n",
       "      <td>0.353584</td>\n",
       "      <td>0.088715</td>\n",
       "    </tr>\n",
       "    <tr>\n",
       "      <td>min</td>\n",
       "      <td>0.000000</td>\n",
       "      <td>0.000000</td>\n",
       "      <td>0.000000</td>\n",
       "      <td>0.000000</td>\n",
       "      <td>0.000000</td>\n",
       "      <td>0.000000</td>\n",
       "      <td>0.000000</td>\n",
       "    </tr>\n",
       "    <tr>\n",
       "      <td>25%</td>\n",
       "      <td>0.000000</td>\n",
       "      <td>0.000000</td>\n",
       "      <td>0.000000</td>\n",
       "      <td>0.000000</td>\n",
       "      <td>0.000000</td>\n",
       "      <td>0.000000</td>\n",
       "      <td>0.000000</td>\n",
       "    </tr>\n",
       "    <tr>\n",
       "      <td>50%</td>\n",
       "      <td>0.000000</td>\n",
       "      <td>0.000000</td>\n",
       "      <td>0.000000</td>\n",
       "      <td>0.000000</td>\n",
       "      <td>0.000000</td>\n",
       "      <td>0.000000</td>\n",
       "      <td>0.000000</td>\n",
       "    </tr>\n",
       "    <tr>\n",
       "      <td>75%</td>\n",
       "      <td>0.000000</td>\n",
       "      <td>0.000000</td>\n",
       "      <td>0.000000</td>\n",
       "      <td>0.000000</td>\n",
       "      <td>0.000000</td>\n",
       "      <td>0.000000</td>\n",
       "      <td>0.000000</td>\n",
       "    </tr>\n",
       "    <tr>\n",
       "      <td>max</td>\n",
       "      <td>1.000000</td>\n",
       "      <td>1.000000</td>\n",
       "      <td>1.000000</td>\n",
       "      <td>1.000000</td>\n",
       "      <td>1.000000</td>\n",
       "      <td>1.000000</td>\n",
       "      <td>1.000000</td>\n",
       "    </tr>\n",
       "  </tbody>\n",
       "</table>\n",
       "</div>"
      ],
      "text/plain": [
       "           national        sports         world      politics    technology  \\\n",
       "count  34539.000000  34539.000000  34539.000000  34539.000000  34539.000000   \n",
       "mean   0.235068      0.170763      0.145227      0.141434      0.223110       \n",
       "std    0.424047      0.376308      0.352335      0.348474      0.416338       \n",
       "min    0.000000      0.000000      0.000000      0.000000      0.000000       \n",
       "25%    0.000000      0.000000      0.000000      0.000000      0.000000       \n",
       "50%    0.000000      0.000000      0.000000      0.000000      0.000000       \n",
       "75%    0.000000      0.000000      0.000000      0.000000      0.000000       \n",
       "max    1.000000      1.000000      1.000000      1.000000      1.000000       \n",
       "\n",
       "       entertainment         hatke  \n",
       "count  34539.000000   34539.000000  \n",
       "mean   0.146472       0.007933      \n",
       "std    0.353584       0.088715      \n",
       "min    0.000000       0.000000      \n",
       "25%    0.000000       0.000000      \n",
       "50%    0.000000       0.000000      \n",
       "75%    0.000000       0.000000      \n",
       "max    1.000000       1.000000      "
      ]
     },
     "execution_count": 7,
     "metadata": {},
     "output_type": "execute_result"
    }
   ],
   "source": [
    "data.describe()"
   ]
  },
  {
   "cell_type": "markdown",
   "metadata": {},
   "source": [
    "# Data Preprocessing"
   ]
  },
  {
   "cell_type": "markdown",
   "metadata": {
    "ExecuteTime": {
     "end_time": "2019-06-22T12:32:55.761565Z",
     "start_time": "2019-06-22T12:32:55.757578Z"
    }
   },
   "source": [
    "## Cleaning"
   ]
  },
  {
   "cell_type": "code",
   "execution_count": 8,
   "metadata": {
    "ExecuteTime": {
     "end_time": "2020-03-29T12:19:06.559450Z",
     "start_time": "2020-03-29T12:19:05.417973Z"
    }
   },
   "outputs": [],
   "source": [
    "import nltk, re\n",
    "from nltk.stem.porter import PorterStemmer\n",
    "from nltk.stem import WordNetLemmatizer\n",
    "\n",
    "def spell_correct(text):\n",
    "    text = re.sub(r\"can\\'t\", \"can not\", text)\n",
    "    text = re.sub(r\"what's\", \"what is \", text)\n",
    "    text = re.sub(r\"\\'s\", \" \", text)\n",
    "    text = re.sub(r\"\\'ve\", \" have \", text)\n",
    "    text = re.sub(r\"n't\", \" not \", text)\n",
    "    text = re.sub(r\"i'm\", \"i am \", text)\n",
    "    text = re.sub(r\"\\'re\", \" are \", text)\n",
    "    text = re.sub(r\"\\'d\", \" would \", text)\n",
    "    text = re.sub(r\"\\'ll\", \" will \", text)\n",
    "    text = re.sub(r\"\\0s\", \"0\", text)    \n",
    "    return text\n",
    "\n",
    "def remove_url(text):\n",
    "    URL_REGEX = re.compile(r'''((http[s]?://)[^ <>'\"{}|\\\\^`[\\]]*)''')\n",
    "    return URL_REGEX.sub(r' ', text)\n",
    "\n",
    "remove_punc = lambda x : re.sub(r\"\\W\", ' ', x)\n",
    "\n",
    "remove_num = lambda x : re.sub(r\"\\d\", ' ', x)\n",
    "\n",
    "remove_extra_spaces = lambda x : re.sub(r\"\\s+\", ' ', x)\n",
    "\n",
    "lower_case = lambda x : x.lower()\n",
    "\n",
    "with open('stopwords.txt') as f:\n",
    "    sw = map(lambda x : x.strip(), f.readlines())\n",
    "stop_words = set(nltk.corpus.stopwords.words('english'))|set(sw)\n",
    "remove_stopwords = lambda x: ' '.join(word for word in x.split() if word not in stop_words)\n",
    "\n",
    "ps = PorterStemmer()\n",
    "ps_stem = lambda x: ' '.join(ps.stem(word) for word in x.split())\n",
    "\n",
    "wnl = WordNetLemmatizer()\n",
    "wnl_lemmatize = lambda x: ' '.join(wnl.lemmatize(word) for word in x.split())\n",
    "\n",
    "def tag_pos(x):\n",
    "    tag_list =  nltk.pos_tag(nltk.word_tokenize(x))\n",
    "    pos = \"\"\n",
    "    for t in tag_list:\n",
    "        pos += t[0] +'(' + t[1] +')' + ' '\n",
    "    return pos\n",
    "\n",
    "def cleanText(x, rsw, stm, lem, tgps):\n",
    "    x = str(x)\n",
    "    x = remove_url(x)\n",
    "    x = lower_case(x)\n",
    "    x = spell_correct(x)\n",
    "    x = remove_punc(x)\n",
    "    x = remove_num(x)\n",
    "    x = remove_extra_spaces(x)\n",
    "    \n",
    "    if rsw:\n",
    "        x = remove_stopwords(x)\n",
    "    if stm:\n",
    "        x = ps_stem(x)\n",
    "    if lem:\n",
    "        x = wnl_lemmatize(x)\n",
    "    if tgps:\n",
    "        x = tag_pos(x)\n",
    "    return x"
   ]
  },
  {
   "cell_type": "code",
   "execution_count": 9,
   "metadata": {
    "ExecuteTime": {
     "end_time": "2020-03-29T12:19:08.077934Z",
     "start_time": "2020-03-29T12:19:06.562444Z"
    }
   },
   "outputs": [
    {
     "data": {
      "application/vnd.jupyter.widget-view+json": {
       "model_id": "5cb9715592ad424c95a317ece563489f",
       "version_major": 2,
       "version_minor": 0
      },
      "text/plain": [
       "HBox(children=(IntProgress(value=0, max=34539), HTML(value='')))"
      ]
     },
     "metadata": {},
     "output_type": "display_data"
    },
    {
     "name": "stdout",
     "output_type": "stream",
     "text": [
      "\n"
     ]
    }
   ],
   "source": [
    "data['news_c'] = data['news'].progress_apply(lambda x : cleanText(x, True, False, False, False))"
   ]
  },
  {
   "cell_type": "markdown",
   "metadata": {},
   "source": [
    "## Association Rules"
   ]
  },
  {
   "cell_type": "code",
   "execution_count": 10,
   "metadata": {
    "ExecuteTime": {
     "end_time": "2020-03-29T12:19:08.131812Z",
     "start_time": "2020-03-29T12:19:08.080887Z"
    }
   },
   "outputs": [],
   "source": [
    "labels = ['national', 'sports', 'world', 'politics', 'technology', 'entertainment', 'hatke']\n",
    "\n",
    "corpus = []\n",
    "for c in labels:\n",
    "    corpus.append(' '.join(data[data[c] == 1]['news_c']))\n",
    "    \n",
    "corpus = pd.Series(corpus)"
   ]
  },
  {
   "cell_type": "code",
   "execution_count": 11,
   "metadata": {
    "ExecuteTime": {
     "end_time": "2020-03-29T12:19:08.251457Z",
     "start_time": "2020-03-29T12:19:08.132748Z"
    }
   },
   "outputs": [],
   "source": [
    "from sklearn.feature_extraction.text import TfidfVectorizer\n",
    "from scipy.sparse import coo_matrix\n",
    "\n",
    "def sort_coo(coo_matrix):\n",
    "    tuples = zip(coo_matrix.col, coo_matrix.data)\n",
    "    return sorted(tuples, key=lambda x: (x[1], x[0]), reverse=True)\n",
    " \n",
    "def extract_topn_from_vector(feature_names, sorted_items, topn=10):\n",
    "    sorted_items = sorted_items[:topn]\n",
    " \n",
    "    score_vals = []\n",
    "    feature_vals = []\n",
    "\n",
    "    for idx, score in sorted_items:\n",
    "        score_vals.append(round(score, 3))\n",
    "        feature_vals.append(feature_names[idx])\n",
    "        \n",
    "    results= {}\n",
    "    \n",
    "    for idx in range(len(feature_vals)):\n",
    "        results[feature_vals[idx]]=score_vals[idx]\n",
    "    \n",
    "    return results\n",
    "\n",
    "def extractKeyWords(corpus, K, i):\n",
    "    vectorizer = TfidfVectorizer(ngram_range=(1,2))\n",
    "    vectorizer.fit(corpus)\n",
    "    feature_names = vectorizer.get_feature_names()\n",
    " \n",
    "    doc=corpus[i]\n",
    "    tf_idf_vector = vectorizer.transform([doc])\n",
    "\n",
    "    sorted_items=sort_coo(tf_idf_vector.tocoo())\n",
    "    keywords=extract_topn_from_vector(feature_names,sorted_items,K)\n",
    "    \n",
    "    return(list(keywords.keys()))"
   ]
  },
  {
   "cell_type": "code",
   "execution_count": 12,
   "metadata": {
    "ExecuteTime": {
     "end_time": "2020-03-29T12:19:21.268228Z",
     "start_time": "2020-03-29T12:19:08.256445Z"
    }
   },
   "outputs": [
    {
     "data": {
      "application/vnd.jupyter.widget-view+json": {
       "model_id": "1eced6366512411790bf24e542f858a3",
       "version_major": 2,
       "version_minor": 0
      },
      "text/plain": [
       "HBox(children=(IntProgress(value=1, bar_style='info', max=1), HTML(value='')))"
      ]
     },
     "metadata": {},
     "output_type": "display_data"
    },
    {
     "name": "stdout",
     "output_type": "stream",
     "text": [
      "\n"
     ]
    }
   ],
   "source": [
    "feats = {}\n",
    "for i, l in tqdm(enumerate(labels)):\n",
    "    feats[l] = (extractKeyWords(corpus, 150, i))"
   ]
  },
  {
   "cell_type": "code",
   "execution_count": 13,
   "metadata": {
    "ExecuteTime": {
     "end_time": "2020-03-29T12:19:21.346017Z",
     "start_time": "2020-03-29T12:19:21.271221Z"
    }
   },
   "outputs": [
    {
     "name": "stdout",
     "output_type": "stream",
     "text": [
      "national ['aap', 'accused', 'act', 'air', 'allegedly', 'amid', 'amit', 'amit shah', 'andhra', 'anti', 'army', 'arrested', 'article', 'asks', 'assam', 'assembly', 'attack', 'ayodhya', 'bagh', 'bihar', 'bjp', 'bjp mla', 'booked', 'caa', 'car', 'case', 'cases', 'cbi', 'centre', 'chhattisgarh', 'chidambaram', 'chief', 'citizenship', 'cm', 'cong', 'congress', 'coronavirus', 'court', 'cr', 'crore', 'cyclone', 'day', 'days', 'dead', 'death', 'delhi', 'dies', 'ec', 'ex', 'family', 'free', 'gandhi', 'gets', 'girl', 'govt', 'gujarat', 'haryana', 'hc', 'held', 'home', 'iaf', 'india', 'indian', 'injured', 'jnu', 'karnataka', 'kashmir', 'kejriwal', 'kerala', 'killed', 'lakh', 'leader', 'lok', 'lok sabha', 'maha', 'maharashtra', 'mamata', 'man', 'mayawati', 'metro', 'minister', 'mla', 'mlas', 'modi', 'mp', 'mumbai', 'murder', 'new', 'notice', 'nrc', 'odisha', 'old', 'owaisi', 'pak', 'pakistan', 'party', 'pawar', 'people', 'plea', 'pm', 'pm modi', 'police', 'poll', 'polls', 'pradesh', 'priyanka', 'protest', 'punjab', 'rahul', 'rajasthan', 'rajnath', 'rajya sabha', 'ram', 'rape', 'remark', 'report', 'reports', 'sabha', 'says', 'sc', 'schools', 'sena', 'shah', 'shares', 'shiv', 'shiv sena', 'singh', 'son', 'st', 'students', 'suspended', 'taka', 'time', 'tmc', 'unnao', 'unnao rape', 'video', 'vote', 'water', 'wb', 'wife', 'wo', 'woman', 'women', 'year', 'year old', 'yogi', 'yr', 'yr old', 'yrs'] 150\n",
      "sports ['afridi', 'archer', 'ashwin', 'aus', 'australia', 'ball', 'bangladesh', 'bat', 'batsman', 'batting', 'bcci', 'beat', 'best', 'bowler', 'bowling', 'breaks', 'bumrah', 'captain', 'coach', 'cricket', 'cricketer', 'csk', 'cup', 'day', 'debut', 'defeat', 'dhoni', 'djokovic', 'england', 'esh', 'ex', 'fan', 'fans', 'federer', 'final', 'french open', 'gambhir', 'ganguly', 'gayle', 'gets', 'hit', 'icc', 'india', 'indian', 'indies', 'ipl', 'kohli', 'league', 'like', 'liverpool', 'loss', 'madrid', 'man', 'match', 'matches', 'messi', 'ms', 'ms dhoni', 'nadal', 'nd', 'new', 'nz', 'odi', 'odis', 'old', 'open', 'pacer', 'pak', 'pakistan', 'pandya', 'pant', 'pic', 'play', 'player', 'players', 'ponting', 'rahane', 'rahul', 'rcb', 'rd', 'reach', 'real madrid', 'record', 'rohit', 'rohit sharma', 'ronaldo', 'round', 'run', 'runs', 'sa', 'sachin', 'sarfaraz', 'says', 'score', 'scores', 'semi', 'semis', 'series', 'shakib', 'shami', 'shares', 'sharma', 'sindhu', 'sixes', 'sl', 'slam', 'smashes', 'smith', 'sourav', 'south', 'south africa', 'spinner', 'squad', 'st', 'steve', 'steve smith', 'stokes', 'takes', 'team', 'team india', 'test', 'tests', 'th', 'time', 'title', 'ton', 'umpire', 'utd', 'video', 'virat', 'virat kohli', 'vs', 'warner', 'wc', 'wc final', 'west indies', 'wicket', 'wickets', 'williamson', 'wimbledon', 'win', 'wins', 'women', 'world', 'world cup', 'year', 'years', 'yr', 'yr old', 'yuvraj'] 150\n",
      "world ['afghan', 'afghanistan', 'air', 'amid', 'amid coronavirus', 'arabia', 'army', 'arrested', 'asks', 'attack', 'attacks', 'australia', 'australian', 'blast', 'blasts', 'border', 'brazil', 'brexit', 'calls', 'case', 'cases', 'chief', 'china', 'chinese', 'coronavirus', 'coronavirus cases', 'country', 'court', 'crashes', 'crore', 'day', 'dead', 'deal', 'death', 'death toll', 'dies', 'envoy', 'ex', 'fires', 'forces', 'foreign', 'france', 'general', 'germany', 'govt', 'harry', 'hit', 'hong', 'hong kong', 'impeachment', 'imran', 'imran khan', 'india', 'indian', 'indians', 'injured', 'iran', 'iranian', 'iraq', 'isis', 'israel', 'jailed', 'japan', 'johnson', 'jong', 'kashmir', 'khan', 'killed', 'killed injured', 'kills', 'kim', 'kim jong', 'kong', 'korea', 'lakh', 'lanka', 'leader', 'man', 'mexico', 'military', 'minister', 'missile', 'modi', 'new', 'north', 'north korea', 'nuclear', 'oil', 'old', 'outbreak', 'pak', 'pak pm', 'pakistan', 'people', 'plane', 'pm', 'pm imran', 'pm modi', 'police', 'president', 'prez', 'prince', 'protests', 'putin', 'report', 'reports', 'russia', 'russian', 'sanctions', 'saudi', 'saudi arabia', 'says', 'shares', 'sharif', 'ship', 'sl', 'south', 'sri', 'sri lanka', 'st', 'state', 'syria', 'taliban', 'talks', 'tanker', 'tensions', 'terror', 'thai', 'time', 'toll', 'trade', 'trump', 'turkey', 'uk', 'uk pm', 'ukraine', 'video', 'viral', 'visit', 'war', 'wo', 'woman', 'women', 'world', 'year', 'year old', 'years', 'yr', 'yr old', 'yrs'] 150\n",
      "politics ['aap', 'ajit', 'akhilesh', 'alliance', 'amit', 'amit shah', 'andhra', 'assembly', 'azam', 'azam khan', 'bengal', 'bihar', 'bjp', 'bjp leader', 'bjp mla', 'bjp mp', 'bsp', 'caa', 'candidate', 'candidates', 'case', 'centre', 'chidambaram', 'chief', 'citizenship', 'cm', 'cong', 'cong leader', 'congress', 'day', 'delhi', 'digvijaya', 'ec', 'elections', 'evms', 'ex', 'fadnavis', 'floor test', 'gambhir', 'gandhi', 'godse', 'govt', 'guv', 'haryana', 'india', 'jd', 'jharkhand', 'join', 'join bjp', 'joins', 'kamal nath', 'karnataka', 'kejriwal', 'khan', 'kumaraswamy', 'leader', 'leaders', 'like', 'lok', 'lok sabha', 'ls', 'maha', 'maharashtra', 'mamata', 'mamata banerjee', 'man', 'mayawati', 'minister', 'mla', 'mlas', 'modi', 'mp', 'mps', 'mufti', 'naidu', 'nath', 'ncp', 'new', 'nitish', 'notice', 'nrc', 'oath', 'opposition', 'owaisi', 'pak', 'party', 'pawar', 'people', 'pm', 'pm modi', 'police', 'political', 'politics', 'poll', 'polls', 'pragya', 'president', 'priyanka', 'priyanka gandhi', 'punjab', 'rahul', 'rahul gandhi', 'raj', 'rajya', 'rajya sabha', 'rally', 'ram', 'raut', 'rebel', 'remark', 'rss', 'sabha', 'sadhvi', 'sadhvi pragya', 'sanjay', 'says', 'sc', 'scindia', 'seats', 'sena', 'shah', 'sharad', 'sharad pawar', 'shiv', 'shiv sena', 'shivakumar', 'sidhu', 'singh', 'son', 'sonia', 'sp', 'speaker', 'st', 'taka', 'thackeray', 'time', 'tiwari', 'tmc', 'uddhav', 'violence', 'vote', 'votes', 'voting', 'wb', 'wins', 'wo', 'work', 'workers', 'yadav', 'yogi'] 150\n",
      "technology ['ai', 'amazon', 'amid', 'android', 'app', 'apple', 'apps', 'backed', 'bansal', 'based', 'bengaluru', 'bezos', 'billion', 'bn', 'bug', 'car', 'cars', 'cells', 'ceo', 'china', 'commerce', 'company', 'coronavirus', 'covid', 'cr', 'crore', 'data', 'data science', 'delhi', 'delivery', 'earth', 'elon', 'elon musk', 'employees', 'ex', 'facebook', 'fake', 'firm', 'flipkart', 'founder', 'fund', 'funding', 'fy', 'gates', 'gets', 'global', 'google', 'govt', 'great learning', 'help', 'huawei', 'india', 'indian', 'instagram', 'internet', 'invest', 'invests', 'ios', 'iphone', 'ipo', 'isro', 'lakh', 'lander', 'launch', 'launches', 'led', 'like', 'make', 'man', 'mars', 'maruti', 'microsoft', 'million', 'mn', 'moon', 'musk', 'nasa', 'new', 'ola', 'old', 'oneplus', 'online', 'oyo', 'paytm', 'people', 'phone', 'plans', 'platform', 'program', 'raise', 'raise mn', 'raises', 'raises cr', 'raises crore', 'raises million', 'raises mn', 'rental', 'report', 'report google', 'reports', 'researchers', 'robot', 'round', 'samsung', 'says', 'science', 'scientists', 'self', 'self driving', 'sequoia', 'series', 'shares', 'softbank', 'space', 'spacex', 'st', 'stake', 'startup', 'startups', 'study', 'swiggy', 'talks', 'tata', 'tech', 'tesla', 'test', 'tests', 'tiger global', 'tiktok', 'time', 'twitter', 'uber', 'uk', 'unicorn', 'upgrad', 'use', 'users', 'using', 'valuation', 'ventures', 'video', 'wework', 'whatsapp', 'world', 'xiaomi', 'year', 'years', 'yrs', 'zomato', 'zuckerberg'] 150\n"
     ]
    },
    {
     "name": "stdout",
     "output_type": "stream",
     "text": [
      "entertainment ['aamir', 'actor', 'actors', 'actress', 'aditya', 'akshay', 'akshay kumar', 'ali', 'alia', 'amid', 'ananya', 'anushka', 'arjun', 'award', 'awards', 'away', 'ayushmann', 'best', 'bhumi', 'big', 'bigg', 'bigg boss', 'biopic', 'bollywood', 'boss', 'cancer', 'cannes', 'case', 'cast', 'chhapaak', 'cinema', 'coronavirus', 'covid', 'cr', 'criticised', 'dad', 'daughter', 'day', 'deepika', 'deol', 'director', 'ex', 'family', 'fan', 'fans', 'father', 'feel', 'film', 'film festival', 'films', 'gets', 'got', 'hrithik', 'husband', 'india', 'indian', 'janhvi', 'johar', 'kabir', 'kabir singh', 'kajol', 'kangana', 'kapoor', 'karan', 'karan johar', 'kareena', 'kartik', 'katrina', 'khan', 'know', 'kriti', 'kumar', 'life', 'like', 'look', 'love', 'make', 'man', 'marriage', 'marvel', 'metoo', 'modi', 'mom', 'mumbai', 'new', 'nick', 'old', 'oscar', 'passes', 'passes away', 'people', 'pic', 'pics', 'play', 'pm', 'police', 'post', 'priyanka', 'producer', 'ranbir', 'rangoli', 'ranveer', 'rape', 'release', 'remake', 'report', 'reports', 'responds', 'rishi', 'role', 'saif', 'salman', 'sara', 'says', 'scene', 'shahid', 'shares', 'shares pic', 'singer', 'singh', 'son', 'sona', 'sonakshi', 'sonam', 'srk', 'st', 'star', 'starrer', 'sunny', 'taapsee', 'think', 'time', 'told', 'tv', 'varun', 'vicky', 'video', 'vivek', 'want', 'wedding', 'wife', 'wo', 'women', 'wood', 'work', 'working', 'year', 'yr', 'yr old', 'yrs'] 150\n",
      "hatke ['amulets', 'amulets figurines', 'archaeologists', 'arrested', 'aus', 'avoid', 'avoid extra', 'baby', 'based theme', 'billionaire', 'boulder', 'car', 'cardboard', 'carves', 'case', 'cash', 'caught', 'challenge people', 'cockroach', 'coronavirus', 'couple', 'couple gets', 'create', 'create awareness', 'dahan', 'day', 'distance', 'dog', 'dogs', 'driver mistakenly', 'duct', 'duct taped', 'eating', 'eats', 'edit', 'effigy', 'effigy based', 'egyptian', 'egyptian high', 'essay', 'face', 'family', 'farting', 'farting contest', 'figurines', 'figurines tombs', 'finds', 'flight', 'foot', 'free', 'german', 'gets', 'gets marks', 'getting', 'girl', 'goes', 'goes viral', 'gold', 'google', 'high priests', 'holika', 'holika dahan', 'hospital', 'identical twin', 'idlis', 'inside', 'kg', 'kg gold', 'km', 'km race', 'lakh', 'lion', 'makes', 'man', 'man eats', 'man wears', 'meth', 'mistaking', 'mountain', 'mumbai', 'new', 'number', 'nz', 'offers', 'old', 'old woman', 'pandal', 'people', 'pic', 'pic viral', 'pics', 'pics viral', 'pigeon', 'pixel', 'plane', 'police', 'pooping', 'post', 'puja pandal', 'rescued', 'room', 'says', 'sells', 'shares', 'shares pic', 'sheep', 'shows', 'shows google', 'snake', 'spotted', 'statue', 'stray', 'student', 'study', 'surat', 'swallows', 'taped', 'th', 'theme coronavirus', 'thief', 'toilet', 'tombs', 'tombs egyptian', 'tries', 'turn', 'twitter', 'uk', 'video', 'video goes', 'video viral', 'viral', 'viral man', 'viral year', 'viral yr', 'walks km', 'water', 'wearing', 'wears', 'wedding', 'wedding gift', 'woman', 'woman kitchen', 'world', 'year', 'year old', 'years', 'yr', 'yr old', 'zealand', 'zealand man'] 150\n"
     ]
    }
   ],
   "source": [
    "for k, v in feats.items():\n",
    "    print(k, sorted(v), len(v))"
   ]
  },
  {
   "cell_type": "code",
   "execution_count": 14,
   "metadata": {
    "ExecuteTime": {
     "end_time": "2020-03-29T12:19:21.434782Z",
     "start_time": "2020-03-29T12:19:21.349010Z"
    }
   },
   "outputs": [],
   "source": [
    "from collections import Counter"
   ]
  },
  {
   "cell_type": "code",
   "execution_count": 15,
   "metadata": {
    "ExecuteTime": {
     "end_time": "2020-03-29T12:19:21.545791Z",
     "start_time": "2020-03-29T12:19:21.437775Z"
    }
   },
   "outputs": [],
   "source": [
    "kws = []\n",
    "for v in feats.values():\n",
    "    kws.extend(v)"
   ]
  },
  {
   "cell_type": "code",
   "execution_count": 16,
   "metadata": {
    "ExecuteTime": {
     "end_time": "2020-03-29T12:19:21.764436Z",
     "start_time": "2020-03-29T12:19:21.551770Z"
    }
   },
   "outputs": [
    {
     "name": "stdout",
     "output_type": "stream",
     "text": [
      "india 6\n",
      "man 7\n",
      "police 5\n",
      "old 6\n",
      "yr 5\n",
      "yr old 5\n",
      "case 5\n",
      "ex 6\n",
      "people 6\n",
      "coronavirus 5\n",
      "indian 5\n",
      "day 6\n",
      "year 6\n",
      "video 6\n",
      "says 7\n",
      "new 7\n",
      "gets 5\n",
      "st 6\n",
      "time 6\n",
      "shares 6\n",
      "20\n"
     ]
    }
   ],
   "source": [
    "redundant_kws = []\n",
    "\n",
    "for k,v in Counter(kws).items():\n",
    "    if v > 4:\n",
    "        print(k, v)\n",
    "        redundant_kws.append(k)\n",
    "\n",
    "print(len(redundant_kws))        "
   ]
  },
  {
   "cell_type": "code",
   "execution_count": 17,
   "metadata": {
    "ExecuteTime": {
     "end_time": "2020-03-29T12:19:21.781389Z",
     "start_time": "2020-03-29T12:19:21.769421Z"
    }
   },
   "outputs": [],
   "source": [
    "for rkw in redundant_kws:\n",
    "    for k in feats.keys():\n",
    "        try:\n",
    "            feats[k].remove(rkw)\n",
    "        except ValueError:\n",
    "            pass"
   ]
  },
  {
   "cell_type": "code",
   "execution_count": 18,
   "metadata": {
    "ExecuteTime": {
     "end_time": "2020-03-29T12:19:21.948867Z",
     "start_time": "2020-03-29T12:19:21.791364Z"
    }
   },
   "outputs": [
    {
     "name": "stdout",
     "output_type": "stream",
     "text": [
      "national 130\n",
      "sports 134\n",
      "world 131\n",
      "politics 139\n",
      "technology 135\n",
      "entertainment 130\n",
      "hatke 135\n"
     ]
    }
   ],
   "source": [
    "for k, v in feats.items():\n",
    "    print(k, len(v))"
   ]
  },
  {
   "cell_type": "code",
   "execution_count": 19,
   "metadata": {
    "ExecuteTime": {
     "end_time": "2020-03-29T12:19:22.036876Z",
     "start_time": "2020-03-29T12:19:21.951863Z"
    }
   },
   "outputs": [],
   "source": [
    "DIR = \"E:/Models/News-Taging-Association-Rules/\"\n",
    "json.dump(feats, open(DIR+'association-rules.json', 'w'))"
   ]
  },
  {
   "cell_type": "code",
   "execution_count": null,
   "metadata": {},
   "outputs": [],
   "source": []
  }
 ],
 "metadata": {
  "kernelspec": {
   "display_name": "Python 3",
   "language": "python",
   "name": "python3"
  },
  "language_info": {
   "codemirror_mode": {
    "name": "ipython",
    "version": 3
   },
   "file_extension": ".py",
   "mimetype": "text/x-python",
   "name": "python",
   "nbconvert_exporter": "python",
   "pygments_lexer": "ipython3",
   "version": "3.7.3"
  },
  "toc": {
   "base_numbering": 1,
   "nav_menu": {},
   "number_sections": true,
   "sideBar": true,
   "skip_h1_title": false,
   "title_cell": "Table of Contents",
   "title_sidebar": "Contents",
   "toc_cell": false,
   "toc_position": {},
   "toc_section_display": true,
   "toc_window_display": false
  },
  "varInspector": {
   "cols": {
    "lenName": 16,
    "lenType": 16,
    "lenVar": 40
   },
   "kernels_config": {
    "python": {
     "delete_cmd_postfix": "",
     "delete_cmd_prefix": "del ",
     "library": "var_list.py",
     "varRefreshCmd": "print(var_dic_list())"
    },
    "r": {
     "delete_cmd_postfix": ") ",
     "delete_cmd_prefix": "rm(",
     "library": "var_list.r",
     "varRefreshCmd": "cat(var_dic_list()) "
    }
   },
   "position": {
    "height": "503px",
    "left": "996px",
    "right": "20px",
    "top": "120px",
    "width": "350px"
   },
   "types_to_exclude": [
    "module",
    "function",
    "builtin_function_or_method",
    "instance",
    "_Feature"
   ],
   "window_display": false
  }
 },
 "nbformat": 4,
 "nbformat_minor": 2
}
