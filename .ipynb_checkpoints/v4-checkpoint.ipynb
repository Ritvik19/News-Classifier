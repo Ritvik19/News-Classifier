{
 "cells": [
  {
   "cell_type": "markdown",
   "metadata": {},
   "source": [
    "# Libraries"
   ]
  },
  {
   "cell_type": "code",
   "execution_count": 1,
   "metadata": {
    "ExecuteTime": {
     "end_time": "2019-05-20T08:44:17.013928Z",
     "start_time": "2019-05-20T08:44:12.992097Z"
    }
   },
   "outputs": [],
   "source": [
    "import numpy as np\n",
    "import pandas as pd\n",
    "import matplotlib.pyplot as plt"
   ]
  },
  {
   "cell_type": "code",
   "execution_count": 2,
   "metadata": {
    "ExecuteTime": {
     "end_time": "2019-05-20T08:45:25.409409Z",
     "start_time": "2019-05-20T08:45:25.405171Z"
    }
   },
   "outputs": [],
   "source": [
    "from ipywidgets import interact, interactive, fixed, interact_manual\n",
    "import ipywidgets as widgets"
   ]
  },
  {
   "cell_type": "markdown",
   "metadata": {},
   "source": [
    "# Data"
   ]
  },
  {
   "cell_type": "code",
   "execution_count": 3,
   "metadata": {
    "ExecuteTime": {
     "end_time": "2019-05-20T08:45:26.209324Z",
     "start_time": "2019-05-20T08:45:26.172203Z"
    }
   },
   "outputs": [],
   "source": [
    "data = pd.read_csv('InshortsScraped.csv')"
   ]
  },
  {
   "cell_type": "code",
   "execution_count": 4,
   "metadata": {
    "ExecuteTime": {
     "end_time": "2019-05-20T08:45:26.572428Z",
     "start_time": "2019-05-20T08:45:26.558883Z"
    }
   },
   "outputs": [
    {
     "data": {
      "text/plain": [
       "(5373, 8)"
      ]
     },
     "execution_count": 4,
     "metadata": {},
     "output_type": "execute_result"
    }
   ],
   "source": [
    "data.shape"
   ]
  },
  {
   "cell_type": "code",
   "execution_count": 5,
   "metadata": {
    "ExecuteTime": {
     "end_time": "2019-05-20T08:45:26.949018Z",
     "start_time": "2019-05-20T08:45:26.928278Z"
    }
   },
   "outputs": [
    {
     "data": {
      "text/html": [
       "<div>\n",
       "<style scoped>\n",
       "    .dataframe tbody tr th:only-of-type {\n",
       "        vertical-align: middle;\n",
       "    }\n",
       "\n",
       "    .dataframe tbody tr th {\n",
       "        vertical-align: top;\n",
       "    }\n",
       "\n",
       "    .dataframe thead th {\n",
       "        text-align: right;\n",
       "    }\n",
       "</style>\n",
       "<table border=\"1\" class=\"dataframe\">\n",
       "  <thead>\n",
       "    <tr style=\"text-align: right;\">\n",
       "      <th></th>\n",
       "      <th>news</th>\n",
       "      <th>national</th>\n",
       "      <th>sports</th>\n",
       "      <th>world</th>\n",
       "      <th>politics</th>\n",
       "      <th>technology</th>\n",
       "      <th>entertainment</th>\n",
       "      <th>hatke</th>\n",
       "    </tr>\n",
       "  </thead>\n",
       "  <tbody>\n",
       "    <tr>\n",
       "      <th>0</th>\n",
       "      <td>7 IITs among India's top higher education inst...</td>\n",
       "      <td>1</td>\n",
       "      <td>0</td>\n",
       "      <td>0</td>\n",
       "      <td>0</td>\n",
       "      <td>0</td>\n",
       "      <td>0</td>\n",
       "      <td>0</td>\n",
       "    </tr>\n",
       "    <tr>\n",
       "      <th>1</th>\n",
       "      <td>They forget she's 14: Devgn on trolls criticis...</td>\n",
       "      <td>0</td>\n",
       "      <td>0</td>\n",
       "      <td>0</td>\n",
       "      <td>0</td>\n",
       "      <td>0</td>\n",
       "      <td>1</td>\n",
       "      <td>0</td>\n",
       "    </tr>\n",
       "    <tr>\n",
       "      <th>2</th>\n",
       "      <td>Haven't earned so much that I can wear new clo...</td>\n",
       "      <td>0</td>\n",
       "      <td>0</td>\n",
       "      <td>0</td>\n",
       "      <td>0</td>\n",
       "      <td>0</td>\n",
       "      <td>1</td>\n",
       "      <td>0</td>\n",
       "    </tr>\n",
       "    <tr>\n",
       "      <th>3</th>\n",
       "      <td>Fans in US sing Desi Girl for Priyanka outside...</td>\n",
       "      <td>0</td>\n",
       "      <td>0</td>\n",
       "      <td>0</td>\n",
       "      <td>0</td>\n",
       "      <td>0</td>\n",
       "      <td>1</td>\n",
       "      <td>0</td>\n",
       "    </tr>\n",
       "    <tr>\n",
       "      <th>4</th>\n",
       "      <td>Dhoni bhai was very angry, he hugged me after ...</td>\n",
       "      <td>0</td>\n",
       "      <td>1</td>\n",
       "      <td>0</td>\n",
       "      <td>0</td>\n",
       "      <td>0</td>\n",
       "      <td>0</td>\n",
       "      <td>0</td>\n",
       "    </tr>\n",
       "  </tbody>\n",
       "</table>\n",
       "</div>"
      ],
      "text/plain": [
       "                                                news  national  sports  world  \\\n",
       "0  7 IITs among India's top higher education inst...         1       0      0   \n",
       "1  They forget she's 14: Devgn on trolls criticis...         0       0      0   \n",
       "2  Haven't earned so much that I can wear new clo...         0       0      0   \n",
       "3  Fans in US sing Desi Girl for Priyanka outside...         0       0      0   \n",
       "4  Dhoni bhai was very angry, he hugged me after ...         0       1      0   \n",
       "\n",
       "   politics  technology  entertainment  hatke  \n",
       "0         0           0              0      0  \n",
       "1         0           0              1      0  \n",
       "2         0           0              1      0  \n",
       "3         0           0              1      0  \n",
       "4         0           0              0      0  "
      ]
     },
     "execution_count": 5,
     "metadata": {},
     "output_type": "execute_result"
    }
   ],
   "source": [
    "data.head()"
   ]
  },
  {
   "cell_type": "code",
   "execution_count": 6,
   "metadata": {
    "ExecuteTime": {
     "end_time": "2019-05-20T08:45:27.309128Z",
     "start_time": "2019-05-20T08:45:27.248182Z"
    }
   },
   "outputs": [
    {
     "data": {
      "text/html": [
       "<div>\n",
       "<style scoped>\n",
       "    .dataframe tbody tr th:only-of-type {\n",
       "        vertical-align: middle;\n",
       "    }\n",
       "\n",
       "    .dataframe tbody tr th {\n",
       "        vertical-align: top;\n",
       "    }\n",
       "\n",
       "    .dataframe thead th {\n",
       "        text-align: right;\n",
       "    }\n",
       "</style>\n",
       "<table border=\"1\" class=\"dataframe\">\n",
       "  <thead>\n",
       "    <tr style=\"text-align: right;\">\n",
       "      <th></th>\n",
       "      <th>national</th>\n",
       "      <th>sports</th>\n",
       "      <th>world</th>\n",
       "      <th>politics</th>\n",
       "      <th>technology</th>\n",
       "      <th>entertainment</th>\n",
       "      <th>hatke</th>\n",
       "    </tr>\n",
       "  </thead>\n",
       "  <tbody>\n",
       "    <tr>\n",
       "      <th>count</th>\n",
       "      <td>5373.000000</td>\n",
       "      <td>5373.000000</td>\n",
       "      <td>5373.000000</td>\n",
       "      <td>5373.000000</td>\n",
       "      <td>5373.000000</td>\n",
       "      <td>5373.000000</td>\n",
       "      <td>5373.000000</td>\n",
       "    </tr>\n",
       "    <tr>\n",
       "      <th>mean</th>\n",
       "      <td>0.284571</td>\n",
       "      <td>0.169551</td>\n",
       "      <td>0.130281</td>\n",
       "      <td>0.247720</td>\n",
       "      <td>0.180905</td>\n",
       "      <td>0.127862</td>\n",
       "      <td>0.009864</td>\n",
       "    </tr>\n",
       "    <tr>\n",
       "      <th>std</th>\n",
       "      <td>0.451252</td>\n",
       "      <td>0.375273</td>\n",
       "      <td>0.336644</td>\n",
       "      <td>0.431729</td>\n",
       "      <td>0.384975</td>\n",
       "      <td>0.333967</td>\n",
       "      <td>0.098836</td>\n",
       "    </tr>\n",
       "    <tr>\n",
       "      <th>min</th>\n",
       "      <td>0.000000</td>\n",
       "      <td>0.000000</td>\n",
       "      <td>0.000000</td>\n",
       "      <td>0.000000</td>\n",
       "      <td>0.000000</td>\n",
       "      <td>0.000000</td>\n",
       "      <td>0.000000</td>\n",
       "    </tr>\n",
       "    <tr>\n",
       "      <th>25%</th>\n",
       "      <td>0.000000</td>\n",
       "      <td>0.000000</td>\n",
       "      <td>0.000000</td>\n",
       "      <td>0.000000</td>\n",
       "      <td>0.000000</td>\n",
       "      <td>0.000000</td>\n",
       "      <td>0.000000</td>\n",
       "    </tr>\n",
       "    <tr>\n",
       "      <th>50%</th>\n",
       "      <td>0.000000</td>\n",
       "      <td>0.000000</td>\n",
       "      <td>0.000000</td>\n",
       "      <td>0.000000</td>\n",
       "      <td>0.000000</td>\n",
       "      <td>0.000000</td>\n",
       "      <td>0.000000</td>\n",
       "    </tr>\n",
       "    <tr>\n",
       "      <th>75%</th>\n",
       "      <td>1.000000</td>\n",
       "      <td>0.000000</td>\n",
       "      <td>0.000000</td>\n",
       "      <td>0.000000</td>\n",
       "      <td>0.000000</td>\n",
       "      <td>0.000000</td>\n",
       "      <td>0.000000</td>\n",
       "    </tr>\n",
       "    <tr>\n",
       "      <th>max</th>\n",
       "      <td>1.000000</td>\n",
       "      <td>1.000000</td>\n",
       "      <td>1.000000</td>\n",
       "      <td>1.000000</td>\n",
       "      <td>1.000000</td>\n",
       "      <td>1.000000</td>\n",
       "      <td>1.000000</td>\n",
       "    </tr>\n",
       "  </tbody>\n",
       "</table>\n",
       "</div>"
      ],
      "text/plain": [
       "          national       sports        world     politics   technology  \\\n",
       "count  5373.000000  5373.000000  5373.000000  5373.000000  5373.000000   \n",
       "mean      0.284571     0.169551     0.130281     0.247720     0.180905   \n",
       "std       0.451252     0.375273     0.336644     0.431729     0.384975   \n",
       "min       0.000000     0.000000     0.000000     0.000000     0.000000   \n",
       "25%       0.000000     0.000000     0.000000     0.000000     0.000000   \n",
       "50%       0.000000     0.000000     0.000000     0.000000     0.000000   \n",
       "75%       1.000000     0.000000     0.000000     0.000000     0.000000   \n",
       "max       1.000000     1.000000     1.000000     1.000000     1.000000   \n",
       "\n",
       "       entertainment        hatke  \n",
       "count    5373.000000  5373.000000  \n",
       "mean        0.127862     0.009864  \n",
       "std         0.333967     0.098836  \n",
       "min         0.000000     0.000000  \n",
       "25%         0.000000     0.000000  \n",
       "50%         0.000000     0.000000  \n",
       "75%         0.000000     0.000000  \n",
       "max         1.000000     1.000000  "
      ]
     },
     "execution_count": 6,
     "metadata": {},
     "output_type": "execute_result"
    }
   ],
   "source": [
    "data.describe()"
   ]
  },
  {
   "cell_type": "markdown",
   "metadata": {},
   "source": [
    "# Data Preprocesing"
   ]
  },
  {
   "cell_type": "markdown",
   "metadata": {},
   "source": [
    "## Data Cleaning"
   ]
  },
  {
   "cell_type": "code",
   "execution_count": 7,
   "metadata": {
    "ExecuteTime": {
     "end_time": "2019-05-20T08:45:29.432719Z",
     "start_time": "2019-05-20T08:45:28.000240Z"
    }
   },
   "outputs": [],
   "source": [
    "import nltk, re\n",
    "from nltk.stem.porter import PorterStemmer\n",
    "from nltk.stem import WordNetLemmatizer\n",
    "import langdetect\n",
    "\n",
    "def spell_correct(text):\n",
    "    text = re.sub(r\"can\\'t\", \"can not\", text)\n",
    "    text = re.sub(r\"what's\", \"what is \", text)\n",
    "    text = re.sub(r\"\\'s\", \" \", text)\n",
    "    text = re.sub(r\"\\'ve\", \" have \", text)\n",
    "    text = re.sub(r\"n't\", \" not \", text)\n",
    "    text = re.sub(r\"i'm\", \"i am \", text)\n",
    "    text = re.sub(r\"\\'re\", \" are \", text)\n",
    "    text = re.sub(r\"\\'d\", \" would \", text)\n",
    "    text = re.sub(r\"\\'ll\", \" will \", text)\n",
    "    text = re.sub(r\"\\0s\", \"0\", text)    \n",
    "    return text\n",
    "\n",
    "def remove_url(text):\n",
    "    URL_REGEX = re.compile(r'''((http[s]?://)[^ <>'\"{}|\\\\^`[\\]]*)''')\n",
    "    return URL_REGEX.sub(r' ', text)\n",
    "\n",
    "remove_punc = lambda x : re.sub(r\"\\W\", ' ', x)\n",
    "\n",
    "remove_num = lambda x : re.sub(r\"\\d\", ' ', x)\n",
    "\n",
    "remove_extra_spaces = lambda x : re.sub(r\"\\s+\", ' ', x)\n",
    "\n",
    "lower_case = lambda x : x.lower()\n",
    "\n",
    "stop_words = set(nltk.corpus.stopwords.words('english'))\n",
    "remove_stopwords = lambda x: ' '.join(word for word in x.split() if word not in stop_words)\n",
    "\n",
    "ps = PorterStemmer()\n",
    "ps_stem = lambda x: ' '.join(ps.stem(word) for word in x.split())\n",
    "\n",
    "wnl = WordNetLemmatizer()\n",
    "wnl_lemmatize = lambda x: ' '.join(wnl.lemmatize(word) for word in x.split())\n",
    "\n",
    "def tag_pos(x):\n",
    "    tag_list =  nltk.pos_tag(nltk.word_tokenize(x))\n",
    "    pos = \"\"\n",
    "    for t in tag_list:\n",
    "        pos += t[0] +'(' + t[1] +')' + ' '\n",
    "    return pos\n",
    "\n",
    "def cleanText(x, rsw, stm, lem, tgps):\n",
    "    x = str(x)\n",
    "    x = remove_url(x)\n",
    "    x = lower_case(x)\n",
    "    x = spell_correct(x)\n",
    "    x = remove_punc(x)\n",
    "    x = remove_num(x)\n",
    "    x = remove_extra_spaces(x)\n",
    "    \n",
    "    if rsw:\n",
    "        x = remove_stopwords(x)\n",
    "    if stm:\n",
    "        x = ps_stem(x)\n",
    "    if lem:\n",
    "        x = wnl_lemmatize(x)\n",
    "    if tgps:\n",
    "        x = tag_pos(x)\n",
    "    return x"
   ]
  },
  {
   "cell_type": "code",
   "execution_count": 8,
   "metadata": {
    "ExecuteTime": {
     "end_time": "2019-05-20T08:45:30.078003Z",
     "start_time": "2019-05-20T08:45:29.775684Z"
    }
   },
   "outputs": [],
   "source": [
    "data['news_c'] = data['news'].apply(lambda x : cleanText(x, True, False, False, False))"
   ]
  },
  {
   "cell_type": "markdown",
   "metadata": {},
   "source": [
    "## Vectorizing"
   ]
  },
  {
   "cell_type": "code",
   "execution_count": 9,
   "metadata": {
    "ExecuteTime": {
     "end_time": "2019-05-20T08:45:30.428061Z",
     "start_time": "2019-05-20T08:45:30.422079Z"
    }
   },
   "outputs": [],
   "source": [
    "from sklearn.feature_extraction.text import TfidfVectorizer"
   ]
  },
  {
   "cell_type": "code",
   "execution_count": 10,
   "metadata": {
    "ExecuteTime": {
     "end_time": "2019-05-20T08:45:31.055347Z",
     "start_time": "2019-05-20T08:45:30.818904Z"
    }
   },
   "outputs": [],
   "source": [
    "vectorizer = TfidfVectorizer()\n",
    "vectorizer.fit(data['news_c'])\n",
    "vector = vectorizer.transform(data['news_c'])"
   ]
  },
  {
   "cell_type": "code",
   "execution_count": 11,
   "metadata": {
    "ExecuteTime": {
     "end_time": "2019-05-20T08:45:31.453085Z",
     "start_time": "2019-05-20T08:45:31.446235Z"
    }
   },
   "outputs": [],
   "source": [
    "Y = data.drop(['news', 'news_c'], axis = 1)"
   ]
  },
  {
   "cell_type": "markdown",
   "metadata": {},
   "source": [
    "# Machine Learning"
   ]
  },
  {
   "cell_type": "code",
   "execution_count": 12,
   "metadata": {
    "ExecuteTime": {
     "end_time": "2019-05-20T08:45:32.890609Z",
     "start_time": "2019-05-20T08:45:32.885623Z"
    }
   },
   "outputs": [],
   "source": [
    "from sklearn.model_selection import train_test_split"
   ]
  },
  {
   "cell_type": "code",
   "execution_count": 13,
   "metadata": {
    "ExecuteTime": {
     "end_time": "2019-05-20T08:45:33.480053Z",
     "start_time": "2019-05-20T08:45:33.468246Z"
    }
   },
   "outputs": [],
   "source": [
    "X_train, X_test, Y_train, Y_test = train_test_split(vector, Y, test_size=0.33, random_state=42)"
   ]
  },
  {
   "cell_type": "code",
   "execution_count": 14,
   "metadata": {
    "ExecuteTime": {
     "end_time": "2019-05-20T08:45:34.301756Z",
     "start_time": "2019-05-20T08:45:34.294904Z"
    }
   },
   "outputs": [],
   "source": [
    "from sklearn.metrics import classification_report, confusion_matrix, f1_score, accuracy_score"
   ]
  },
  {
   "cell_type": "code",
   "execution_count": 15,
   "metadata": {
    "ExecuteTime": {
     "end_time": "2019-05-20T08:45:35.168276Z",
     "start_time": "2019-05-20T08:45:35.129107Z"
    }
   },
   "outputs": [],
   "source": [
    "from sklearn.linear_model import LogisticRegression\n",
    "from sklearn.naive_bayes import MultinomialNB\n",
    "from sklearn.tree import DecisionTreeClassifier\n",
    "from sklearn.linear_model import SGDClassifier"
   ]
  },
  {
   "cell_type": "code",
   "execution_count": 16,
   "metadata": {
    "ExecuteTime": {
     "end_time": "2019-05-20T08:45:36.212963Z",
     "start_time": "2019-05-20T08:45:35.954114Z"
    },
    "scrolled": true
   },
   "outputs": [
    {
     "data": {
      "application/vnd.jupyter.widget-view+json": {
       "model_id": "5d2f134920ff4eda8105df4a8c9461ee",
       "version_major": 2,
       "version_minor": 0
      },
      "text/plain": [
       "interactive(children=(Dropdown(description='algo', options=('LR', 'MNB', 'DTC', 'SGDC'), value='LR'), Output()…"
      ]
     },
     "metadata": {},
     "output_type": "display_data"
    }
   ],
   "source": [
    "model_scores = pd.DataFrame()\n",
    "model_accuracies = pd.DataFrame()\n",
    "algo_dict = {\n",
    "    'LR': LogisticRegression,\n",
    "    'MNB': MultinomialNB,\n",
    "    'DTC': DecisionTreeClassifier,\n",
    "    'SGDC': SGDClassifier\n",
    "}\n",
    "@interact\n",
    "def machinelearing(algo = ['LR', 'MNB', 'DTC', 'SGDC']):\n",
    "    modelscores = []\n",
    "    for col in ['national', 'sports', 'world', 'politics', 'technology', 'entertainment', 'hatke']:\n",
    "        print(col)\n",
    "        model = algo_dict[algo]()\n",
    "        model.fit(X_train, Y_train[col])\n",
    "        y_pred = model.predict(X_test)\n",
    "        print(confusion_matrix(Y_test[col], y_pred))\n",
    "        print(classification_report(Y_test[col], y_pred))\n",
    "        modelscores.append((f1_score(Y_test[col], y_pred), accuracy_score(Y_test[col], y_pred)))\n",
    "    model_scores[algo] = list(map(lambda x : x[0], modelscores))\n",
    "    model_accuracies[algo] = list(map(lambda x : x[1], modelscores))"
   ]
  },
  {
   "cell_type": "markdown",
   "metadata": {},
   "source": [
    "## Performance Evaluation"
   ]
  },
  {
   "cell_type": "code",
   "execution_count": 17,
   "metadata": {
    "ExecuteTime": {
     "end_time": "2019-05-20T08:45:55.202172Z",
     "start_time": "2019-05-20T08:45:54.537631Z"
    }
   },
   "outputs": [
    {
     "data": {
      "image/png": "[encoded data removed]",
      "text/plain": [
       "<Figure size 1080x432 with 2 Axes>"
      ]
     },
     "metadata": {
      "needs_background": "light"
     },
     "output_type": "display_data"
    }
   ],
   "source": [
    "fig, ax = plt.subplots(nrows=1, ncols=2, figsize=(15,6))\n",
    "for x in model_scores:\n",
    "    ax[0].plot(model_scores[x], '--o',label=x)\n",
    "ax[0].title.set_text('F1 Score')\n",
    "ax[0].legend()\n",
    "\n",
    "for x in model_accuracies:\n",
    "    ax[1].plot(model_accuracies[x], '--o',label=x)\n",
    "ax[1].title.set_text('Accuracy')\n",
    "ax[1].legend()\n",
    "\n",
    "plt.show()"
   ]
  },
  {
   "cell_type": "markdown",
   "metadata": {},
   "source": [
    "### Tweet Data"
   ]
  },
  {
   "cell_type": "code",
   "execution_count": 19,
   "metadata": {
    "ExecuteTime": {
     "end_time": "2019-05-20T08:46:27.299196Z",
     "start_time": "2019-05-20T08:46:19.602065Z"
    }
   },
   "outputs": [
    {
     "name": "stderr",
     "output_type": "stream",
     "text": [
      "D:\\Users\\Ritvik\\Anaconda3\\envs\\datascience\\lib\\site-packages\\sklearn\\linear_model\\logistic.py:433: FutureWarning: Default solver will be changed to 'lbfgs' in 0.22. Specify a solver to silence this warning.\n",
      "  FutureWarning)\n"
     ]
    },
    {
     "name": "stdout",
     "output_type": "stream",
     "text": [
      "ML Models Trained\n"
     ]
    },
    {
     "name": "stderr",
     "output_type": "stream",
     "text": [
      "D:\\Users\\Ritvik\\Anaconda3\\envs\\datascience\\lib\\site-packages\\sklearn\\linear_model\\stochastic_gradient.py:166: FutureWarning: max_iter and tol parameters have been added in SGDClassifier in 0.19. If both are left unset, they default to max_iter=5 and tol=None. If tol is not None, max_iter defaults to max_iter=1000. From 0.21, default max_iter will be 1000, and default tol will be 1e-3.\n",
      "  FutureWarning)\n"
     ]
    }
   ],
   "source": [
    "labels = ['national', 'sports', 'world', 'politics', 'technology', 'entertainment', 'hatke']\n",
    "\n",
    "LR = [LogisticRegression()]*7\n",
    "for i in range(7):\n",
    "    LR[i].fit(vector, Y[labels[i]])\n",
    "    \n",
    "MNB = [MultinomialNB()]*7\n",
    "for i in range(7):\n",
    "    MNB[i].fit(vector, Y[labels[i]])\n",
    "    \n",
    "DTC = [DecisionTreeClassifier()]*7\n",
    "for i in range(7):\n",
    "    DTC[i].fit(vector, Y[labels[i]])\n",
    "\n",
    "SGDC = [SGDClassifier()]*7\n",
    "for i in range(7):\n",
    "    SGDC[i].fit(vector, Y[labels[i]])\n",
    "    \n",
    "print('ML Models Trained')"
   ]
  },
  {
   "cell_type": "code",
   "execution_count": 20,
   "metadata": {
    "ExecuteTime": {
     "end_time": "2019-05-20T08:46:31.317686Z",
     "start_time": "2019-05-20T08:46:31.302075Z"
    }
   },
   "outputs": [],
   "source": [
    "def classify(text):\n",
    "    text = cleanText(text, True, False, False, False)\n",
    "    vect = vectorizer.transform([text])\n",
    "    LRtags = []\n",
    "    for i in range(7):\n",
    "        if LR[i].predict(vect)[0]:\n",
    "            LRtags.append(labels[i])\n",
    "    MNBtags = []\n",
    "    for i in range(7):\n",
    "        if MNB[i].predict(vect)[0]:\n",
    "            MNBtags.append(labels[i])\n",
    "    DTCtags = []\n",
    "    for i in range(7):\n",
    "        if DTC[i].predict(vect)[0]:\n",
    "            DTCtags.append(labels[i])\n",
    "    SGDCtags = []\n",
    "    for i in range(7):\n",
    "        if SGDC[i].predict(vect)[0]:\n",
    "            SGDCtags.append(labels[i])\n",
    "    return (LRtags, MNBtags, DTCtags, SGDCtags)"
   ]
  },
  {
   "cell_type": "code",
   "execution_count": 21,
   "metadata": {
    "ExecuteTime": {
     "end_time": "2019-05-20T08:46:36.284735Z",
     "start_time": "2019-05-20T08:46:34.287125Z"
    }
   },
   "outputs": [
    {
     "name": "stdout",
     "output_type": "stream",
     "text": [
      "Help needed here\r",
      "  #WeStandWithElijah\r",
      "  #Chiefs #Caturday #ChapmanU #DareToShine #DiálogoYPaz #Dia26EuVou… https://t.co/spy8Y2gSDA  Help needed here\r",
      "  #TakingThemBackToSchool\r",
      "  #Chiefs #Caturday #ChapmanU #DareToShine #DiálogoYPaz #Dia26EuVou… https://t.co/MMAHsAesFy  @PrisonPlanet Mr. Watson pls help us support President Bolsonaro, we're going back to the streets this 26th… https://t.co/sfwYgi9huU\n",
      "Real Madrid 0:2 Real Betis Balompie\r",
      "   Events\r",
      "  61' Loren Moron ( Andres Guardado) \r",
      "   Highlights Search & Post Match Rev… https://t.co/Z4NuELn9LC  Real Madrid 0:2 Real Betis Balompie\r",
      "   Events\r",
      "  61' Loren Moron ( Andres Guardado) \r",
      "   Highlights Search & Post Match Rev… https://t.co/mJ5eHOtpAZ  Reports: Zinedine Zidane could resign from Real Madrid job if Juventus hire World Cup winner https://t.co/3j1JaT8THq https://t.co/HYOIxNol5b\n",
      "I gotta tell ya This whole Zidane vs Bale thing is more entertaining than RM's whole season.\r",
      "  #RMABET #Bale #Zidane  @SkyFootball @SkySportsPL Gareth Bale was fit in the team when his cycle kick was winning Real Madrid and Zidane th… https://t.co/1ig752ChaK  Track LIVE #YouTube Statistics for MBL - Movimento Brasil Livre at https://t.co/WNZhQZqROe @SocialBlade  #MBLtraidoresdaPatria\n",
      "Updown updown abab select start #dateyourselfin5words https://t.co/8QDESXxq0N  @b_jax Christmas: brand new Atari 2600. \r",
      "   #dateyourselfin5words  Passionately singing along to the theme song of dark wing duck #dateyourselfin5words https://t.co/l4ZZrc6MgP\n",
      "I had no belief on exit polls then i get the statics of NDTV then i got confirmed that NDA is winning #ExitPoll2019… https://t.co/g7zugWehq6  If I compare scenario 2014 & 2019 election NDA & BJP will get more seats.Ppl decided that having a PM like Modi is… https://t.co/gFTS5fTCwq  #AajTakAxisExitPoll Slap On The Face of Congress or #INCINDIA Family & Co Parties For Their AntiNational Statements… https://t.co/CPZ5Uj59qb\n",
      "#ExitPolls NDA may get 9, UPA likely to win 29 seats in Tamil Nadu: Times Now-VMR exit poll.\r",
      "  #May23WithTimesNow #TimesNowExitPoll #TamilNadu  Exit Poll 2019 UP: Times Now-VMR exit poll predicts clear victory for BJP-led NDA with 306 seats | India News - Tim… https://t.co/vUSpZstFGU  Exit Poll Results 2019 LIVE: Times Now-VMR says BJP likely to win big in WB; Mamata calls exit polls 'gossip' | Ind… https://t.co/D6pOwtUdXW\n",
      "A chat with England’s unsung one-day hero - Adil Rashid, the leading ODI wicket-taker since the last World Cup https://t.co/5KWqxPjXXe  Adil Rashid is creating his own fielding highlights today. A brilliant improvised run out & a stunning one handed catch 👏🏻 #ODI #ENGvPAK  Brilliant reverse hit from Adil Rashid to break a mammoth 146 run partnership.\r",
      "  Babar Bradman run out for 80 off 83\n",
      "#Bihar exit poll results 2019 Lok Sabha Live Updates: BJP-led #NDA may win all seats, says survey #ExitPolls,… https://t.co/AlVDA2s8xN  #Karnataka exit poll results 2019 Lok Sabha Live Updates: BJP may win over 20 seats - Surveys #ExitPolls… https://t.co/VzhOO50cJf  @cobwebsophie Idk if this will end well bro 😂\r",
      "   I'm already in my feels because I couldnt  Narrate the… https://t.co/QWpsSDTJjy\n",
      "just realized tomorrow's episode is going to be the last episode of game of thrones EVER! #GameOfThronesFinale https://t.co/F2E9w4FEoi  @DN_NowPlaying Idk if this will end well bro 😂\r",
      "   I'm already in my feels because I couldnt  Narrate the… https://t.co/FD2fPsWSaV  DMK Set to Win Over 26 Seats in Tamil Nadu, Say Poll Pundits https://t.co/GaSS2tlXRk via @Latestly #ExitPolls2019 #ExitPollResults #ExitPoll\n",
      "Assam To Go BJP Way, Party May Win 10-13 Seats Here, Say Poll Pundits https://t.co/GaSS2t4mZM via @Latestly… https://t.co/wLqcKbhHrs  Exit Poll Results of Lok Sabha Elections 2019: BJP-Led NDA to Win 306 Seats, UPA May Get 132, Says Times Now… https://t.co/YQ4Dox6Cpn  #LaLiga - RESULT:\r",
      "   Eibar 2 - 2 Barcelona \r",
      "   Barcelona’s final game of the season ends in a draw against Eibar. https://t.co/1GTJ3dJSGm\n",
      "Sad to see teams like Eibar running circles around Barça and us chasing them for 70 mins.  BJP to get 300 seats, NDA to touch 350 seats (-14). UPA to get 95 seats (+-9). Others to get 97 seats (+-11)… https://t.co/4f3Is5LHGy  @5Forty3 Modi wave sweeps India: \r",
      "   #News24TodaysChanakya Exit Poll Overall (Total) Tally:\r",
      "   Seat:\r",
      "   BJP+ (NDA): 350\r",
      "  C… https://t.co/SdOZmaopiK\n",
      "Modi wave sweeps India: \r",
      "   #News24TodaysChanakya Exit Poll Overall (Total) Tally:\r",
      "   Seat:\r",
      "   BJP+ (NDA): 350\r",
      "  Cong+ (UPA… https://t.co/rmLS9yWUMU  Novak Djokovic vs Rafael Nadal \r",
      "   Live Stream \r",
      "   Italian Open Final\r",
      "   Go Live::>> https://t.co/18Vl1Qx6Bp\r",
      "   Go Live::>>… https://t.co/pI1Drt2Tox  Novak Djokovic vs Rafael Nadal \r",
      "   Live Stream \r",
      "   Italian Open Final\r",
      "   Go Live::>> https://t.co/ECwnPIek2H\r",
      "   Go Live::>>… https://t.co/KuaLVlG1VT\n",
      "Nadal vs Djokovic Final Live Stream Online\r",
      "   Live Stream:>> https://t.co/ew2zgzKwju\r",
      "   Live Stream:>>… https://t.co/qsJHeSyvnw  i think all got fans can come together and agree that this ending will most likely be shit, but it's fine! #thefinalepisode  Whatever happens on #TheFinalEpisode, I'm still living for how the @GameOfThrones Instagram feed is curated! The tr… https://t.co/dULnhBboWD\n",
      "Tonight I'll watch #TheFinalEpisode as it airs regardless of whether or not it'll mess me up hours before my exam,… https://t.co/jKVoedOlud  Exit Poll Results 2019 LIVE: BJP to win 19-23 seats in Karnataka as Congress' fortunes go south\r",
      "   (link:… https://t.co/lAITlI4VQg  Exit Poll Results 2019 LIVE: BJP to win 19-23 seats in Karnataka as Congress' fortunes go south\r",
      "   https://t.co/jH5j8sG6cu\n",
      "#ExitPoll2019 suggests that the BJP failed to make electoral gains in south India\r",
      "   #TheWeek @TheWeekLive \r",
      "   https://t.co/ugMIDpFFe0  @free_thinker @smitaprakash did u forgot one of ur reporter in UP took blessings from CM ajay Singh bhist. Then who… https://t.co/lLWvwpKjlN  @arungiri Unable to digest the numbers from Maha, MP, RAJ,  KA & even Bihar/UP.\r",
      "  IF BJP didn't lose minimum 60+ seat… https://t.co/wtGBFrABQT\n",
      "Exit Poll Results UP, Bihar LIVE: North India to Turn Saffron Again? Pollsters Divided, SP-BSP May Dent BJP Hopes\r",
      "   https://t.co/Yl32qHUWzR  #aajtakexitpoll BJP ka violence ke bare me koi nahi kahta,  used all democratic agencies to suppress, subdue and fi… https://t.co/cVmu0BRt8G  #aajtakexitpoll \r",
      "  I completely disagree with panelist Mr Ashutosh.\r",
      "  He is trying to save his ground.\r",
      "  I want to see hi… https://t.co/8DJ8i7xZQI\n",
      "#aajtakexitpoll\r",
      "  NDA goin 2 lead Country this time also. Bengal violence black day 4 Bharat. Ppl shouldn't   entertain this typ of politician  PAK vs ENG 5th ODI Live Score, Pakistan vs England Live Cricket Score Online: Babar Azam hits 12th ODI fifty\r",
      "  https://t.co/KP641MOOiO  ENG vs PAK 5th ODI: Live Match In Progress - https://t.co/V5zRd1VJuo #cricket #ENG #PAK #ENGvPAK #PAKvENG\r",
      "  ENG 351/9… https://t.co/d05He1G9kF\n",
      "ENG vs PAK 5th ODI: Live Match In Progress - https://t.co/V5zRd1VJuo #cricket #ENG #PAK #ENGvPAK #PAKvENG\r",
      "  ENG 351/9… https://t.co/4ytfPosKzi  Thank you GGV @ABSCBNGGV for this wonderful and kilig overload episode with KierVi tonahh’ saya saya lang ng puso koooo \r",
      "  #GGVAngSayuuuh  @PeterToshBot Thank you so much po!. You are welcome po sa KierVi famcakes!. \r",
      "   #GGVAngSayuuuh\r",
      "  @hashtag_CK\r",
      "  @vivoree\n",
      "Thank you smch again @ABSCBNGGV meme @vicegandako for having @hashtag_CK @vivoree sana sa uulitin po!\r",
      "   #GGVAngSayuuuh  Chhattisgarh LS Seat Projection\r",
      "  BJP 9 ± 2 Seats \r",
      "  Congress 2 ± 2 Seats\r",
      "  Others NIL\r",
      "   chankya  editorji exit poll flash, India Today Axis predicts BJP far ahead of Congress in Rajasthan, Chhattisgarh, Madhya Pr… https://t.co/LrrQKJIuTc\n",
      "#TCPoll \r",
      "  Chhattisgarh LS Seat Projection\r",
      "  BJP 9 ± 2 Seats \r",
      "  Congress 2 ± 2 Seats\r",
      "  Others NIL  Today's Chanakya predicting 350 seats for NDA. Last Lok Sabha poll Today's Chanakya predicted 340 for NDA and they got 341. 😁  Today's Chanakya exit poll predicts 300 seats only for BJP and NDA to get 350, UPA to get 95, including 55 seats fo… https://t.co/63eFKDrZXp\n",
      "@AMISHDEVGAN Amish you should follow today's chanakya as I remember your comments last year when you saw today's ch… https://t.co/9N6I0q1npc  Team AYOGYA is overwhelmed with the positive reviews pouring in. A complete entertainer for all ages this summer !… https://t.co/w0pXFICk3C  Team AYOGYA is overwhelmed with the positive reviews pouring in. A complete entertainer for all ages this summer !… https://t.co/DmEL0JRzLt\n",
      "Team AYOGYA is overwhelmed with the positive reviews pouring in. A complete entertainer for all ages this summer !… https://t.co/1DvlBso3yX  Dear #ExitPolls warriors! Please have mercy...🙏\r",
      "   Exit poll ka analysis karte hue DU ki 56,000 seats bhi iss baar ND… https://t.co/IiEbyO2DGe  Hey folks. Switch off the TV. Throw the remote. And tune into @SunoIndia_in podcasts. I promise, you will learn som… https://t.co/4B7nU3oAYC\n",
      "#ExitPolls are like CSK reaching the IPL finals. Makes no difference to the result. The actual result of the final is what matters..  After 23, looking at exit polls, EVM- “Munni” se jyada badnaam hone wali hai. @MamataOfficial has initiated the “EV… https://t.co/eFpsrxlF3n  #RepublicExitPoll | Republic Double Exit Poll for Jharkhand: CVoter projects tilt towards UPA, Jan Ki Baat says BJP… https://t.co/7AbIu683no\n",
      "#RepublicExitPoll | Republic Double Exit poll: While CVoter projects Chandigarh's lone seat for UPA, Jan Ki Baat sa… https://t.co/BgkmpzQhcS  Exit Poll Results Maharashtra, Gujarat LIVE: News18-IPSOS Predicts BJP-Shiv Sena Sweep in Maha, Congress May Draw B… https://t.co/sxkRWdhiWO  Exit Poll Results Maharashtra, Gujarat LIVE: News18-IPSOS Predicts BJP-Shiv Sena Sweep in Maha, Congress May Draw B… https://t.co/uMz5k0iGyr\n",
      "Exit Poll Results Maharashtra, Gujarat LIVE: News18-IPSOS Predicts BJP-Shiv Sena Sweep in Maha, Congress May Draw B… https://t.co/B7haoHKMl2  I deeply in love with you,  KyungSoo \r",
      "  #SupportForKyungsoo #KyungSoo #EXO \r",
      "  @weareoneEXO @SMTOWNGLOBAL @Groovechaja @B_hundred_Hyun @layzhang  How could sm really sleep on talent \r",
      "  How could sm really sleep on kyungsoo\r",
      "   #도경수_응원할게 #SupportForKyungSoo https://t.co/Wl94IXECJP\n",
      "I love you more than I can Tweet \r",
      "  #KyungSoo #SupportForKyungsoo #EXO \r",
      "  @weareoneEXO @SMTOWNGLOBAL @Groovechaja @B_hundred_Hyun @layzhang  What a wow 😮 Tomorrow #NGK that mean NANDHA GOPALAN KUMARAN coming on live 🔥🔥🔥🤙🏾 #AskSuriya ❤️ \r",
      "   NG @Suriya_offl K… https://t.co/U3PYVQJlYQ  Get Ready Let's have some fun with our chief @Suriya_offl ♥ Anna On Twitter at 5PM tomorrow!\r",
      "   Send your questions u… https://t.co/yHabjWXxDq\n",
      "• Okayyy.. Get Ready Let's have some fun with our chief @Suriya_offl ♥ Anna On Twitter at 5PM tomorrow! Send your q… https://t.co/pME9IV7cUe  BREAKING NEWS!\r",
      "   BAGEL IS COMING!!\r",
      "   #DjokoxNadalnoSporTV\r",
      "  #TenisNoSporTV\r",
      "  #ATPMasters1000 \r",
      "  #ATPRoma\r",
      "  #Masters1000… https://t.co/rZeH3VKqL8  Por favor, Djokovic, para com esses drop shots... 😩\r",
      "  #DjokoXNadalNoSporTV\n",
      "Just wanna say thank you @U2 because you guys played this song for us at Morumbi Stadium, Sao Paulo, on that incred… https://t.co/Sxh55gi8rr  #job #wedding #openformatdj #mixemergency #pionnerdj #seratodjpro vemcomahappy @djjorginhojb em Morumbi - SP https://t.co/bmrVKYVPeY  @YesImThatNikki I go back and forth between that and vulnerability. Although one may argue you can’t have love with… https://t.co/55wMEeGizc\n",
      "@mzemek still I feel...in this kinda mood...Rafa would pretty much beat anyone ( fatigue or no fatigue) except probably Nole...  oy gevalt Nole. Congrats Rafa and fans!\r",
      "  Always here for us Nole fans, we go again soon  Hi\r",
      "  Do you want to increase google search ranking of your website by USA traffic?Please message/order me via fiverr.… https://t.co/2AL77O9vOl\n",
      "Hi\r",
      "  Do you want to increase google search ranking of your website by USA traffic?Please message/order me via fiverr.… https://t.co/pY65hEqrJT  I’m not ready I’m not ready I’m not ready I’m not ready I’m not ready I’m not ready I’m not ready #GOTFinale  @PMOIndia Sirji in advance Congratulations.  Definately BJP + will get 350+ seats. PM Sir and BJP + NDA TEAM Congratulations.\n",
      "All India Lok Sabha 2019 Exit Polls                  \r",
      "  NDA 400 ± 14 Seats\r",
      "  BJP 350 ± 14 Seats\r",
      "  Cong 25 ± 9 Seats… https://t.co/nPcqMmYOye  News24 TodaysChankaya Exit POLL: Typhoon Modi sweeps India silently... BJP seen getting 300, NDA 350 seats… https://t.co/E0p3ksFmOx  2 things must be done in Modi 2.0 :\r",
      "   1. Corrupt Maa & Beta should be in Tihar.\r",
      "  2. Ram Mandir\r",
      "   @Swamy39 #ExitPoll2019\r",
      "  #JeetegaToModiHi\n",
      "2 things must be done in Modi 2.0 :\r",
      "   1. Ram Mandir \r",
      "  2. Corrupt Maa & Beta should be in Tihar.\r",
      "   @Swamy39 #ExitPoll2019  @rishibagree Fake economist wanted RS seat for her family member ... but ab chidiya chug gayi khet..bacha ab burnol hai  @dhruv_rathee Then why did no one believe ur videos? U said same thing against modi for 5 years! Burnol laga aur ai… https://t.co/V6Vy7JWwsZ\n",
      "Breaking: Burnol out of stock in Bengal. TMC goons stashing for future heavy usage.\r",
      "   Didi may buy truck loads from… https://t.co/ccx1J9igHv  Punjab CM Capt Amrinder Singh targets his own party leader Navjot Singh Sidhu\r",
      "   Watch #IndiaTVExitPoll Live:… https://t.co/W9NmNh9q7Z  #ExitPoll2019: Ravi Kishan likely to face a tough challenge at Yogi Adityanath's turf in Gorakhpur\r",
      "   Watch… https://t.co/EEiVO6z1Ky\n",
      "#IndiaTVExitPoll | BJP predicted to bag all seven seats in Delhi; Congress, AAP may have to taste disappointment, s… https://t.co/sPFg2BBh9H  Dream, believe, achieve @ivansanchezz_ have a nice & interesting day with new adventure, new experience, new impres… https://t.co/rPFN3hhaQQ  Os deseo un #FelizDomingo a tod@s\r",
      "  Have a #HappySunday everyone\r",
      "   ON THE STREET WHERE YOU LIVE\r",
      "  Andy Williams \r",
      "  https://t.co/GAELycRypc\n",
      "Well well well! India Today Axis Poll results give BJP+ 339-368 seats JAI HO! #ModiIsBack with a huge Bang! Wow! Ho… https://t.co/rlXfEmOtvf  Leave India Today Axis Poll aside for AP... \r",
      "   Telangana lo 10-12 aa... hmmm @IndiaToday https://t.co/Z3D1BAmzhD  India Today axis poll gives 62-68 seats to BJP in Uttar Pradesh. See the tweet below and the hate I got for it https://t.co/mobuSk08aU\n",
      "@dhruv_rathee Freedom of speech was abused by all govts except during ABV and MMS govts. Maximum abuse happened dur… https://t.co/Oan8ZGD8Zx  @ndtv Consensus was there but it was a camouflage by Mr. Modi to have an elongated spell in VII phases. Hapless EC… https://t.co/FIVdw1ZLG3  @FarOutAkhtar #RememberMahatma and Spare a minute watch #ndtv report, listen to this Muslim woman who is also a Sup… https://t.co/7Zzpp0SdiJ\n",
      "Lok Sabha Elections Exit Poll Results 2019 Maharashtra LIVE updates: BJP-Shiv Sena magic pays off, NDA expected to… https://t.co/WSWYAHtGdH  @rajeev_mp So that’s how you would define BJP-Shiv Sena alliance in Maharashtra too! Middle name of politicians is ‘opportunism’  Exit Poll Results Maharashtra, Gujarat LIVE: News18-IPSOS Predicts BJP-Shiv Sena Sweep in Maha, Congress May Draw B… https://t.co/sxkRWdhiWO\n",
      "“Every single exit poll can’t be wrong!” tweets Former J&K Chief Minister Omar Abdullah as #PollOfPolls predicts ND… https://t.co/lieu2Q3RGh  #PollOfPolls | “Mr. Nitish Kumar is a very important catalyst in the working of any coalition”: Pavan Varma, JDU on… https://t.co/pNQmKFYdsm  #PollOfPolls | “Numbers of Bihar are reassuring. We expected to do well. We ran a united and effective campaign”: P… https://t.co/Zv3HaCEAv2\n",
      "Dj Khaled bought Asahd a 35k Rolex & no one said anything but are dragging future for spending 5  Yall some fucking losers lmao. Do you really think Future only got his son a rolex? Just cause he aint put the tonk… https://t.co/SxVdEp712x  Nigga make controversy out everything .. nigga feel a way about ANOTHER NIGGA and his son Rolex 😂😂 ppl really do be feeling entitled\n",
      "He's done ❤️\r",
      "  Feel free to drop some requests! I feel like drawing more characters!\r",
      "   #snk #shingeki #進撃の巨人 https://t.co/L5rMZdmep9  #AttackOnTitan #ShingekiNoKyojin #Shingeki #AOT #SNK episode 52: I currently do not accept that Hange is dead.  moblit prioritized hanji's safety like it was just pure instinct, like he didn't need to have any second thoughts #attackontitan #shingeki\n",
      "Is thr anybody who comes frm WB? if so, then wht urs prediction abt WB how many seats BJP will gain? #ExitPoll2019… https://t.co/NKtwSeadsh  @snsachinnandu Who is this IPSOS ...CNN NEWS18 is giving 49% for NDA....it means 23rd  will be much bigger win...… https://t.co/1AgVzlYtjy  @Purple_Truth Who is this IPSOS ...CNN NEWS18 is giving 49% for NDA....it means 23rd  will be much bigger win...… https://t.co/eg0lAOwkX1\n",
      "Which channel has the most annoying exit poll? Factors to consider - screaming anchors, bad reporting, OTT graphics… https://t.co/8ncMWf2uMk  Never have I ever, wanted the following quote to be truer:\r",
      "   \"There are lies, damned lies and statistics.\"-- Mark Tw… https://t.co/UIEIdz8gSn  And what about the three pics here @RanaAyyub.. a repulsive display of faith that you do not even belong to! Care t… https://t.co/w9gIZsAXzI\n",
      "The away team have replaced Malcom with Carles Perez. This is the third substitution made today by Ernesto Valverde.\r",
      "    ⚽ #EibarBarça  Ernesto Valverde (FC Barcelona) is making a first substitution, with Moussa Wague replacing Nelson Semedo.\r",
      "    ⚽ #EibarBarça  Don't let Messi's master class distract you from the fact that Valverde's tactics suck. #EibarBarça\n",
      "Today's Chanakya \r",
      "   #TCPoll \r",
      "  Delhi LS Seat Projection\r",
      "  BJP 7 ± 2 Seats \r",
      "  AAP 0 ± 1 Seats\r",
      "  Congress 0 ± 1 Seats\r",
      "  Others NIL  #TCPoll \r",
      "  Haryana LS Seat Projection\r",
      "  BJP 10 ± 2 Seats \r",
      "  Congress 0 ± 2 Seats\r",
      "  INLD NIL \r",
      "  JJP + AAP NIL\r",
      "  Others NIL  #TCPoll \r",
      "  Haryana LS Seat Projection\r",
      "  BJP 10 ± 2 Seats \r",
      "  Congress 0 ± 2 Seats\r",
      "  INLD NIL \r",
      "  JJP + AAP NIL\r",
      "  Others NIL\r",
      "  #News24TodaysChanakya\n",
      "Hey @navikakumar please let this irritating person @varnishant speak else he can behave like Mamata Benerjee #TimesNowExitPoll  #TimesNowExitPoll rahul &  navika, pl choose decent & well educated panellist. We see the same set of pannelist who… https://t.co/zIj8l3iPuu  Peoples are very matured Mr.  Sanjeev Srivastav and saba Naqavi. Only You peoples are left to support @INCIndia #TimesNowExitPoll\n",
      "The company of a person affects his thought process and life. Hence Saint Dr Gurmeet Ram Rahim Singh Ji Insan encou… https://t.co/zoJNEeB9yg  #SpiritualSunday\r",
      "  Dr msg  explain that the seed of virtue never gets destroyed. No matter how big the evil becomes,y… https://t.co/QWeKvHGPrU  #MMOPEN #TenisxESPN\r",
      "  @DjokerNole @StefTsitsipas Great match!!\r",
      "  #NotToday\r",
      "  #GoT https://t.co/IuBLjX8QgP\n",
      "Big big big news for #suriya anna fans . #suriya anna will come to live tomorrow at 5pm 💖💝... \r",
      "   Ithu thaan namma ti… https://t.co/09s7DOiH5n  Enna va irukkum certificate 🤯😵💕... confirm U/A VA irukka 90 percent chance irukku . \r",
      "   #suriya anna fans please be a… https://t.co/TK2HJ4DUNO  Dhiraj Kumaar : Coimbatore SFC Arranged Special 6AM Fans Show 🔥\r",
      "   Ticket Booking From Friday 🙌… https://t.co/1yqNl8vsal\n",
      "I don't want to overpraise Sotto. It's just the beginning. But right now, I'm disappointed how Eusebio is responding about his defeat. #KMJS  Congrats Mayor Vico. Pasig City deserves a new leader like you. God bless po. ❤️ #KMJS #IbaNa #VicoSotto #SayangHindiNaAkoTagaPasig  “A lot of good ppl with pure hearts and clear intensions refuse politics bc of the system.”\r",
      "   but then here’s… https://t.co/mC1qCLW4dZ\n",
      "Modi / BJP fudged national GDP data & jobs data, what is the big deal for them to manipulate exit poll data prepare… https://t.co/NRVMpC6RZp  @ShashiTharoor Exit poll remarkable before three state exit poll fails Raj MP ch some TV channel Nada support  EXIT POLL WILL BE  WRONG ON 23RD MAY.   ABP news exit poll for u.p  bjp 22,mahagadhbhandhan 56 & cong 2 other state… https://t.co/paomGz0l5L\n",
      "@BeaCreativeBex I love it. Giant Mechs. Del Toro.  Cartoony nation stereotypes. Giant Mechs. Alien invasion. Giant… https://t.co/1yiJSRCYFy  Live #F1 News - Albon credits Toro Rosso for &quot;giving confidence and reassurance&quot; in F1 car https://t.co/TRZeglVCQI  Albon: Toro Rosso giving me confidence in F1: Alexander Albon feels his confidence has been boosted thanks to Toro… https://t.co/iG4tBzzG2j\n",
      "Even in UP Assembly elections 2017 ,\r",
      "  India Today gave BJP 287-300 and BJP got 325 seats.\r",
      "  So, India today has a good… https://t.co/TjdGT4HIom  @RKRadhakrishn Couldn't digest the exit polls stating 300+ seats to BJP...is the survey conducted only with Chowkidars  @sampitroda @ThePrintIndia #TCPoll \r",
      "  All India Tally \r",
      "  BJP 300 ± 14 Seats                  \r",
      "  NDA 350 ± 14 Seats\r",
      "  Cong 5… https://t.co/AbbnTPjzqX\n",
      "Weekly Blog 👩‍💻\r",
      "  How I beat the wall in 6 hours. Simple technique to stop procrastinating and start executing. I wil… https://t.co/GjsDDadt1Y  Did she just hank his hands away?  @JoeBiden  I thought you were going to stop invading womens spaces. #CreepyJoe… https://t.co/kCMHw2zKv7  #SundayThoughts #SundayMorning \r",
      "  Change your wall, desk, change your life. It's all in the vibe. Brand New Wall, Des… https://t.co/OGDlmNQY0s\n",
      "Guys you can follow Karabo on Facebook, Insta and Tweerra, yeses God created an Angel here #DateMyFamily  Date My Family please create an episode called ‘Date My Family with Your Boy Hu’ #datemyfamily #itsyourboyHu  #DateMyFamily 😂😂😂 Shem poor guy. Please give me a chance cause you make my heart dance 😂😂😂\n",
      "@one_by_two #justheard\r",
      "   Modi went to Kedarnath to fetch SNOW for Piddis and Chamchas because Burnol's stocks have r… https://t.co/u7u4IxZGdP  @k_satyarthi #justheard\r",
      "   Modi went to Kedarnath to fetch SNOW for Piddis and Chamchas because Burnol's stocks have… https://t.co/dkyg570zOO  #justheard\r",
      "   Modi went to Kedarnath to fetch SNOW for Piddis and Chamchas because Burnol's stocks have ran out in th… https://t.co/7Og3aBBXvy\n",
      "Penises in the WOMENs locker room at my local swim center has caused me to switch sides in the culture war. Democra… https://t.co/R5BEN0MHMX  WATCH South Bend settled $1.3-million in civil rights violations, police brutality lawsuits in the first 5 years of… https://t.co/Hh3kQZLjdN  Every day is paradise, if you believe. Everything is paradise that is real! Nothing bad is real. #SundayMorning https://t.co/iNPSnZxczo\n",
      "Service exposure: a critical capability in a 5G world #2  #Mobile #Mobile World Congress #LTE Advanced #MIMO https://t.co/E1y3tD72NI  Congress has the power to force Trump to leave scientists alone and let them do their research without fear of losi… https://t.co/RKZGt0uNll  Congress has the power to force Trump to leave scientists alone and let them do their research without fear of losi… https://t.co/PkTRrViGjd\n",
      "NTK and MNM will together take at least 10-12 pc of vote share.\r",
      "  Dravidian parties DMK,ADMK,MDMKand DMDK together will see a fall below 70pc.  One good thing is DMK advantage seats are clearly for DMK with big lead ADMK advantage seats are very close  In tamilnadu is congress seats are going to ADMK? May be transfer of votes from DMK didnt happen to Congress\n",
      "Mamata - Lets stay vigil, don allow change of EVM\r",
      "   Kejri - We will loose Delhi badly, blame goez to Rahul\r",
      "   Rahul -… https://t.co/d6dCePQTSM  @MamataOfficial Only if everytime @ECISVEEP levies fine whenever someone alleges EVMHACK, we would soon be a develo… https://t.co/pfBl9hSlmI  #IndiaTodayAxisPoll Turning factor will be First time voter, उनको सब miss/underestimate कर गए.\n",
      "This “undercurrent” which was invisible to most or many, is going to flood 23rd May. It would be truly #tSuNaMo in… https://t.co/qSDd3AcQt6  Do we need more #ExitPoll other than this. It's wave poll guys. It's #TsuNaMo. BJP is only party that is super conf… https://t.co/4tBdA1sTLL  Experiencing what is happening here in Dubai, easy to assume that Bharatiyas all over the world are awaiting 23rd M… https://t.co/LuvtBk2j8k\n",
      "NaMo hs been gvn big Mandate  by Nation with beliefe that Nation vl b able 2 get Strong Achievements frm Strong Lea… https://t.co/VyrBbUENaJ  After nearly two months of high-pitch campaigning and seven phase of hectic poll schedule, almost all exit polls ha… https://t.co/NJxYjAuyWB  YEH TOH TRAILER THA PICTURE ABHI BAAKI HAIN MERE DOST.\r",
      "  After seeing all the Poll of polls , it does seems to indica… https://t.co/I4T3wRFrQS\n",
      "YEH TOH TRAILER THA PICTURE ABHI BAAKI HAIN MERE DOST.\r",
      "  After seeing all the Poll of polls , it does seems to indica… https://t.co/sDW3VwiMSu  NDA 292, UPA 127, predicts NDTV’s poll of polls – Latest English News | Absolute India News https://t.co/ikneAWjRmd… https://t.co/Jy4PKDXSG2  PDP worker Mohd Jamal PDP worker shot dead by unknown gunmen in Kulgam in South Kashmir, forces rushed to the area.\n"
     ]
    }
   ],
   "source": [
    "tweets = []\n",
    "import requests, bs4\n",
    "res = requests.get('https://tweetoclocktimes.surge.sh/')\n",
    "if res.status_code == requests.codes.ok:\n",
    "    ressoup = bs4.BeautifulSoup(res.text, 'lxml')\n",
    "    elems = ressoup.select('.card-text')\n",
    "    for i, e in enumerate(elems):\n",
    "        if i%2 == 1:\n",
    "            print(e.getText())\n",
    "            tweets.append(e.getText())\n",
    "\n",
    "else:\n",
    "    print('Something went wrong')"
   ]
  },
  {
   "cell_type": "code",
   "execution_count": 22,
   "metadata": {
    "ExecuteTime": {
     "end_time": "2019-05-20T08:46:38.426814Z",
     "start_time": "2019-05-20T08:46:37.994482Z"
    }
   },
   "outputs": [],
   "source": [
    "report = pd.DataFrame(columns=['tweet', 'LR', 'MNB', 'DTC', 'SGDC'])\n",
    "\n",
    "for i in range(len(tweets)):\n",
    "    classification = classify(tweets[i])\n",
    "    report = pd.concat([report,\n",
    "                       pd.DataFrame({\n",
    "                           'tweet': [tweets[i]], 'LR': [classification[0]], 'MNB': [classification[1]],\n",
    "                           'DTC': [classification[2]], 'SGDC': [classification[3]]\n",
    "                       })], axis=0)"
   ]
  },
  {
   "cell_type": "code",
   "execution_count": 23,
   "metadata": {
    "ExecuteTime": {
     "end_time": "2019-05-20T08:46:40.673845Z",
     "start_time": "2019-05-20T08:46:40.657316Z"
    }
   },
   "outputs": [
    {
     "data": {
      "text/plain": [
       "([], [], [], [])"
      ]
     },
     "execution_count": 23,
     "metadata": {},
     "output_type": "execute_result"
    }
   ],
   "source": [
    "classify(tweets[0])"
   ]
  },
  {
   "cell_type": "code",
   "execution_count": null,
   "metadata": {},
   "outputs": [],
   "source": []
  }
 ],
 "metadata": {
  "kernelspec": {
   "display_name": "Python 3",
   "language": "python",
   "name": "python3"
  },
  "toc": {
   "base_numbering": 1,
   "nav_menu": {},
   "number_sections": true,
   "sideBar": true,
   "skip_h1_title": false,
   "title_cell": "Table of Contents",
   "title_sidebar": "Contents",
   "toc_cell": false,
   "toc_position": {},
   "toc_section_display": true,
   "toc_window_display": false
  },
  "varInspector": {
   "cols": {
    "lenName": 16,
    "lenType": 16,
    "lenVar": 40
   },
   "kernels_config": {
    "python": {
     "delete_cmd_postfix": "",
     "delete_cmd_prefix": "del ",
     "library": "var_list.py",
     "varRefreshCmd": "print(var_dic_list())"
    },
    "r": {
     "delete_cmd_postfix": ") ",
     "delete_cmd_prefix": "rm(",
     "library": "var_list.r",
     "varRefreshCmd": "cat(var_dic_list()) "
    }
   },
   "types_to_exclude": [
    "module",
    "function",
    "builtin_function_or_method",
    "instance",
    "_Feature"
   ],
   "window_display": false
  }
 },
 "nbformat": 4,
 "nbformat_minor": 2
}
