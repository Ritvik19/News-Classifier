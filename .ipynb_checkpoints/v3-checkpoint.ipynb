{
 "cells": [
  {
   "cell_type": "markdown",
   "metadata": {},
   "source": [
    "# Libraries"
   ]
  },
  {
   "cell_type": "code",
   "execution_count": 1,
   "metadata": {
    "ExecuteTime": {
     "end_time": "2019-06-22T13:28:51.260152Z",
     "start_time": "2019-06-22T13:28:50.170071Z"
    }
   },
   "outputs": [],
   "source": [
    "import numpy as np\n",
    "import pandas as pd\n",
    "import matplotlib.pyplot as plt"
   ]
  },
  {
   "cell_type": "code",
   "execution_count": 2,
   "metadata": {
    "ExecuteTime": {
     "end_time": "2019-06-22T13:28:51.287128Z",
     "start_time": "2019-06-22T13:28:51.264111Z"
    }
   },
   "outputs": [],
   "source": [
    "from wordcloud import WordCloud\n",
    "from PIL import Image"
   ]
  },
  {
   "cell_type": "code",
   "execution_count": 3,
   "metadata": {
    "ExecuteTime": {
     "end_time": "2019-06-22T13:28:51.398696Z",
     "start_time": "2019-06-22T13:28:51.289870Z"
    }
   },
   "outputs": [],
   "source": [
    "from ipywidgets import interact, interactive, fixed, interact_manual\n",
    "import ipywidgets as widgets\n",
    "from IPython.display import clear_output"
   ]
  },
  {
   "cell_type": "markdown",
   "metadata": {},
   "source": [
    "# Data"
   ]
  },
  {
   "cell_type": "code",
   "execution_count": 4,
   "metadata": {
    "ExecuteTime": {
     "end_time": "2019-06-22T13:28:51.664295Z",
     "start_time": "2019-06-22T13:28:51.401632Z"
    }
   },
   "outputs": [
    {
     "name": "stdout",
     "output_type": "stream",
     "text": [
      "(9230, 8)\n"
     ]
    }
   ],
   "source": [
    "data = pd.read_csv('InshortsScraped.csv')\n",
    "print(data.shape)"
   ]
  },
  {
   "cell_type": "code",
   "execution_count": 5,
   "metadata": {
    "ExecuteTime": {
     "end_time": "2019-06-22T13:28:51.881772Z",
     "start_time": "2019-06-22T13:28:51.667284Z"
    }
   },
   "outputs": [
    {
     "data": {
      "text/html": [
       "<div>\n",
       "<style scoped>\n",
       "    .dataframe tbody tr th:only-of-type {\n",
       "        vertical-align: middle;\n",
       "    }\n",
       "\n",
       "    .dataframe tbody tr th {\n",
       "        vertical-align: top;\n",
       "    }\n",
       "\n",
       "    .dataframe thead th {\n",
       "        text-align: right;\n",
       "    }\n",
       "</style>\n",
       "<table border=\"1\" class=\"dataframe\">\n",
       "  <thead>\n",
       "    <tr style=\"text-align: right;\">\n",
       "      <th></th>\n",
       "      <th>news</th>\n",
       "      <th>national</th>\n",
       "      <th>sports</th>\n",
       "      <th>world</th>\n",
       "      <th>politics</th>\n",
       "      <th>technology</th>\n",
       "      <th>entertainment</th>\n",
       "      <th>hatke</th>\n",
       "    </tr>\n",
       "  </thead>\n",
       "  <tbody>\n",
       "    <tr>\n",
       "      <th>0</th>\n",
       "      <td>7 IITs among India's top higher education inst...</td>\n",
       "      <td>1</td>\n",
       "      <td>0</td>\n",
       "      <td>0</td>\n",
       "      <td>0</td>\n",
       "      <td>0</td>\n",
       "      <td>0</td>\n",
       "      <td>0</td>\n",
       "    </tr>\n",
       "    <tr>\n",
       "      <th>1</th>\n",
       "      <td>They forget she's 14: Devgn on trolls criticis...</td>\n",
       "      <td>0</td>\n",
       "      <td>0</td>\n",
       "      <td>0</td>\n",
       "      <td>0</td>\n",
       "      <td>0</td>\n",
       "      <td>1</td>\n",
       "      <td>0</td>\n",
       "    </tr>\n",
       "    <tr>\n",
       "      <th>2</th>\n",
       "      <td>Haven't earned so much that I can wear new clo...</td>\n",
       "      <td>0</td>\n",
       "      <td>0</td>\n",
       "      <td>0</td>\n",
       "      <td>0</td>\n",
       "      <td>0</td>\n",
       "      <td>1</td>\n",
       "      <td>0</td>\n",
       "    </tr>\n",
       "    <tr>\n",
       "      <th>3</th>\n",
       "      <td>Fans in US sing Desi Girl for Priyanka outside...</td>\n",
       "      <td>0</td>\n",
       "      <td>0</td>\n",
       "      <td>0</td>\n",
       "      <td>0</td>\n",
       "      <td>0</td>\n",
       "      <td>1</td>\n",
       "      <td>0</td>\n",
       "    </tr>\n",
       "    <tr>\n",
       "      <th>4</th>\n",
       "      <td>Dhoni bhai was very angry, he hugged me after ...</td>\n",
       "      <td>0</td>\n",
       "      <td>1</td>\n",
       "      <td>0</td>\n",
       "      <td>0</td>\n",
       "      <td>0</td>\n",
       "      <td>0</td>\n",
       "      <td>0</td>\n",
       "    </tr>\n",
       "  </tbody>\n",
       "</table>\n",
       "</div>"
      ],
      "text/plain": [
       "                                                news  national  sports  world  \\\n",
       "0  7 IITs among India's top higher education inst...         1       0      0   \n",
       "1  They forget she's 14: Devgn on trolls criticis...         0       0      0   \n",
       "2  Haven't earned so much that I can wear new clo...         0       0      0   \n",
       "3  Fans in US sing Desi Girl for Priyanka outside...         0       0      0   \n",
       "4  Dhoni bhai was very angry, he hugged me after ...         0       1      0   \n",
       "\n",
       "   politics  technology  entertainment  hatke  \n",
       "0         0           0              0      0  \n",
       "1         0           0              1      0  \n",
       "2         0           0              1      0  \n",
       "3         0           0              1      0  \n",
       "4         0           0              0      0  "
      ]
     },
     "execution_count": 5,
     "metadata": {},
     "output_type": "execute_result"
    }
   ],
   "source": [
    "data.head()"
   ]
  },
  {
   "cell_type": "code",
   "execution_count": 6,
   "metadata": {
    "ExecuteTime": {
     "end_time": "2019-06-22T13:28:52.066795Z",
     "start_time": "2019-06-22T13:28:51.885759Z"
    }
   },
   "outputs": [
    {
     "data": {
      "text/html": [
       "<div>\n",
       "<style scoped>\n",
       "    .dataframe tbody tr th:only-of-type {\n",
       "        vertical-align: middle;\n",
       "    }\n",
       "\n",
       "    .dataframe tbody tr th {\n",
       "        vertical-align: top;\n",
       "    }\n",
       "\n",
       "    .dataframe thead th {\n",
       "        text-align: right;\n",
       "    }\n",
       "</style>\n",
       "<table border=\"1\" class=\"dataframe\">\n",
       "  <thead>\n",
       "    <tr style=\"text-align: right;\">\n",
       "      <th></th>\n",
       "      <th>national</th>\n",
       "      <th>sports</th>\n",
       "      <th>world</th>\n",
       "      <th>politics</th>\n",
       "      <th>technology</th>\n",
       "      <th>entertainment</th>\n",
       "      <th>hatke</th>\n",
       "    </tr>\n",
       "  </thead>\n",
       "  <tbody>\n",
       "    <tr>\n",
       "      <th>count</th>\n",
       "      <td>9230.000000</td>\n",
       "      <td>9230.000000</td>\n",
       "      <td>9230.000000</td>\n",
       "      <td>9230.000000</td>\n",
       "      <td>9230.000000</td>\n",
       "      <td>9230.000000</td>\n",
       "      <td>9230.000000</td>\n",
       "    </tr>\n",
       "    <tr>\n",
       "      <th>mean</th>\n",
       "      <td>0.295991</td>\n",
       "      <td>0.177790</td>\n",
       "      <td>0.117551</td>\n",
       "      <td>0.219285</td>\n",
       "      <td>0.174648</td>\n",
       "      <td>0.131961</td>\n",
       "      <td>0.006392</td>\n",
       "    </tr>\n",
       "    <tr>\n",
       "      <th>std</th>\n",
       "      <td>0.456512</td>\n",
       "      <td>0.382356</td>\n",
       "      <td>0.322094</td>\n",
       "      <td>0.413784</td>\n",
       "      <td>0.379686</td>\n",
       "      <td>0.338467</td>\n",
       "      <td>0.079700</td>\n",
       "    </tr>\n",
       "    <tr>\n",
       "      <th>min</th>\n",
       "      <td>0.000000</td>\n",
       "      <td>0.000000</td>\n",
       "      <td>0.000000</td>\n",
       "      <td>0.000000</td>\n",
       "      <td>0.000000</td>\n",
       "      <td>0.000000</td>\n",
       "      <td>0.000000</td>\n",
       "    </tr>\n",
       "    <tr>\n",
       "      <th>25%</th>\n",
       "      <td>0.000000</td>\n",
       "      <td>0.000000</td>\n",
       "      <td>0.000000</td>\n",
       "      <td>0.000000</td>\n",
       "      <td>0.000000</td>\n",
       "      <td>0.000000</td>\n",
       "      <td>0.000000</td>\n",
       "    </tr>\n",
       "    <tr>\n",
       "      <th>50%</th>\n",
       "      <td>0.000000</td>\n",
       "      <td>0.000000</td>\n",
       "      <td>0.000000</td>\n",
       "      <td>0.000000</td>\n",
       "      <td>0.000000</td>\n",
       "      <td>0.000000</td>\n",
       "      <td>0.000000</td>\n",
       "    </tr>\n",
       "    <tr>\n",
       "      <th>75%</th>\n",
       "      <td>1.000000</td>\n",
       "      <td>0.000000</td>\n",
       "      <td>0.000000</td>\n",
       "      <td>0.000000</td>\n",
       "      <td>0.000000</td>\n",
       "      <td>0.000000</td>\n",
       "      <td>0.000000</td>\n",
       "    </tr>\n",
       "    <tr>\n",
       "      <th>max</th>\n",
       "      <td>1.000000</td>\n",
       "      <td>1.000000</td>\n",
       "      <td>1.000000</td>\n",
       "      <td>1.000000</td>\n",
       "      <td>1.000000</td>\n",
       "      <td>1.000000</td>\n",
       "      <td>1.000000</td>\n",
       "    </tr>\n",
       "  </tbody>\n",
       "</table>\n",
       "</div>"
      ],
      "text/plain": [
       "          national       sports        world     politics   technology  \\\n",
       "count  9230.000000  9230.000000  9230.000000  9230.000000  9230.000000   \n",
       "mean      0.295991     0.177790     0.117551     0.219285     0.174648   \n",
       "std       0.456512     0.382356     0.322094     0.413784     0.379686   \n",
       "min       0.000000     0.000000     0.000000     0.000000     0.000000   \n",
       "25%       0.000000     0.000000     0.000000     0.000000     0.000000   \n",
       "50%       0.000000     0.000000     0.000000     0.000000     0.000000   \n",
       "75%       1.000000     0.000000     0.000000     0.000000     0.000000   \n",
       "max       1.000000     1.000000     1.000000     1.000000     1.000000   \n",
       "\n",
       "       entertainment        hatke  \n",
       "count    9230.000000  9230.000000  \n",
       "mean        0.131961     0.006392  \n",
       "std         0.338467     0.079700  \n",
       "min         0.000000     0.000000  \n",
       "25%         0.000000     0.000000  \n",
       "50%         0.000000     0.000000  \n",
       "75%         0.000000     0.000000  \n",
       "max         1.000000     1.000000  "
      ]
     },
     "execution_count": 6,
     "metadata": {},
     "output_type": "execute_result"
    }
   ],
   "source": [
    "data.describe()"
   ]
  },
  {
   "cell_type": "markdown",
   "metadata": {},
   "source": [
    "# Data Preprocessing"
   ]
  },
  {
   "cell_type": "markdown",
   "metadata": {
    "ExecuteTime": {
     "end_time": "2019-06-22T12:32:55.761565Z",
     "start_time": "2019-06-22T12:32:55.757578Z"
    }
   },
   "source": [
    "## Cleaning"
   ]
  },
  {
   "cell_type": "code",
   "execution_count": 7,
   "metadata": {
    "ExecuteTime": {
     "end_time": "2019-06-22T13:28:53.070042Z",
     "start_time": "2019-06-22T13:28:52.070783Z"
    }
   },
   "outputs": [],
   "source": [
    "import nltk, re\n",
    "from nltk.stem.porter import PorterStemmer\n",
    "from nltk.stem import WordNetLemmatizer\n",
    "import langdetect\n",
    "\n",
    "def spell_correct(text):\n",
    "    text = re.sub(r\"can\\'t\", \"can not\", text)\n",
    "    text = re.sub(r\"what's\", \"what is \", text)\n",
    "    text = re.sub(r\"\\'s\", \" \", text)\n",
    "    text = re.sub(r\"\\'ve\", \" have \", text)\n",
    "    text = re.sub(r\"n't\", \" not \", text)\n",
    "    text = re.sub(r\"i'm\", \"i am \", text)\n",
    "    text = re.sub(r\"\\'re\", \" are \", text)\n",
    "    text = re.sub(r\"\\'d\", \" would \", text)\n",
    "    text = re.sub(r\"\\'ll\", \" will \", text)\n",
    "    text = re.sub(r\"\\0s\", \"0\", text)    \n",
    "    return text\n",
    "\n",
    "def remove_url(text):\n",
    "    URL_REGEX = re.compile(r'''((http[s]?://)[^ <>'\"{}|\\\\^`[\\]]*)''')\n",
    "    return URL_REGEX.sub(r' ', text)\n",
    "\n",
    "remove_punc = lambda x : re.sub(r\"\\W\", ' ', x)\n",
    "\n",
    "remove_num = lambda x : re.sub(r\"\\d\", ' ', x)\n",
    "\n",
    "remove_extra_spaces = lambda x : re.sub(r\"\\s+\", ' ', x)\n",
    "\n",
    "lower_case = lambda x : x.lower()\n",
    "\n",
    "with open('stopwords.txt') as f:\n",
    "    sw = map(lambda x : x.strip(), f.readlines())\n",
    "stop_words = set(nltk.corpus.stopwords.words('english'))|set(sw)\n",
    "remove_stopwords = lambda x: ' '.join(word for word in x.split() if word not in stop_words)\n",
    "\n",
    "ps = PorterStemmer()\n",
    "ps_stem = lambda x: ' '.join(ps.stem(word) for word in x.split())\n",
    "\n",
    "wnl = WordNetLemmatizer()\n",
    "wnl_lemmatize = lambda x: ' '.join(wnl.lemmatize(word) for word in x.split())\n",
    "\n",
    "def tag_pos(x):\n",
    "    tag_list =  nltk.pos_tag(nltk.word_tokenize(x))\n",
    "    pos = \"\"\n",
    "    for t in tag_list:\n",
    "        pos += t[0] +'(' + t[1] +')' + ' '\n",
    "    return pos\n",
    "\n",
    "def cleanText(x, rsw, stm, lem, tgps):\n",
    "    x = str(x)\n",
    "    x = remove_url(x)\n",
    "    x = lower_case(x)\n",
    "    x = spell_correct(x)\n",
    "    x = remove_punc(x)\n",
    "    x = remove_num(x)\n",
    "    x = remove_extra_spaces(x)\n",
    "    \n",
    "    if rsw:\n",
    "        x = remove_stopwords(x)\n",
    "    if stm:\n",
    "        x = ps_stem(x)\n",
    "    if lem:\n",
    "        x = wnl_lemmatize(x)\n",
    "    if tgps:\n",
    "        x = tag_pos(x)\n",
    "    return x"
   ]
  },
  {
   "cell_type": "code",
   "execution_count": 8,
   "metadata": {
    "ExecuteTime": {
     "end_time": "2019-06-22T13:28:53.389282Z",
     "start_time": "2019-06-22T13:28:53.074019Z"
    }
   },
   "outputs": [],
   "source": [
    "data['news_c'] = data['news'].apply(lambda x : cleanText(x, True, False, False, False))"
   ]
  },
  {
   "cell_type": "markdown",
   "metadata": {},
   "source": [
    "## Feature Generation"
   ]
  },
  {
   "cell_type": "code",
   "execution_count": 10,
   "metadata": {
    "ExecuteTime": {
     "end_time": "2019-06-22T13:29:30.281497Z",
     "start_time": "2019-06-22T13:29:30.194282Z"
    }
   },
   "outputs": [
    {
     "name": "stdout",
     "output_type": "stream",
     "text": [
      "['pro', 'phones', 'sidhu', 'feel', 'wife', 'inside', 'win', 'smuggler', 'like', 'daughter', 'challenge', 'deepika', 'amit', 'rally', 'using', 'rescued', 'cricketer', 'musk', 'batsman', 'send', 'aap', 'remake', 'woman', 'serial', 'launch', 'st', 'life', 'old', 'taapsee', 'ai', 'madrid', 'biopic', 'bsp', 'crore', 'nz', 'l', 'team', 'dame', 'raises', 'yrs', 'nd', 'based', 'coach', 'criminal', 'n', 'know', 'post', 'ayushmann', 'cm', 'french', 'naidu', 'sadhvi', 'bn', 'csk', 'whatsapp', 'image', 'open', 'car', 'singh', 'nuclear', 'test', 'cji', 'big', 'leak', 'eye', 'sit', 'rival', 'attack', 'tablet', 'arrested', 'breast', 'wedding', 'icc', 'yogurt', 'khan', 'sauna', 'lanka', 'record', 'strong', 'pragya', 'football', 'flipkart', 'ball', 'runs', 'working', 'class', 'odi', 'starrer', 'title', 'baby', 'anatomy', 'held', 'pregnant', 'hit', 'plans', 'yogi', 'makes', 'azhar', 'jail', 'penises', 'time', 'nadal', 'maker', 'people', 'mumbai', 'terror', 'video', 'yuvraj', 'row', 'chicken', 'reddit', 'users', 'bharat', 'app', 'bcci', 'modi', 'rr', 'polling', 'cyclone', 'ceo', 'global', 'mamata', 'make', 'yr', 'want', 'away', 'azam', 'join', 'nasa', 'metoo', 'plane', 'dhoni', 'voting', 'tensions', 'ola', 'minister', 'cr', 'backed', 'shares', 'army', 'varanasi', 'apple', 'matches', 'air', 'lakh', 'injured', 'sheep', 'delivery', 'alia', 'uae', 'deol', 'country', 'unbearable', 'pak', 'leopard', 'officer', 'final', 'wickets', 'ram', 'spacex', 'vote', 'softbank', 'school', 'defeat', 'actor', 'k', 'ls', 'assange', 'player', 'pant', 'warner', 'uk', 'oneplus', 'getting', 'fined', 'tmc', 'game', 'cannes', 'leaders', 'billion', 'pic', 'lands', 'missing', 'harry', 'karan', 'mp', 'report', 'girl', 'uber', 'foot', 'evms', 'best', 'trade', 'twitter', 'arjun', 'kareena', 'data', 'farting', 'b', 'shows', 'moon', 'free', 'sc', 'court', 'face', 'female', 'tries', 'actress', 'year', 'league', 'raj', 'microsoft', 'blasts', 'startup', 'ipl', 'katrina', 'govt', 'cow', 'rd', 'australia', 'instagram', 'oath', 'akshay', 'sena', 'prez', 'cockroach', 'gandhi', 'prisons', 'tiktok', 'campaigning', 'science', 'release', 'gets', 'votes', 'seats', 'raise', 'lift', 'delivers', 'china', 'endgame', 'sunny', 'ec', 'rangoli', 'aus', 'play', 'shah', 'debut', 'robot', 'shahid', 'dung', 'death', 'user', 'killed', 'match', 'bengal', 'bengaluru', 'days', 'students', 'ms', 'scientists', 'goes', 'hospital', 'pakistan', 'delhi', 'war', 'buys', 'e', 'case', 'saudi', 'iaf', 'nomination', 'staff', 'married', 'years', 'kxip', 'iran', 'tesla', 'edit', 'candidate', 'funding', 'kohli', 'launches', 'ipo', 'new', 'film', 'japan', 'amazon', 'youtuber', 'star', 'afridi', 'ganguly', 'wo', 'fb', 'lok', 'john', 'seeks', 'denies', 'phone', 'vs', 'dc', 'indians', 'says', 'paytm', 'rare', 'facebook', 'paris', 'huawei', 'fund', 'polls', 'inch', 'cup', 'talks', 'kg', 'vehicle', 'chowkidar', 'politics', 'reports', 'artwork', 'sa', 'prince', 'score', 'ranveer', 'hrithik', 'warns', 'role', 'director', 'hash', 'mayawati', 'wb', 'drugs', 'run', 'forgets', 'remark', 'poll', 'loss', 'jailed', 'babies', 'salman', 'masood', 'odisha', 'drug', 'president', 'google', 'notice', 'cong', 'police', 'france', 'accused', 'indian', 'bihar', 'russian', 'akhilesh', 'meghan', 'unit', 'rape', 'club', 'players', 'vivek', 'ex', 'kapoor', 'srk', 'j', 'love', 'tech', 'gujarat', 'mla', 'punjab', 'mi', 'pics', 'scores', 'platform', 'naked', 'day', 'wood', 'amid', 'bezos', 'pm', 'gambhir', 'sabha', 'workers', 'russia', 'study', 'mistakenly', 'captain', 'fans', 'gold', 'congress', 'reach', 'met', 'films', 'eats', 'rcb', 'million', 'kerala', 'cool', 'got', 'family', 'wins', 'sri', 'invest', 'sachin', 'opposition', 'startups', 'irani', 'fan', 'dies', 'sister', 'bat', 'rishi', 'priyanka', 'zuckerberg', 'meme', 'andhra', 'godse', 'oberoi', 'elections', 'pandya', 'rohit', 'kangana', 'tiger', 'imran', 'ads', 'brown', 'notre', 'bjp', 'rahul', 'world', 'holds', 'kejriwal', 'hc', 'england', 'asks', 'india', 'house', 'fani', 'israel', 'kim', 'alliance', 'sp', 'th', 'smashes', 'chief', 'tv', 'elon', 'man', 'ahead', 'virat', 'squad', 'ban', 'joins', 'led', 'nick', 'leader', 'cricket', 'srh', 'space', 'mn', 'trump', 'smith', 'sl', 'party', 'putin', 'yadav', 'women', 'founder', 'varun', 'wc', 'kkr', 'deal', 'dhawan', 'son', 'viral', 'beat', 'liverpool', 'work', 'passes', 'cancer', 'korea', 'pixel', 'mlas', 'bomb', 'dead', 'ananya', 'offers', 'closure'] 485\n"
     ]
    }
   ],
   "source": [
    "labels = ['national', 'sports', 'world', 'politics', 'technology', 'entertainment', 'hatke']\n",
    "\n",
    "def top100(x):\n",
    "     return pd.Series(' '.join(data[data[x] == 1]['news_c']).split()).value_counts()[:100].index\n",
    "\n",
    "feats = set()\n",
    "for c in labels:\n",
    "    feats = feats|set(top100(c))\n",
    "feats = list(feats)\n",
    "n = len(feats)\n",
    "print(feats, len(feats))"
   ]
  },
  {
   "cell_type": "code",
   "execution_count": 12,
   "metadata": {
    "ExecuteTime": {
     "end_time": "2019-06-22T13:30:11.780813Z",
     "start_time": "2019-06-22T13:30:11.772836Z"
    }
   },
   "outputs": [],
   "source": [
    "from nltk.corpus import wordnet\n",
    "\n",
    "def synonyms(x):\n",
    "    synonyms_list = [x]\n",
    "    for syn in wordnet.synsets(x):\n",
    "        for s in syn.lemmas():\n",
    "            synonyms_list.append(s.name())\n",
    "    return set(synonyms_list)\n",
    "\n",
    "def bincount(x, f):\n",
    "    for _ in x.split():\n",
    "        if _ in synonyms(f):\n",
    "            return 1\n",
    "    return 0"
   ]
  },
  {
   "cell_type": "code",
   "execution_count": 13,
   "metadata": {
    "ExecuteTime": {
     "end_time": "2019-06-22T13:41:41.098644Z",
     "start_time": "2019-06-22T13:30:14.092741Z"
    }
   },
   "outputs": [
    {
     "name": "stdout",
     "output_type": "stream",
     "text": [
      "485 / 485\n"
     ]
    }
   ],
   "source": [
    "i = 0\n",
    "for f in feats:\n",
    "    i += 1\n",
    "    print(f'{i:{3}} / {n}')\n",
    "    data[f] = data['news_c'].apply(lambda x : bincount(x, f))\n",
    "    clear_output(wait=True)"
   ]
  },
  {
   "cell_type": "code",
   "execution_count": 14,
   "metadata": {
    "ExecuteTime": {
     "end_time": "2019-06-22T13:41:41.731505Z",
     "start_time": "2019-06-22T13:41:41.630192Z"
    }
   },
   "outputs": [],
   "source": [
    "X = data[feats]\n",
    "Y = data[labels]"
   ]
  },
  {
   "cell_type": "markdown",
   "metadata": {},
   "source": [
    "# Machine Learning"
   ]
  },
  {
   "cell_type": "code",
   "execution_count": 15,
   "metadata": {
    "ExecuteTime": {
     "end_time": "2019-06-22T13:41:42.640663Z",
     "start_time": "2019-06-22T13:41:42.633684Z"
    }
   },
   "outputs": [],
   "source": [
    "from sklearn.model_selection import train_test_split\n",
    "from sklearn.metrics import classification_report, confusion_matrix\n",
    "from sklearn.naive_bayes import BernoulliNB"
   ]
  },
  {
   "cell_type": "code",
   "execution_count": 16,
   "metadata": {
    "ExecuteTime": {
     "end_time": "2019-06-22T13:41:43.492692Z",
     "start_time": "2019-06-22T13:41:43.439831Z"
    }
   },
   "outputs": [],
   "source": [
    "X_train, X_test, Y_train, Y_test = train_test_split(X, Y, test_size=0.3)"
   ]
  },
  {
   "cell_type": "code",
   "execution_count": 17,
   "metadata": {
    "ExecuteTime": {
     "end_time": "2019-06-22T13:41:45.915488Z",
     "start_time": "2019-06-22T13:41:45.106675Z"
    }
   },
   "outputs": [
    {
     "name": "stdout",
     "output_type": "stream",
     "text": [
      "national\n",
      "[[1583  387]\n",
      " [ 251  548]]\n",
      "              precision    recall  f1-score   support\n",
      "\n",
      "           0       0.86      0.80      0.83      1970\n",
      "           1       0.59      0.69      0.63       799\n",
      "\n",
      "   micro avg       0.77      0.77      0.77      2769\n",
      "   macro avg       0.72      0.74      0.73      2769\n",
      "weighted avg       0.78      0.77      0.77      2769\n",
      "\n",
      "sports\n",
      "[[2147  107]\n",
      " [ 127  388]]\n",
      "              precision    recall  f1-score   support\n",
      "\n",
      "           0       0.94      0.95      0.95      2254\n",
      "           1       0.78      0.75      0.77       515\n",
      "\n",
      "   micro avg       0.92      0.92      0.92      2769\n",
      "   macro avg       0.86      0.85      0.86      2769\n",
      "weighted avg       0.91      0.92      0.91      2769\n",
      "\n",
      "world\n",
      "[[2593    0]\n",
      " [   0  176]]\n",
      "              precision    recall  f1-score   support\n",
      "\n",
      "           0       1.00      1.00      1.00      2593\n",
      "           1       1.00      1.00      1.00       176\n",
      "\n",
      "   micro avg       1.00      1.00      1.00      2769\n",
      "   macro avg       1.00      1.00      1.00      2769\n",
      "weighted avg       1.00      1.00      1.00      2769\n",
      "\n",
      "politics\n",
      "[[2751    0]\n",
      " [  16    2]]\n",
      "              precision    recall  f1-score   support\n",
      "\n",
      "           0       0.99      1.00      1.00      2751\n",
      "           1       1.00      0.11      0.20        18\n",
      "\n",
      "   micro avg       0.99      0.99      0.99      2769\n",
      "   macro avg       1.00      0.56      0.60      2769\n",
      "weighted avg       0.99      0.99      0.99      2769\n",
      "\n",
      "technology\n",
      "[[2195   86]\n",
      " [ 130  358]]\n",
      "              precision    recall  f1-score   support\n",
      "\n",
      "           0       0.94      0.96      0.95      2281\n",
      "           1       0.81      0.73      0.77       488\n",
      "\n",
      "   micro avg       0.92      0.92      0.92      2769\n",
      "   macro avg       0.88      0.85      0.86      2769\n",
      "weighted avg       0.92      0.92      0.92      2769\n",
      "\n",
      "entertainment\n",
      "[[2328   74]\n",
      " [ 147  220]]\n",
      "              precision    recall  f1-score   support\n",
      "\n",
      "           0       0.94      0.97      0.95      2402\n",
      "           1       0.75      0.60      0.67       367\n",
      "\n",
      "   micro avg       0.92      0.92      0.92      2769\n",
      "   macro avg       0.84      0.78      0.81      2769\n",
      "weighted avg       0.92      0.92      0.92      2769\n",
      "\n",
      "hatke\n",
      "[[2749    6]\n",
      " [  13    1]]\n",
      "              precision    recall  f1-score   support\n",
      "\n",
      "           0       1.00      1.00      1.00      2755\n",
      "           1       0.14      0.07      0.10        14\n",
      "\n",
      "   micro avg       0.99      0.99      0.99      2769\n",
      "   macro avg       0.57      0.53      0.55      2769\n",
      "weighted avg       0.99      0.99      0.99      2769\n",
      "\n"
     ]
    }
   ],
   "source": [
    "for col in labels:\n",
    "    print(col)\n",
    "    model = BernoulliNB()\n",
    "    model.fit(X_train, Y_train[col])\n",
    "    y_pred = model.predict(X_test)\n",
    "    print(confusion_matrix(Y_test[col], y_pred))\n",
    "    print(classification_report(Y_test[col], y_pred))"
   ]
  },
  {
   "cell_type": "code",
   "execution_count": 18,
   "metadata": {
    "ExecuteTime": {
     "end_time": "2019-06-22T13:41:48.080597Z",
     "start_time": "2019-06-22T13:41:47.386941Z"
    }
   },
   "outputs": [],
   "source": [
    "clf = [BernoulliNB()]*7\n",
    "for i in range(7):\n",
    "    clf[i].fit(X, Y[labels[i]])"
   ]
  },
  {
   "cell_type": "markdown",
   "metadata": {},
   "source": [
    "# Predictions"
   ]
  },
  {
   "cell_type": "code",
   "execution_count": 21,
   "metadata": {
    "ExecuteTime": {
     "end_time": "2019-06-22T13:42:29.952275Z",
     "start_time": "2019-06-22T13:42:29.941305Z"
    }
   },
   "outputs": [],
   "source": [
    "def classify(q):\n",
    "    q = cleanText(str(q), True, False, False, False)\n",
    "    feat_q = []\n",
    "    for f in feats:\n",
    "        feat_q.append(bincount(q, f))\n",
    "    print(feat_q)\n",
    "    class_tags= []\n",
    "    for i in range(7):\n",
    "        if clf[i].predict([feat_q])[0]:\n",
    "            class_tags.append(labels[i])\n",
    "    return class_tags"
   ]
  },
  {
   "cell_type": "code",
   "execution_count": 22,
   "metadata": {
    "ExecuteTime": {
     "end_time": "2019-06-22T13:42:31.684857Z",
     "start_time": "2019-06-22T13:42:31.560679Z"
    }
   },
   "outputs": [
    {
     "name": "stdout",
     "output_type": "stream",
     "text": [
      "[0, 0, 0, 0, 0, 0, 0, 0, 0, 0, 0, 0, 0, 0, 0, 0, 0, 0, 0, 0, 0, 0, 0, 0, 0, 0, 0, 0, 0, 0, 0, 0, 0, 0, 0, 0, 0, 0, 0, 0, 0, 0, 0, 0, 0, 0, 0, 0, 0, 0, 0, 0, 0, 0, 0, 0, 0, 0, 0, 0, 0, 0, 0, 0, 0, 0, 0, 0, 0, 0, 0, 0, 0, 0, 0, 0, 0, 0, 0, 0, 0, 0, 0, 1, 0, 0, 0, 0, 0, 0, 0, 0, 0, 1, 0, 0, 1, 0, 0, 0, 0, 0, 0, 0, 0, 0, 0, 0, 0, 0, 0, 0, 0, 0, 0, 0, 0, 0, 0, 0, 0, 0, 1, 0, 0, 0, 0, 0, 0, 0, 0, 0, 0, 0, 0, 0, 0, 0, 0, 0, 0, 0, 0, 0, 0, 0, 0, 0, 0, 0, 0, 0, 0, 0, 0, 0, 0, 0, 0, 0, 0, 0, 0, 0, 0, 0, 0, 0, 0, 0, 0, 0, 0, 1, 0, 0, 0, 0, 0, 0, 0, 0, 0, 0, 0, 0, 0, 0, 0, 0, 0, 0, 0, 0, 0, 0, 0, 0, 0, 0, 0, 0, 0, 0, 0, 0, 0, 0, 0, 0, 0, 0, 0, 0, 0, 0, 0, 0, 0, 0, 0, 0, 0, 0, 0, 0, 0, 0, 0, 0, 0, 0, 1, 0, 0, 0, 0, 0, 0, 0, 0, 0, 0, 0, 0, 0, 0, 0, 0, 0, 0, 0, 0, 0, 0, 0, 0, 0, 0, 0, 1, 0, 0, 0, 0, 0, 0, 0, 0, 0, 0, 0, 0, 0, 0, 0, 0, 0, 0, 0, 0, 0, 0, 0, 0, 0, 0, 0, 0, 0, 0, 0, 0, 0, 0, 0, 0, 0, 0, 0, 0, 0, 0, 0, 0, 0, 0, 0, 0, 0, 0, 0, 0, 0, 0, 0, 0, 0, 0, 0, 1, 0, 0, 0, 0, 0, 0, 0, 0, 0, 0, 0, 0, 0, 0, 0, 0, 0, 0, 0, 0, 0, 0, 0, 0, 0, 0, 0, 0, 0, 0, 0, 0, 0, 0, 0, 0, 0, 0, 0, 0, 0, 0, 0, 0, 0, 0, 0, 0, 1, 0, 0, 0, 0, 0, 0, 0, 0, 0, 0, 0, 0, 0, 0, 0, 0, 0, 0, 0, 0, 0, 0, 0, 0, 0, 1, 0, 0, 0, 0, 0, 0, 0, 0, 0, 0, 0, 0, 0, 0, 0, 0, 0, 0, 0, 0, 0, 0, 0, 0, 0, 0, 0, 0, 0, 0, 0, 0, 0, 0, 0, 0, 1, 0, 0, 0, 0, 0, 0, 0, 0, 0, 0, 0, 0, 0, 0, 0, 0, 0, 0, 0, 0, 0, 0, 0, 0, 0, 0, 0, 0, 0, 0, 0, 0, 0, 0, 0, 0, 0, 0, 0, 0, 0, 0, 0, 0, 0, 0, 0, 0, 0, 0, 0, 0]\n"
     ]
    },
    {
     "data": {
      "text/plain": [
       "[]"
      ]
     },
     "execution_count": 22,
     "metadata": {},
     "output_type": "execute_result"
    }
   ],
   "source": [
    "classify('I thought India will score about 400 runs today. Boring start #BeThe12thMan #INDvsAFG @CocaCola_Ind')"
   ]
  },
  {
   "cell_type": "code",
   "execution_count": 24,
   "metadata": {
    "ExecuteTime": {
     "end_time": "2019-06-22T13:49:01.251690Z",
     "start_time": "2019-06-22T13:49:01.221768Z"
    }
   },
   "outputs": [
    {
     "data": {
      "text/plain": [
       "array([[-5.79181516, -5.17277595, -5.5686716 , -4.81995457, -4.49904685,\n",
       "        -5.8281828 , -4.01203188, -8.02540738, -4.26420726, -4.25648522,\n",
       "        -5.8281828 , -5.98852545, -5.25281865, -5.4104476 , -4.74199303,\n",
       "        -5.94596584, -5.8281828 , -5.27387206, -6.07949723, -3.66869855,\n",
       "        -4.90451196, -6.48496234, -4.12680739, -5.17277595, -5.48643351,\n",
       "        -3.8875777 , -4.79328633, -3.69467404, -6.55907031, -5.15372775,\n",
       "        -6.07949723, -5.5686716 , -5.72282228, -3.90908391, -5.75672384,\n",
       "        -4.98088494, -4.21136478, -5.72282228, -3.85102011, -3.18648346,\n",
       "        -4.78021424, -5.29537827, -4.33652792, -7.04457812, -5.19219403,\n",
       "        -4.51884948, -3.64338074, -6.17958069, -3.78648159, -5.21199666,\n",
       "        -5.8281828 , -5.29537827, -5.46045802, -5.59765914, -5.59765914,\n",
       "        -5.15372775, -4.28773776, -4.80653155, -4.49904685, -6.07949723,\n",
       "        -4.24121774, -5.75672384, -4.28773776, -6.63911302, -5.0809684 ,\n",
       "        -4.75457181, -4.06142463, -4.04884585, -8.43087248, -3.84081594,\n",
       "        -6.12828739, -4.91932705, -5.75672384, -9.12401967, -4.79328633,\n",
       "        -9.12401967, -5.17277595, -4.58072488, -4.87552442, -4.99688528,\n",
       "        -6.12828739, -5.75672384, -5.43514021, -3.17077633, -3.19443052,\n",
       "        -3.47504543, -5.48643351, -6.29080632, -4.83356022, -4.70517906,\n",
       "        -5.5686716 , -3.34019448, -6.23364791, -3.30393674, -4.64668285,\n",
       "        -5.36281955, -2.96070486, -5.98852545, -5.15372775, -6.29080632,\n",
       "        -4.12007336, -5.86592313, -5.86592313, -3.98235611, -4.64668285,\n",
       "        -4.96513658, -4.21874489, -5.75672384, -4.96513658, -7.17810952,\n",
       "        -8.43087248, -5.25281865, -5.54050073, -5.17277595, -5.72282228,\n",
       "        -3.1250831 , -5.98852545, -4.39663185, -5.36281955, -4.29570593,\n",
       "        -3.45759298, -4.44188844, -3.0304499 , -3.47857277, -4.37908754,\n",
       "        -4.74199303, -5.75672384, -4.75457181, -5.23219937, -6.48496234,\n",
       "        -5.36281955, -4.41448946, -4.3037381 , -6.48496234, -5.94596584,\n",
       "        -4.61316016, -4.16117504, -4.16117504, -3.81081369, -4.99688528,\n",
       "        -5.8281828 , -4.91932705, -3.49280788, -4.4235393 , -4.41448946,\n",
       "        -5.0131458 , -8.43087248, -5.0296751 , -5.86592313, -6.29080632,\n",
       "        -5.8281828 , -4.62421   , -9.12401967, -4.00005569, -8.43087248,\n",
       "        -5.0809684 , -4.76731084, -5.65828376, -4.83356022, -6.03297721,\n",
       "        -4.3037381 , -6.17958069, -5.06357665, -4.79328633, -4.16117504,\n",
       "        -3.92001298, -4.18237724, -6.12828739, -4.32822912, -5.54050073,\n",
       "        -5.65828376, -4.72957051, -6.07949723, -2.95650317, -5.19219403,\n",
       "        -5.25281865, -4.78021424, -6.23364791, -4.15420637, -4.59142017,\n",
       "        -3.51089156, -4.24121774, -4.39663185, -6.12828739, -5.69003246,\n",
       "        -4.53905219, -3.15787293, -3.97652519, -5.36281955, -5.31735718,\n",
       "        -5.72282228, -3.42692618, -4.58072488, -5.36281955, -5.98852545,\n",
       "        -6.29080632, -4.96513658, -7.51458175, -4.51884948, -4.04884585,\n",
       "        -5.5686716 , -4.62421   , -4.6353833 , -4.93436492, -3.92552263,\n",
       "        -5.75672384, -4.44188844, -5.0131458 , -3.33712228, -5.54050073,\n",
       "        -5.72282228, -5.8281828 , -3.8875777 , -4.16819261, -4.4235393 ,\n",
       "        -5.72282228, -4.08059455, -7.04457812, -5.4104476 , -5.4104476 ,\n",
       "        -5.6275121 , -5.11668648, -5.54050073, -5.59765914, -5.65828376,\n",
       "        -9.12401967, -4.58072488, -6.82143457, -5.79181516, -4.21136478,\n",
       "        -6.17958069, -3.67298121, -2.74729272, -3.98235611, -4.34489617,\n",
       "        -4.51884948, -4.78021424, -4.40552079, -4.50889915, -6.23364791,\n",
       "        -5.11668648, -4.12680739, -6.23364791, -5.23219937, -3.39717192,\n",
       "        -4.61316016, -5.51310175, -6.29080632, -6.29080632, -8.02540738,\n",
       "        -4.38782122, -6.63911302, -3.67728229, -3.57106008, -5.6275121 ,\n",
       "        -5.51310175, -3.42692618, -4.84735355, -5.19219403, -5.90514384,\n",
       "        -3.10057207, -6.17958069, -4.51884948, -3.89291105, -5.46045802,\n",
       "        -4.88991316, -5.36281955, -3.86652429, -5.86592313, -5.36281955,\n",
       "        -5.8281828 , -5.51310175, -5.6275121 , -2.84175292, -6.12828739,\n",
       "        -5.13503562, -5.46045802, -5.59765914, -5.25281865, -4.59142017,\n",
       "        -4.37908754, -4.91932705, -5.72282228, -3.91453351, -3.52190084,\n",
       "        -5.51310175, -5.17277595, -7.51458175, -4.47005932, -5.98852545,\n",
       "        -5.98852545, -4.87552442, -5.86592313, -4.9496324 , -5.51310175,\n",
       "        -4.64668285, -5.06357665, -5.36281955, -4.91932705, -6.03297721,\n",
       "        -5.79181516, -3.56333803, -6.12828739, -6.92679509, -4.80653155,\n",
       "        -6.82143457, -5.13503562, -5.09866797, -3.78648159, -7.3322602 ,\n",
       "        -4.10013914, -4.83356022, -5.69003246, -6.17958069, -5.98852545,\n",
       "        -5.06357665, -2.93165718, -7.51458175, -6.07949723, -5.94596584,\n",
       "        -3.74412231, -6.17958069, -5.90514384, -5.69003246, -4.61316016,\n",
       "        -5.21199666, -8.43087248, -5.31735718, -5.09866797, -5.75672384,\n",
       "        -3.26038849, -5.4104476 , -4.14728592, -4.72957051, -4.23367054,\n",
       "        -4.62421   , -4.66967237, -4.9496324 , -6.12828739, -5.0131458 ,\n",
       "        -6.17958069, -4.60223109, -4.51884948, -3.92552263, -4.12680739,\n",
       "        -3.98235611, -6.03297721, -4.79328633, -4.00602585, -5.23219937,\n",
       "        -6.17958069, -5.46045802, -6.41596946, -6.82143457, -4.57014277,\n",
       "        -5.17277595, -4.10673983, -5.75672384, -3.87174624, -5.94596584,\n",
       "        -6.07949723, -4.9496324 , -4.70517906, -5.8281828 , -5.4104476 ,\n",
       "        -5.06357665, -5.27387206, -5.79181516, -3.36827745, -3.61059092,\n",
       "        -5.48643351, -6.35143094, -4.46058057, -5.29537827, -5.21199666,\n",
       "        -6.17958069, -2.62724468, -5.15372775, -4.86133979, -4.18954573,\n",
       "        -5.51310175, -3.01922643, -6.63911302, -5.11668648, -4.83356022,\n",
       "        -5.79181516, -4.02415324, -3.64338074, -3.40370789, -3.44384706,\n",
       "        -6.82143457, -5.72282228, -4.59142017, -5.11668648, -7.51458175,\n",
       "        -2.86252798, -3.74412231, -3.62685144, -5.11668648, -4.83356022,\n",
       "        -5.21199666, -5.6275121 , -4.02415324, -5.5686716 , -5.31735718,\n",
       "        -3.81081369, -5.0131458 , -5.54050073, -6.23364791, -4.3037381 ,\n",
       "        -6.23364791, -5.86592313, -5.17277595, -5.79181516, -6.07949723,\n",
       "        -4.9496324 , -6.07949723, -5.31735718, -5.54050073, -5.5686716 ,\n",
       "        -5.72282228, -5.98852545, -8.43087248, -6.23364791, -3.04408647,\n",
       "        -3.75338164, -2.73210255, -3.4506964 , -4.91932705, -5.13503562,\n",
       "        -5.04648222, -4.17525978, -2.87985276, -3.87699559, -5.29537827,\n",
       "        -6.07949723, -6.03297721, -5.4104476 , -5.33983003, -4.22617987,\n",
       "        -3.87699559, -3.85616151, -4.01807419, -5.8281828 , -2.84549824,\n",
       "        -5.21199666, -5.75672384, -4.21136478, -4.64668285, -4.29570593,\n",
       "        -3.68160195, -6.17958069, -4.53905219, -5.15372775, -6.07949723,\n",
       "        -5.31735718, -4.91932705, -4.12680739, -5.94596584, -4.83356022,\n",
       "        -4.44188844, -6.23364791, -5.8281828 , -3.64755611, -4.2719894 ,\n",
       "        -5.65828376, -4.10673983, -5.72282228, -3.73494794, -5.72282228,\n",
       "        -4.3037381 , -4.86133979, -3.90908391, -5.86592313, -3.14766876,\n",
       "        -3.1451339 , -5.6275121 , -5.75672384, -7.7377253 , -5.98852545,\n",
       "        -5.54050073, -4.05511546, -6.41596946, -4.60223109, -4.96513658],\n",
       "       [-4.11087386, -2.31911439, -4.11087386, -4.11087386, -4.11087386,\n",
       "        -3.41772668, -4.11087386, -3.41772668, -4.11087386, -3.01226158,\n",
       "        -3.01226158, -4.11087386, -4.11087386, -4.11087386, -2.7245795 ,\n",
       "        -3.01226158, -4.11087386, -3.41772668, -4.11087386, -2.50143595,\n",
       "        -4.11087386, -4.11087386, -2.31911439, -4.11087386, -4.11087386,\n",
       "        -3.41772668, -4.11087386, -2.31911439, -4.11087386, -3.41772668,\n",
       "        -4.11087386, -4.11087386, -4.11087386, -3.41772668, -3.41772668,\n",
       "        -3.01226158, -4.11087386, -4.11087386, -3.41772668, -2.16496372,\n",
       "        -4.11087386, -3.41772668, -3.41772668, -3.01226158, -4.11087386,\n",
       "        -3.41772668, -2.50143595, -4.11087386, -4.11087386, -3.41772668,\n",
       "        -4.11087386, -4.11087386, -3.41772668, -4.11087386, -4.11087386,\n",
       "        -2.7245795 , -4.11087386, -2.7245795 , -4.11087386, -4.11087386,\n",
       "        -3.41772668, -4.11087386, -4.11087386, -3.41772668, -3.01226158,\n",
       "        -3.01226158, -4.11087386, -4.11087386, -3.41772668, -4.11087386,\n",
       "        -3.41772668, -4.11087386, -4.11087386, -3.41772668, -4.11087386,\n",
       "        -3.41772668, -4.11087386, -4.11087386, -3.41772668, -4.11087386,\n",
       "        -4.11087386, -4.11087386, -4.11087386, -3.01226158, -3.01226158,\n",
       "        -2.7245795 , -4.11087386, -4.11087386, -4.11087386, -3.41772668,\n",
       "        -3.01226158, -3.41772668, -3.01226158, -4.11087386, -4.11087386,\n",
       "        -4.11087386, -2.7245795 , -4.11087386, -4.11087386, -3.41772668,\n",
       "        -3.41772668, -4.11087386, -4.11087386, -2.31911439, -4.11087386,\n",
       "        -4.11087386, -2.7245795 , -4.11087386, -3.41772668, -3.01226158,\n",
       "        -3.41772668, -3.01226158, -4.11087386, -4.11087386, -4.11087386,\n",
       "        -4.11087386, -4.11087386, -4.11087386, -4.11087386, -3.41772668,\n",
       "        -3.41772668, -4.11087386, -3.41772668, -2.16496372, -4.11087386,\n",
       "        -4.11087386, -4.11087386, -4.11087386, -4.11087386, -4.11087386,\n",
       "        -2.7245795 , -4.11087386, -4.11087386, -4.11087386, -4.11087386,\n",
       "        -4.11087386, -4.11087386, -3.41772668, -4.11087386, -4.11087386,\n",
       "        -4.11087386, -3.41772668, -4.11087386, -2.7245795 , -3.01226158,\n",
       "        -4.11087386, -3.01226158, -3.41772668, -4.11087386, -4.11087386,\n",
       "        -4.11087386, -4.11087386, -3.41772668, -4.11087386, -3.41772668,\n",
       "        -3.41772668, -4.11087386, -4.11087386, -3.41772668, -4.11087386,\n",
       "        -4.11087386, -4.11087386, -2.7245795 , -4.11087386, -3.41772668,\n",
       "        -3.41772668, -3.01226158, -4.11087386, -3.41772668, -4.11087386,\n",
       "        -4.11087386, -3.01226158, -4.11087386, -2.50143595, -3.41772668,\n",
       "        -4.11087386, -3.41772668, -4.11087386, -4.11087386, -4.11087386,\n",
       "        -3.01226158, -3.01226158, -4.11087386, -4.11087386, -4.11087386,\n",
       "        -4.11087386, -4.11087386, -2.7245795 , -4.11087386, -2.7245795 ,\n",
       "        -4.11087386, -3.41772668, -4.11087386, -3.41772668, -4.11087386,\n",
       "        -4.11087386, -4.11087386, -2.7245795 , -3.41772668, -3.01226158,\n",
       "        -4.11087386, -3.41772668, -4.11087386, -3.41772668, -2.7245795 ,\n",
       "        -3.01226158, -2.7245795 , -4.11087386, -2.16496372, -4.11087386,\n",
       "        -4.11087386, -3.41772668, -4.11087386, -4.11087386, -4.11087386,\n",
       "        -4.11087386, -4.11087386, -2.7245795 , -4.11087386, -4.11087386,\n",
       "        -3.41772668, -4.11087386, -4.11087386, -4.11087386, -4.11087386,\n",
       "        -3.41772668, -4.11087386, -3.01226158, -4.11087386, -3.41772668,\n",
       "        -4.11087386, -2.7245795 , -2.16496372, -4.11087386, -3.41772668,\n",
       "        -3.41772668, -3.01226158, -2.7245795 , -3.41772668, -4.11087386,\n",
       "        -4.11087386, -4.11087386, -4.11087386, -2.7245795 , -3.41772668,\n",
       "        -4.11087386, -4.11087386, -3.41772668, -4.11087386, -3.01226158,\n",
       "        -4.11087386, -3.01226158, -4.11087386, -4.11087386, -4.11087386,\n",
       "        -4.11087386, -3.41772668, -3.01226158, -4.11087386, -4.11087386,\n",
       "        -2.03143232, -2.7245795 , -4.11087386, -3.41772668, -4.11087386,\n",
       "        -3.41772668, -4.11087386, -2.7245795 , -3.41772668, -4.11087386,\n",
       "        -4.11087386, -3.41772668, -4.11087386, -2.16496372, -4.11087386,\n",
       "        -4.11087386, -3.41772668, -3.01226158, -4.11087386, -4.11087386,\n",
       "        -4.11087386, -4.11087386, -4.11087386, -4.11087386, -3.41772668,\n",
       "        -4.11087386, -4.11087386, -3.01226158, -4.11087386, -4.11087386,\n",
       "        -4.11087386, -4.11087386, -4.11087386, -4.11087386, -4.11087386,\n",
       "        -2.7245795 , -4.11087386, -2.7245795 , -4.11087386, -4.11087386,\n",
       "        -4.11087386, -2.50143595, -4.11087386, -3.41772668, -4.11087386,\n",
       "        -3.41772668, -4.11087386, -4.11087386, -4.11087386, -3.41772668,\n",
       "        -4.11087386, -4.11087386, -3.41772668, -3.41772668, -4.11087386,\n",
       "        -4.11087386, -4.11087386, -3.41772668, -4.11087386, -4.11087386,\n",
       "        -4.11087386, -4.11087386, -4.11087386, -4.11087386, -3.41772668,\n",
       "        -4.11087386, -3.41772668, -4.11087386, -4.11087386, -2.7245795 ,\n",
       "        -3.01226158, -3.41772668, -4.11087386, -4.11087386, -4.11087386,\n",
       "        -4.11087386, -2.7245795 , -4.11087386, -4.11087386, -4.11087386,\n",
       "        -3.01226158, -4.11087386, -2.7245795 , -4.11087386, -4.11087386,\n",
       "        -2.7245795 , -4.11087386, -4.11087386, -4.11087386, -4.11087386,\n",
       "        -4.11087386, -4.11087386, -4.11087386, -3.01226158, -4.11087386,\n",
       "        -3.41772668, -3.41772668, -4.11087386, -3.01226158, -4.11087386,\n",
       "        -4.11087386, -4.11087386, -3.41772668, -4.11087386, -4.11087386,\n",
       "        -4.11087386, -4.11087386, -4.11087386, -2.50143595, -4.11087386,\n",
       "        -4.11087386, -3.01226158, -3.41772668, -4.11087386, -4.11087386,\n",
       "        -4.11087386, -4.11087386, -4.11087386, -4.11087386, -4.11087386,\n",
       "        -4.11087386, -4.11087386, -3.41772668, -4.11087386, -4.11087386,\n",
       "        -3.01226158, -4.11087386, -4.11087386, -4.11087386, -3.41772668,\n",
       "        -3.01226158, -4.11087386, -4.11087386, -4.11087386, -3.01226158,\n",
       "        -2.50143595, -3.41772668, -4.11087386, -4.11087386, -4.11087386,\n",
       "        -4.11087386, -4.11087386, -4.11087386, -4.11087386, -4.11087386,\n",
       "        -4.11087386, -3.41772668, -4.11087386, -4.11087386, -4.11087386,\n",
       "        -4.11087386, -4.11087386, -4.11087386, -4.11087386, -4.11087386,\n",
       "        -4.11087386, -4.11087386, -4.11087386, -4.11087386, -4.11087386,\n",
       "        -4.11087386, -3.41772668, -3.01226158, -4.11087386, -4.11087386,\n",
       "        -4.11087386, -1.54592451, -3.01226158, -4.11087386, -4.11087386,\n",
       "        -3.41772668, -3.41772668, -4.11087386, -3.41772668, -4.11087386,\n",
       "        -4.11087386, -4.11087386, -4.11087386, -4.11087386, -3.41772668,\n",
       "        -3.41772668, -3.01226158, -3.01226158, -3.41772668, -1.54592451,\n",
       "        -4.11087386, -4.11087386, -4.11087386, -4.11087386, -4.11087386,\n",
       "        -3.41772668, -4.11087386, -4.11087386, -4.11087386, -4.11087386,\n",
       "        -3.41772668, -3.41772668, -4.11087386, -4.11087386, -4.11087386,\n",
       "        -4.11087386, -4.11087386, -4.11087386, -2.31911439, -4.11087386,\n",
       "        -4.11087386, -4.11087386, -4.11087386, -3.41772668, -4.11087386,\n",
       "        -4.11087386, -2.03143232, -3.01226158, -4.11087386, -3.41772668,\n",
       "        -3.41772668, -4.11087386, -4.11087386, -3.01226158, -4.11087386,\n",
       "        -4.11087386, -3.01226158, -4.11087386, -4.11087386, -3.41772668]])"
      ]
     },
     "execution_count": 24,
     "metadata": {},
     "output_type": "execute_result"
    }
   ],
   "source": [
    "clf[0].feature_log_prob_ "
   ]
  },
  {
   "cell_type": "code",
   "execution_count": null,
   "metadata": {},
   "outputs": [],
   "source": []
  }
 ],
 "metadata": {
  "kernelspec": {
   "display_name": "Python 3",
   "language": "python",
   "name": "python3"
  },
  "language_info": {
   "codemirror_mode": {
    "name": "ipython",
    "version": 3
   },
   "file_extension": ".py",
   "mimetype": "text/x-python",
   "name": "python",
   "nbconvert_exporter": "python",
   "pygments_lexer": "ipython3",
   "version": "3.7.3"
  },
  "toc": {
   "base_numbering": 1,
   "nav_menu": {},
   "number_sections": true,
   "sideBar": true,
   "skip_h1_title": false,
   "title_cell": "Table of Contents",
   "title_sidebar": "Contents",
   "toc_cell": false,
   "toc_position": {},
   "toc_section_display": true,
   "toc_window_display": false
  },
  "varInspector": {
   "cols": {
    "lenName": 16,
    "lenType": 16,
    "lenVar": 40
   },
   "kernels_config": {
    "python": {
     "delete_cmd_postfix": "",
     "delete_cmd_prefix": "del ",
     "library": "var_list.py",
     "varRefreshCmd": "print(var_dic_list())"
    },
    "r": {
     "delete_cmd_postfix": ") ",
     "delete_cmd_prefix": "rm(",
     "library": "var_list.r",
     "varRefreshCmd": "cat(var_dic_list()) "
    }
   },
   "types_to_exclude": [
    "module",
    "function",
    "builtin_function_or_method",
    "instance",
    "_Feature"
   ],
   "window_display": false
  }
 },
 "nbformat": 4,
 "nbformat_minor": 2
}
