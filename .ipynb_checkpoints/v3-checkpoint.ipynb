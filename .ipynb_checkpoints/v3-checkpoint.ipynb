{
 "cells": [
  {
   "cell_type": "markdown",
   "metadata": {
    "slideshow": {
     "slide_type": "skip"
    }
   },
   "source": [
    "https://www.kaggle.com/rmisra/news-category-dataset"
   ]
  },
  {
   "cell_type": "markdown",
   "metadata": {
    "slideshow": {
     "slide_type": "slide"
    }
   },
   "source": [
    "## Import Libraries"
   ]
  },
  {
   "cell_type": "code",
   "execution_count": 1,
   "metadata": {
    "ExecuteTime": {
     "end_time": "2019-05-12T03:07:43.289985Z",
     "start_time": "2019-05-12T03:07:30.914305Z"
    },
    "cell_style": "center",
    "slideshow": {
     "slide_type": "subslide"
    }
   },
   "outputs": [],
   "source": [
    "import numpy as np\n",
    "import pandas as pd\n",
    "import matplotlib.pyplot as plt\n",
    "\n",
    "%matplotlib inline"
   ]
  },
  {
   "cell_type": "code",
   "execution_count": 2,
   "metadata": {
    "ExecuteTime": {
     "end_time": "2019-05-12T03:07:43.685926Z",
     "start_time": "2019-05-12T03:07:43.304945Z"
    },
    "slideshow": {
     "slide_type": "subslide"
    }
   },
   "outputs": [],
   "source": [
    "from wordcloud import WordCloud, STOPWORDS\n",
    "from PIL import Image"
   ]
  },
  {
   "cell_type": "code",
   "execution_count": 3,
   "metadata": {
    "ExecuteTime": {
     "end_time": "2019-05-12T03:08:07.722893Z",
     "start_time": "2019-05-12T03:07:43.701884Z"
    }
   },
   "outputs": [],
   "source": [
    "import nltk, re\n",
    "from nltk.stem.porter import PorterStemmer\n",
    "from nltk.stem import WordNetLemmatizer"
   ]
  },
  {
   "cell_type": "code",
   "execution_count": 4,
   "metadata": {
    "ExecuteTime": {
     "end_time": "2019-05-12T03:08:07.737802Z",
     "start_time": "2019-05-12T03:08:07.731818Z"
    }
   },
   "outputs": [],
   "source": [
    "import pickle"
   ]
  },
  {
   "cell_type": "code",
   "execution_count": 5,
   "metadata": {
    "ExecuteTime": {
     "end_time": "2019-05-12T03:08:07.960916Z",
     "start_time": "2019-05-12T03:08:07.759745Z"
    }
   },
   "outputs": [],
   "source": [
    "from ipywidgets import interact, interactive, fixed, interact_manual\n",
    "import ipywidgets as widgets"
   ]
  },
  {
   "cell_type": "code",
   "execution_count": 6,
   "metadata": {
    "ExecuteTime": {
     "end_time": "2019-05-12T03:08:08.232263Z",
     "start_time": "2019-05-12T03:08:07.971874Z"
    },
    "slideshow": {
     "slide_type": "fragment"
    }
   },
   "outputs": [],
   "source": [
    "pd.options.display.max_colwidth = -1"
   ]
  },
  {
   "cell_type": "markdown",
   "metadata": {
    "slideshow": {
     "slide_type": "slide"
    }
   },
   "source": [
    "## Import Data"
   ]
  },
  {
   "cell_type": "code",
   "execution_count": 7,
   "metadata": {
    "ExecuteTime": {
     "end_time": "2019-05-10T17:25:45.889768Z",
     "start_time": "2019-05-10T17:25:43.712091Z"
    },
    "cell_style": "center",
    "slideshow": {
     "slide_type": "subslide"
    }
   },
   "outputs": [],
   "source": [
    "data = pd.read_json('News_Category_Dataset_v2.json', lines=True)"
   ]
  },
  {
   "cell_type": "code",
   "execution_count": 8,
   "metadata": {
    "ExecuteTime": {
     "end_time": "2019-05-10T17:25:46.035380Z",
     "start_time": "2019-05-10T17:25:46.027403Z"
    },
    "cell_style": "center",
    "slideshow": {
     "slide_type": "subslide"
    }
   },
   "outputs": [
    {
     "data": {
      "text/plain": [
       "(200853, 6)"
      ]
     },
     "execution_count": 8,
     "metadata": {},
     "output_type": "execute_result"
    }
   ],
   "source": [
    "data.shape"
   ]
  },
  {
   "cell_type": "code",
   "execution_count": 9,
   "metadata": {
    "ExecuteTime": {
     "end_time": "2019-05-10T17:25:46.194099Z",
     "start_time": "2019-05-10T17:25:46.150073Z"
    },
    "cell_style": "center",
    "slideshow": {
     "slide_type": "subslide"
    }
   },
   "outputs": [
    {
     "data": {
      "text/html": [
       "<div>\n",
       "<style scoped>\n",
       "    .dataframe tbody tr th:only-of-type {\n",
       "        vertical-align: middle;\n",
       "    }\n",
       "\n",
       "    .dataframe tbody tr th {\n",
       "        vertical-align: top;\n",
       "    }\n",
       "\n",
       "    .dataframe thead th {\n",
       "        text-align: right;\n",
       "    }\n",
       "</style>\n",
       "<table border=\"1\" class=\"dataframe\">\n",
       "  <thead>\n",
       "    <tr style=\"text-align: right;\">\n",
       "      <th></th>\n",
       "      <th>authors</th>\n",
       "      <th>category</th>\n",
       "      <th>date</th>\n",
       "      <th>headline</th>\n",
       "      <th>link</th>\n",
       "      <th>short_description</th>\n",
       "    </tr>\n",
       "  </thead>\n",
       "  <tbody>\n",
       "    <tr>\n",
       "      <th>0</th>\n",
       "      <td>Melissa Jeltsen</td>\n",
       "      <td>CRIME</td>\n",
       "      <td>2018-05-26</td>\n",
       "      <td>There Were 2 Mass Shootings In Texas Last Week, But Only 1 On TV</td>\n",
       "      <td>https://www.huffingtonpost.com/entry/texas-amanda-painter-mass-shooting_us_5b081ab4e4b0802d69caad89</td>\n",
       "      <td>She left her husband. He killed their children. Just another day in America.</td>\n",
       "    </tr>\n",
       "    <tr>\n",
       "      <th>1</th>\n",
       "      <td>Andy McDonald</td>\n",
       "      <td>ENTERTAINMENT</td>\n",
       "      <td>2018-05-26</td>\n",
       "      <td>Will Smith Joins Diplo And Nicky Jam For The 2018 World Cup's Official Song</td>\n",
       "      <td>https://www.huffingtonpost.com/entry/will-smith-joins-diplo-and-nicky-jam-for-the-official-2018-world-cup-song_us_5b09726fe4b0fdb2aa541201</td>\n",
       "      <td>Of course it has a song.</td>\n",
       "    </tr>\n",
       "    <tr>\n",
       "      <th>2</th>\n",
       "      <td>Ron Dicker</td>\n",
       "      <td>ENTERTAINMENT</td>\n",
       "      <td>2018-05-26</td>\n",
       "      <td>Hugh Grant Marries For The First Time At Age 57</td>\n",
       "      <td>https://www.huffingtonpost.com/entry/hugh-grant-marries_us_5b09212ce4b0568a880b9a8c</td>\n",
       "      <td>The actor and his longtime girlfriend Anna Eberstein tied the knot in a civil ceremony.</td>\n",
       "    </tr>\n",
       "    <tr>\n",
       "      <th>3</th>\n",
       "      <td>Ron Dicker</td>\n",
       "      <td>ENTERTAINMENT</td>\n",
       "      <td>2018-05-26</td>\n",
       "      <td>Jim Carrey Blasts 'Castrato' Adam Schiff And Democrats In New Artwork</td>\n",
       "      <td>https://www.huffingtonpost.com/entry/jim-carrey-adam-schiff-democrats_us_5b0950e8e4b0fdb2aa53e675</td>\n",
       "      <td>The actor gives Dems an ass-kicking for not fighting hard enough against Donald Trump.</td>\n",
       "    </tr>\n",
       "    <tr>\n",
       "      <th>4</th>\n",
       "      <td>Ron Dicker</td>\n",
       "      <td>ENTERTAINMENT</td>\n",
       "      <td>2018-05-26</td>\n",
       "      <td>Julianna Margulies Uses Donald Trump Poop Bags To Pick Up After Her Dog</td>\n",
       "      <td>https://www.huffingtonpost.com/entry/julianna-margulies-trump-poop-bag_us_5b093ec2e4b0fdb2aa53df70</td>\n",
       "      <td>The \"Dietland\" actress said using the bags is a \"really cathartic, therapeutic moment.\"</td>\n",
       "    </tr>\n",
       "  </tbody>\n",
       "</table>\n",
       "</div>"
      ],
      "text/plain": [
       "           authors       category       date  \\\n",
       "0  Melissa Jeltsen  CRIME         2018-05-26   \n",
       "1  Andy McDonald    ENTERTAINMENT 2018-05-26   \n",
       "2  Ron Dicker       ENTERTAINMENT 2018-05-26   \n",
       "3  Ron Dicker       ENTERTAINMENT 2018-05-26   \n",
       "4  Ron Dicker       ENTERTAINMENT 2018-05-26   \n",
       "\n",
       "                                                                      headline  \\\n",
       "0  There Were 2 Mass Shootings In Texas Last Week, But Only 1 On TV              \n",
       "1  Will Smith Joins Diplo And Nicky Jam For The 2018 World Cup's Official Song   \n",
       "2  Hugh Grant Marries For The First Time At Age 57                               \n",
       "3  Jim Carrey Blasts 'Castrato' Adam Schiff And Democrats In New Artwork         \n",
       "4  Julianna Margulies Uses Donald Trump Poop Bags To Pick Up After Her Dog       \n",
       "\n",
       "                                                                                                                                         link  \\\n",
       "0  https://www.huffingtonpost.com/entry/texas-amanda-painter-mass-shooting_us_5b081ab4e4b0802d69caad89                                          \n",
       "1  https://www.huffingtonpost.com/entry/will-smith-joins-diplo-and-nicky-jam-for-the-official-2018-world-cup-song_us_5b09726fe4b0fdb2aa541201   \n",
       "2  https://www.huffingtonpost.com/entry/hugh-grant-marries_us_5b09212ce4b0568a880b9a8c                                                          \n",
       "3  https://www.huffingtonpost.com/entry/jim-carrey-adam-schiff-democrats_us_5b0950e8e4b0fdb2aa53e675                                            \n",
       "4  https://www.huffingtonpost.com/entry/julianna-margulies-trump-poop-bag_us_5b093ec2e4b0fdb2aa53df70                                           \n",
       "\n",
       "                                                                         short_description  \n",
       "0  She left her husband. He killed their children. Just another day in America.             \n",
       "1  Of course it has a song.                                                                 \n",
       "2  The actor and his longtime girlfriend Anna Eberstein tied the knot in a civil ceremony.  \n",
       "3  The actor gives Dems an ass-kicking for not fighting hard enough against Donald Trump.   \n",
       "4  The \"Dietland\" actress said using the bags is a \"really cathartic, therapeutic moment.\"  "
      ]
     },
     "execution_count": 9,
     "metadata": {},
     "output_type": "execute_result"
    }
   ],
   "source": [
    "data.head()"
   ]
  },
  {
   "cell_type": "markdown",
   "metadata": {
    "slideshow": {
     "slide_type": "slide"
    }
   },
   "source": [
    "## EDA"
   ]
  },
  {
   "cell_type": "markdown",
   "metadata": {},
   "source": [
    "### Dropping Irrelvant Data"
   ]
  },
  {
   "cell_type": "code",
   "execution_count": 10,
   "metadata": {
    "ExecuteTime": {
     "end_time": "2019-05-10T17:25:47.610451Z",
     "start_time": "2019-05-10T17:25:47.580534Z"
    }
   },
   "outputs": [],
   "source": [
    "data = data.drop(['authors', 'date'], axis=1)"
   ]
  },
  {
   "cell_type": "code",
   "execution_count": 11,
   "metadata": {
    "ExecuteTime": {
     "end_time": "2019-05-10T17:25:47.883105Z",
     "start_time": "2019-05-10T17:25:47.870143Z"
    }
   },
   "outputs": [
    {
     "data": {
      "text/html": [
       "<div>\n",
       "<style scoped>\n",
       "    .dataframe tbody tr th:only-of-type {\n",
       "        vertical-align: middle;\n",
       "    }\n",
       "\n",
       "    .dataframe tbody tr th {\n",
       "        vertical-align: top;\n",
       "    }\n",
       "\n",
       "    .dataframe thead th {\n",
       "        text-align: right;\n",
       "    }\n",
       "</style>\n",
       "<table border=\"1\" class=\"dataframe\">\n",
       "  <thead>\n",
       "    <tr style=\"text-align: right;\">\n",
       "      <th></th>\n",
       "      <th>category</th>\n",
       "      <th>headline</th>\n",
       "      <th>link</th>\n",
       "      <th>short_description</th>\n",
       "    </tr>\n",
       "  </thead>\n",
       "  <tbody>\n",
       "    <tr>\n",
       "      <th>0</th>\n",
       "      <td>CRIME</td>\n",
       "      <td>There Were 2 Mass Shootings In Texas Last Week, But Only 1 On TV</td>\n",
       "      <td>https://www.huffingtonpost.com/entry/texas-amanda-painter-mass-shooting_us_5b081ab4e4b0802d69caad89</td>\n",
       "      <td>She left her husband. He killed their children. Just another day in America.</td>\n",
       "    </tr>\n",
       "    <tr>\n",
       "      <th>1</th>\n",
       "      <td>ENTERTAINMENT</td>\n",
       "      <td>Will Smith Joins Diplo And Nicky Jam For The 2018 World Cup's Official Song</td>\n",
       "      <td>https://www.huffingtonpost.com/entry/will-smith-joins-diplo-and-nicky-jam-for-the-official-2018-world-cup-song_us_5b09726fe4b0fdb2aa541201</td>\n",
       "      <td>Of course it has a song.</td>\n",
       "    </tr>\n",
       "    <tr>\n",
       "      <th>2</th>\n",
       "      <td>ENTERTAINMENT</td>\n",
       "      <td>Hugh Grant Marries For The First Time At Age 57</td>\n",
       "      <td>https://www.huffingtonpost.com/entry/hugh-grant-marries_us_5b09212ce4b0568a880b9a8c</td>\n",
       "      <td>The actor and his longtime girlfriend Anna Eberstein tied the knot in a civil ceremony.</td>\n",
       "    </tr>\n",
       "    <tr>\n",
       "      <th>3</th>\n",
       "      <td>ENTERTAINMENT</td>\n",
       "      <td>Jim Carrey Blasts 'Castrato' Adam Schiff And Democrats In New Artwork</td>\n",
       "      <td>https://www.huffingtonpost.com/entry/jim-carrey-adam-schiff-democrats_us_5b0950e8e4b0fdb2aa53e675</td>\n",
       "      <td>The actor gives Dems an ass-kicking for not fighting hard enough against Donald Trump.</td>\n",
       "    </tr>\n",
       "    <tr>\n",
       "      <th>4</th>\n",
       "      <td>ENTERTAINMENT</td>\n",
       "      <td>Julianna Margulies Uses Donald Trump Poop Bags To Pick Up After Her Dog</td>\n",
       "      <td>https://www.huffingtonpost.com/entry/julianna-margulies-trump-poop-bag_us_5b093ec2e4b0fdb2aa53df70</td>\n",
       "      <td>The \"Dietland\" actress said using the bags is a \"really cathartic, therapeutic moment.\"</td>\n",
       "    </tr>\n",
       "  </tbody>\n",
       "</table>\n",
       "</div>"
      ],
      "text/plain": [
       "        category  \\\n",
       "0  CRIME           \n",
       "1  ENTERTAINMENT   \n",
       "2  ENTERTAINMENT   \n",
       "3  ENTERTAINMENT   \n",
       "4  ENTERTAINMENT   \n",
       "\n",
       "                                                                      headline  \\\n",
       "0  There Were 2 Mass Shootings In Texas Last Week, But Only 1 On TV              \n",
       "1  Will Smith Joins Diplo And Nicky Jam For The 2018 World Cup's Official Song   \n",
       "2  Hugh Grant Marries For The First Time At Age 57                               \n",
       "3  Jim Carrey Blasts 'Castrato' Adam Schiff And Democrats In New Artwork         \n",
       "4  Julianna Margulies Uses Donald Trump Poop Bags To Pick Up After Her Dog       \n",
       "\n",
       "                                                                                                                                         link  \\\n",
       "0  https://www.huffingtonpost.com/entry/texas-amanda-painter-mass-shooting_us_5b081ab4e4b0802d69caad89                                          \n",
       "1  https://www.huffingtonpost.com/entry/will-smith-joins-diplo-and-nicky-jam-for-the-official-2018-world-cup-song_us_5b09726fe4b0fdb2aa541201   \n",
       "2  https://www.huffingtonpost.com/entry/hugh-grant-marries_us_5b09212ce4b0568a880b9a8c                                                          \n",
       "3  https://www.huffingtonpost.com/entry/jim-carrey-adam-schiff-democrats_us_5b0950e8e4b0fdb2aa53e675                                            \n",
       "4  https://www.huffingtonpost.com/entry/julianna-margulies-trump-poop-bag_us_5b093ec2e4b0fdb2aa53df70                                           \n",
       "\n",
       "                                                                         short_description  \n",
       "0  She left her husband. He killed their children. Just another day in America.             \n",
       "1  Of course it has a song.                                                                 \n",
       "2  The actor and his longtime girlfriend Anna Eberstein tied the knot in a civil ceremony.  \n",
       "3  The actor gives Dems an ass-kicking for not fighting hard enough against Donald Trump.   \n",
       "4  The \"Dietland\" actress said using the bags is a \"really cathartic, therapeutic moment.\"  "
      ]
     },
     "execution_count": 11,
     "metadata": {},
     "output_type": "execute_result"
    }
   ],
   "source": [
    "data.head()"
   ]
  },
  {
   "cell_type": "markdown",
   "metadata": {
    "slideshow": {
     "slide_type": "slide"
    }
   },
   "source": [
    "### News Categories and their counts"
   ]
  },
  {
   "cell_type": "code",
   "execution_count": 12,
   "metadata": {
    "ExecuteTime": {
     "end_time": "2019-05-10T17:25:49.505515Z",
     "start_time": "2019-05-10T17:25:48.727793Z"
    },
    "slideshow": {
     "slide_type": "subslide"
    }
   },
   "outputs": [
    {
     "data": {
      "image/png": "[encoded data removed]",
      "text/plain": [
       "<Figure size 864x864 with 1 Axes>"
      ]
     },
     "metadata": {},
     "output_type": "display_data"
    }
   ],
   "source": [
    "plotdata = data['category'].value_counts()\n",
    "\n",
    "fig, ax = plt.subplots(figsize=(12,12), subplot_kw=dict(aspect=\"equal\"))\n",
    "\n",
    "ax.pie(plotdata, autopct='%1.1f%%')\n",
    "\n",
    "ax.legend(plotdata.index, loc=\"center left\", bbox_to_anchor=(1, 0, 0.5, 1))\n",
    "\n",
    "ax.set_title(\"Catergory Counts\")\n",
    "\n",
    "plt.show()"
   ]
  },
  {
   "cell_type": "markdown",
   "metadata": {
    "slideshow": {
     "slide_type": "slide"
    }
   },
   "source": [
    "### Generalising the categories"
   ]
  },
  {
   "cell_type": "code",
   "execution_count": 13,
   "metadata": {
    "ExecuteTime": {
     "end_time": "2019-05-10T17:25:49.698973Z",
     "start_time": "2019-05-10T17:25:49.692989Z"
    },
    "slideshow": {
     "slide_type": "subslide"
    }
   },
   "outputs": [
    {
     "name": "stdout",
     "output_type": "stream",
     "text": [
      "Index(['POLITICS', 'WELLNESS', 'ENTERTAINMENT', 'TRAVEL', 'STYLE & BEAUTY',\n",
      "       'PARENTING', 'HEALTHY LIVING', 'QUEER VOICES', 'FOOD & DRINK',\n",
      "       'BUSINESS', 'COMEDY', 'SPORTS', 'BLACK VOICES', 'HOME & LIVING',\n",
      "       'PARENTS', 'THE WORLDPOST', 'WEDDINGS', 'WOMEN', 'IMPACT', 'DIVORCE',\n",
      "       'CRIME', 'MEDIA', 'WEIRD NEWS', 'GREEN', 'WORLDPOST', 'RELIGION',\n",
      "       'STYLE', 'SCIENCE', 'WORLD NEWS', 'TASTE', 'TECH', 'MONEY', 'ARTS',\n",
      "       'FIFTY', 'GOOD NEWS', 'ARTS & CULTURE', 'ENVIRONMENT', 'COLLEGE',\n",
      "       'LATINO VOICES', 'CULTURE & ARTS', 'EDUCATION'],\n",
      "      dtype='object') 41\n"
     ]
    }
   ],
   "source": [
    "print(plotdata.index,len(plotdata.index))"
   ]
  },
  {
   "cell_type": "code",
   "execution_count": 14,
   "metadata": {
    "ExecuteTime": {
     "end_time": "2019-05-10T17:25:50.164117Z",
     "start_time": "2019-05-10T17:25:50.153176Z"
    },
    "slideshow": {
     "slide_type": "subslide"
    }
   },
   "outputs": [],
   "source": [
    "def generalize(x):\n",
    "    if x in ['BUSINESS', 'MONEY']:\n",
    "        return 'BUSINESS'\n",
    "    if x in ['SCIENCE', 'TECH', 'ARTS', 'ARTS & CULTURE', 'COLLEGE', 'CULTURE & ARTS', 'EDUCATION']:\n",
    "        return 'EDUCATION'\n",
    "    if x in ['WELLNESS', 'TRAVEL', 'STYLE & BEAUTY', 'PARENTING', 'HEALTHY LIVING', 'HOME & LIVING', 'FOOD & DRINK', 'PARENTS', 'WEDDINGS', 'WOMEN', 'DIVORCE', 'RELIGION', 'STYLE', 'TASTE', 'FIFTY']:\n",
    "        return 'LIFESTYLE'\n",
    "    if x in ['QUEER VOICES', 'BLACK VOICES', 'THE WORLDPOST', 'WORLDPOST', 'WORLD NEWS', 'LATINO VOICES', 'IMPACT', 'MEDIA']:\n",
    "        return 'GLOBAL'\n",
    "    if x in ['COMEDY', 'CRIME', 'WEIRD NEWS', 'GREEN', 'GOOD NEWS', 'ENVIRONMENT']:\n",
    "        return 'MISCELLANEOUS'\n",
    "    else:\n",
    "        return x"
   ]
  },
  {
   "cell_type": "code",
   "execution_count": 15,
   "metadata": {
    "ExecuteTime": {
     "end_time": "2019-05-10T17:25:50.948186Z",
     "start_time": "2019-05-10T17:25:50.772655Z"
    },
    "slideshow": {
     "slide_type": "subslide"
    }
   },
   "outputs": [],
   "source": [
    "data['category'] = data['category'].apply(generalize)"
   ]
  },
  {
   "cell_type": "code",
   "execution_count": 16,
   "metadata": {
    "ExecuteTime": {
     "end_time": "2019-05-10T17:25:51.705185Z",
     "start_time": "2019-05-10T17:25:51.444375Z"
    },
    "slideshow": {
     "slide_type": "subslide"
    }
   },
   "outputs": [
    {
     "data": {
      "image/png": "[encoded data removed]",
      "text/plain": [
       "<Figure size 864x864 with 1 Axes>"
      ]
     },
     "metadata": {},
     "output_type": "display_data"
    }
   ],
   "source": [
    "plotdata = data['category'].value_counts()\n",
    "\n",
    "fig, ax = plt.subplots(figsize=(12,12), subplot_kw=dict(aspect=\"equal\"))\n",
    "\n",
    "ax.pie(plotdata, autopct='%1.1f%%')\n",
    "\n",
    "ax.legend(plotdata.index, loc=\"center left\", bbox_to_anchor=(1, 0, 0.5, 1))\n",
    "\n",
    "ax.set_title(\"Catergory Counts: After Generalization\")\n",
    "\n",
    "plt.show()"
   ]
  },
  {
   "cell_type": "code",
   "execution_count": 17,
   "metadata": {
    "ExecuteTime": {
     "end_time": "2019-05-10T17:25:52.131943Z",
     "start_time": "2019-05-10T17:25:52.125959Z"
    },
    "slideshow": {
     "slide_type": "subslide"
    }
   },
   "outputs": [
    {
     "name": "stdout",
     "output_type": "stream",
     "text": [
      "Index(['LIFESTYLE', 'POLITICS', 'GLOBAL', 'MISCELLANEOUS', 'ENTERTAINMENT',\n",
      "       'EDUCATION', 'BUSINESS', 'SPORTS'],\n",
      "      dtype='object') 8\n"
     ]
    }
   ],
   "source": [
    "print(plotdata.index,len(plotdata.index))"
   ]
  },
  {
   "cell_type": "code",
   "execution_count": 18,
   "metadata": {
    "ExecuteTime": {
     "end_time": "2019-05-10T17:25:52.883951Z",
     "start_time": "2019-05-10T17:25:52.877967Z"
    }
   },
   "outputs": [
    {
     "name": "stdout",
     "output_type": "stream",
     "text": [
      "LIFESTYLE        85984\n",
      "POLITICS         32739\n",
      "GLOBAL           26665\n",
      "MISCELLANEOUS    16593\n",
      "ENTERTAINMENT    16058\n",
      "EDUCATION        10286\n",
      "BUSINESS         7644 \n",
      "SPORTS           4884 \n",
      "Name: category, dtype: int64\n"
     ]
    }
   ],
   "source": [
    "print(plotdata)"
   ]
  },
  {
   "cell_type": "markdown",
   "metadata": {
    "slideshow": {
     "slide_type": "slide"
    }
   },
   "source": [
    "### Visualizing most common words"
   ]
  },
  {
   "cell_type": "code",
   "execution_count": 19,
   "metadata": {
    "ExecuteTime": {
     "end_time": "2019-05-10T17:25:53.880052Z",
     "start_time": "2019-05-10T17:25:53.790304Z"
    },
    "slideshow": {
     "slide_type": "subslide"
    }
   },
   "outputs": [],
   "source": [
    "data['article'] = data['headline'] + ' ' + data['short_description']"
   ]
  },
  {
   "cell_type": "code",
   "execution_count": 20,
   "metadata": {
    "ExecuteTime": {
     "end_time": "2019-05-10T17:25:54.377784Z",
     "start_time": "2019-05-10T17:25:54.373796Z"
    },
    "slideshow": {
     "slide_type": "subslide"
    }
   },
   "outputs": [],
   "source": [
    "# def df2corpus(df):\n",
    "#     corpus = ''\n",
    "#     for x in df:\n",
    "#         corpus += str(x) + '\\n'\n",
    "#     return corpus"
   ]
  },
  {
   "cell_type": "code",
   "execution_count": 21,
   "metadata": {
    "ExecuteTime": {
     "end_time": "2019-05-10T17:25:55.305745Z",
     "start_time": "2019-05-10T17:25:55.300758Z"
    },
    "scrolled": false,
    "slideshow": {
     "slide_type": "slide"
    }
   },
   "outputs": [],
   "source": [
    "# stopwords = set(STOPWORDS)\n",
    "# def buildWordCloud(x):\n",
    "#     wordcloud = WordCloud(width = 6000, height = 6000, \n",
    "#                           background_color ='black', stopwords = stopwords, min_font_size = 10, \n",
    "#                           max_words = 20).generate(df2corpus(data[data['category'] == x]['article']))\n",
    "#     print(x)\n",
    "#     plt.figure(figsize = (10, 10), facecolor = None)\n",
    "#     plt.imshow(wordcloud)\n",
    "#     plt.axis(\"off\")\n",
    "#     plt.tight_layout(pad = 0)\n",
    "#     plt.show()"
   ]
  },
  {
   "cell_type": "code",
   "execution_count": 22,
   "metadata": {
    "ExecuteTime": {
     "end_time": "2019-05-10T17:25:55.887618Z",
     "start_time": "2019-05-10T17:25:55.883628Z"
    },
    "scrolled": false
   },
   "outputs": [],
   "source": [
    "# @interact\n",
    "# def mostcommonwords(category = plotdata.index):\n",
    "#     buildWordCloud(category)"
   ]
  },
  {
   "cell_type": "markdown",
   "metadata": {},
   "source": [
    "### Text Cleaning"
   ]
  },
  {
   "cell_type": "code",
   "execution_count": 23,
   "metadata": {
    "ExecuteTime": {
     "end_time": "2019-05-10T17:25:57.096005Z",
     "start_time": "2019-05-10T17:25:57.071040Z"
    }
   },
   "outputs": [],
   "source": [
    "remove_punc = lambda x : re.sub(r\"\\W\", ' ', x)\n",
    "\n",
    "remove_num = lambda x : re.sub(r\"\\d+\", ' ', x)\n",
    "\n",
    "remove_extra_spaces = lambda x : re.sub(r\"\\s+\", ' ', x)\n",
    "\n",
    "lower_case = lambda x : x.lower()\n",
    "\n",
    "stop_words = set(nltk.corpus.stopwords.words('english'))\n",
    "remove_stopwords = lambda x: ' '.join(word for word in x.split() if word not in stop_words)\n",
    "\n",
    "ps = PorterStemmer()\n",
    "ps_stem = lambda x: ' '.join(ps.stem(word) for word in x.split())\n",
    "\n",
    "wnl = WordNetLemmatizer()\n",
    "wnl_lemmatize = lambda x: ' '.join(wnl.lemmatize(word) for word in x.split())\n",
    "\n",
    "def tag_pos(x):\n",
    "    tag_list =  nltk.pos_tag(nltk.word_tokenize(x))\n",
    "    pos = \"\"\n",
    "    for t in tag_list:\n",
    "        pos += t[0] +'(' + t[1] +')' + ' '\n",
    "    return pos\n",
    "\n",
    "def cleanText(x, rsw, stm, lem, tgps):\n",
    "    x = remove_punc(x)\n",
    "    x = remove_num(x)\n",
    "    x = remove_extra_spaces(x)\n",
    "    x = lower_case(x)\n",
    "    if rsw:\n",
    "        x = remove_stopwords(x)\n",
    "    if stm:\n",
    "        x = ps_stem(x)\n",
    "    if lem:\n",
    "        x = wnl_lemmatize(x)\n",
    "    if tgps:\n",
    "        x = tag_pos(x)\n",
    "    return x"
   ]
  },
  {
   "cell_type": "code",
   "execution_count": 24,
   "metadata": {
    "ExecuteTime": {
     "end_time": "2019-05-10T17:34:34.542823Z",
     "start_time": "2019-05-10T17:25:58.214736Z"
    }
   },
   "outputs": [],
   "source": [
    "data['article_clean'] = data['article'].apply(lambda x : cleanText(x, True, False, True, True))"
   ]
  },
  {
   "cell_type": "code",
   "execution_count": 25,
   "metadata": {
    "ExecuteTime": {
     "end_time": "2019-05-10T17:34:34.681206Z",
     "start_time": "2019-05-10T17:34:34.659266Z"
    }
   },
   "outputs": [
    {
     "data": {
      "text/html": [
       "<div>\n",
       "<style scoped>\n",
       "    .dataframe tbody tr th:only-of-type {\n",
       "        vertical-align: middle;\n",
       "    }\n",
       "\n",
       "    .dataframe tbody tr th {\n",
       "        vertical-align: top;\n",
       "    }\n",
       "\n",
       "    .dataframe thead th {\n",
       "        text-align: right;\n",
       "    }\n",
       "</style>\n",
       "<table border=\"1\" class=\"dataframe\">\n",
       "  <thead>\n",
       "    <tr style=\"text-align: right;\">\n",
       "      <th></th>\n",
       "      <th>category</th>\n",
       "      <th>headline</th>\n",
       "      <th>link</th>\n",
       "      <th>short_description</th>\n",
       "      <th>article</th>\n",
       "      <th>article_clean</th>\n",
       "    </tr>\n",
       "  </thead>\n",
       "  <tbody>\n",
       "    <tr>\n",
       "      <th>0</th>\n",
       "      <td>MISCELLANEOUS</td>\n",
       "      <td>There Were 2 Mass Shootings In Texas Last Week, But Only 1 On TV</td>\n",
       "      <td>https://www.huffingtonpost.com/entry/texas-amanda-painter-mass-shooting_us_5b081ab4e4b0802d69caad89</td>\n",
       "      <td>She left her husband. He killed their children. Just another day in America.</td>\n",
       "      <td>There Were 2 Mass Shootings In Texas Last Week, But Only 1 On TV She left her husband. He killed their children. Just another day in America.</td>\n",
       "      <td>mass(NN) shooting(VBG) texas(NN) last(JJ) week(NN) tv(NN) left(VBD) husband(NN) killed(VBN) child(JJ) another(DT) day(NN) america(VB)</td>\n",
       "    </tr>\n",
       "    <tr>\n",
       "      <th>1</th>\n",
       "      <td>ENTERTAINMENT</td>\n",
       "      <td>Will Smith Joins Diplo And Nicky Jam For The 2018 World Cup's Official Song</td>\n",
       "      <td>https://www.huffingtonpost.com/entry/will-smith-joins-diplo-and-nicky-jam-for-the-official-2018-world-cup-song_us_5b09726fe4b0fdb2aa541201</td>\n",
       "      <td>Of course it has a song.</td>\n",
       "      <td>Will Smith Joins Diplo And Nicky Jam For The 2018 World Cup's Official Song Of course it has a song.</td>\n",
       "      <td>smith(NN) join(NN) diplo(JJ) nicky(JJ) jam(NN) world(NN) cup(NN) official(NN) song(NN) course(NN) song(NN)</td>\n",
       "    </tr>\n",
       "    <tr>\n",
       "      <th>2</th>\n",
       "      <td>ENTERTAINMENT</td>\n",
       "      <td>Hugh Grant Marries For The First Time At Age 57</td>\n",
       "      <td>https://www.huffingtonpost.com/entry/hugh-grant-marries_us_5b09212ce4b0568a880b9a8c</td>\n",
       "      <td>The actor and his longtime girlfriend Anna Eberstein tied the knot in a civil ceremony.</td>\n",
       "      <td>Hugh Grant Marries For The First Time At Age 57 The actor and his longtime girlfriend Anna Eberstein tied the knot in a civil ceremony.</td>\n",
       "      <td>hugh(NN) grant(NN) marries(NNS) first(JJ) time(NN) age(NN) actor(NN) longtime(JJ) girlfriend(NN) anna(NN) eberstein(RB) tied(VBN) knot(NN) civil(JJ) ceremony(NN)</td>\n",
       "    </tr>\n",
       "    <tr>\n",
       "      <th>3</th>\n",
       "      <td>ENTERTAINMENT</td>\n",
       "      <td>Jim Carrey Blasts 'Castrato' Adam Schiff And Democrats In New Artwork</td>\n",
       "      <td>https://www.huffingtonpost.com/entry/jim-carrey-adam-schiff-democrats_us_5b0950e8e4b0fdb2aa53e675</td>\n",
       "      <td>The actor gives Dems an ass-kicking for not fighting hard enough against Donald Trump.</td>\n",
       "      <td>Jim Carrey Blasts 'Castrato' Adam Schiff And Democrats In New Artwork The actor gives Dems an ass-kicking for not fighting hard enough against Donald Trump.</td>\n",
       "      <td>jim(NN) carrey(NN) blast(NN) castrato(NN) adam(NN) schiff(NN) democrat(VBD) new(JJ) artwork(NN) actor(NN) give(VBP) dems(NNS) as(IN) kicking(VBG) fighting(VBG) hard(JJ) enough(RB) donald(JJ) trump(NN)</td>\n",
       "    </tr>\n",
       "    <tr>\n",
       "      <th>4</th>\n",
       "      <td>ENTERTAINMENT</td>\n",
       "      <td>Julianna Margulies Uses Donald Trump Poop Bags To Pick Up After Her Dog</td>\n",
       "      <td>https://www.huffingtonpost.com/entry/julianna-margulies-trump-poop-bag_us_5b093ec2e4b0fdb2aa53df70</td>\n",
       "      <td>The \"Dietland\" actress said using the bags is a \"really cathartic, therapeutic moment.\"</td>\n",
       "      <td>Julianna Margulies Uses Donald Trump Poop Bags To Pick Up After Her Dog The \"Dietland\" actress said using the bags is a \"really cathartic, therapeutic moment.\"</td>\n",
       "      <td>julianna(NN) margulies(NNS) us(PRP) donald(VBP) trump(JJ) poop(NN) bag(NN) pick(NN) dog(NN) dietland(NN) actress(NN) said(VBD) using(VBG) bag(NN) really(RB) cathartic(JJ) therapeutic(JJ) moment(NN)</td>\n",
       "    </tr>\n",
       "  </tbody>\n",
       "</table>\n",
       "</div>"
      ],
      "text/plain": [
       "        category  \\\n",
       "0  MISCELLANEOUS   \n",
       "1  ENTERTAINMENT   \n",
       "2  ENTERTAINMENT   \n",
       "3  ENTERTAINMENT   \n",
       "4  ENTERTAINMENT   \n",
       "\n",
       "                                                                      headline  \\\n",
       "0  There Were 2 Mass Shootings In Texas Last Week, But Only 1 On TV              \n",
       "1  Will Smith Joins Diplo And Nicky Jam For The 2018 World Cup's Official Song   \n",
       "2  Hugh Grant Marries For The First Time At Age 57                               \n",
       "3  Jim Carrey Blasts 'Castrato' Adam Schiff And Democrats In New Artwork         \n",
       "4  Julianna Margulies Uses Donald Trump Poop Bags To Pick Up After Her Dog       \n",
       "\n",
       "                                                                                                                                         link  \\\n",
       "0  https://www.huffingtonpost.com/entry/texas-amanda-painter-mass-shooting_us_5b081ab4e4b0802d69caad89                                          \n",
       "1  https://www.huffingtonpost.com/entry/will-smith-joins-diplo-and-nicky-jam-for-the-official-2018-world-cup-song_us_5b09726fe4b0fdb2aa541201   \n",
       "2  https://www.huffingtonpost.com/entry/hugh-grant-marries_us_5b09212ce4b0568a880b9a8c                                                          \n",
       "3  https://www.huffingtonpost.com/entry/jim-carrey-adam-schiff-democrats_us_5b0950e8e4b0fdb2aa53e675                                            \n",
       "4  https://www.huffingtonpost.com/entry/julianna-margulies-trump-poop-bag_us_5b093ec2e4b0fdb2aa53df70                                           \n",
       "\n",
       "                                                                         short_description  \\\n",
       "0  She left her husband. He killed their children. Just another day in America.              \n",
       "1  Of course it has a song.                                                                  \n",
       "2  The actor and his longtime girlfriend Anna Eberstein tied the knot in a civil ceremony.   \n",
       "3  The actor gives Dems an ass-kicking for not fighting hard enough against Donald Trump.    \n",
       "4  The \"Dietland\" actress said using the bags is a \"really cathartic, therapeutic moment.\"   \n",
       "\n",
       "                                                                                                                                                           article  \\\n",
       "0  There Were 2 Mass Shootings In Texas Last Week, But Only 1 On TV She left her husband. He killed their children. Just another day in America.                     \n",
       "1  Will Smith Joins Diplo And Nicky Jam For The 2018 World Cup's Official Song Of course it has a song.                                                              \n",
       "2  Hugh Grant Marries For The First Time At Age 57 The actor and his longtime girlfriend Anna Eberstein tied the knot in a civil ceremony.                           \n",
       "3  Jim Carrey Blasts 'Castrato' Adam Schiff And Democrats In New Artwork The actor gives Dems an ass-kicking for not fighting hard enough against Donald Trump.      \n",
       "4  Julianna Margulies Uses Donald Trump Poop Bags To Pick Up After Her Dog The \"Dietland\" actress said using the bags is a \"really cathartic, therapeutic moment.\"   \n",
       "\n",
       "                                                                                                                                                                                               article_clean  \n",
       "0  mass(NN) shooting(VBG) texas(NN) last(JJ) week(NN) tv(NN) left(VBD) husband(NN) killed(VBN) child(JJ) another(DT) day(NN) america(VB)                                                                      \n",
       "1  smith(NN) join(NN) diplo(JJ) nicky(JJ) jam(NN) world(NN) cup(NN) official(NN) song(NN) course(NN) song(NN)                                                                                                 \n",
       "2  hugh(NN) grant(NN) marries(NNS) first(JJ) time(NN) age(NN) actor(NN) longtime(JJ) girlfriend(NN) anna(NN) eberstein(RB) tied(VBN) knot(NN) civil(JJ) ceremony(NN)                                          \n",
       "3  jim(NN) carrey(NN) blast(NN) castrato(NN) adam(NN) schiff(NN) democrat(VBD) new(JJ) artwork(NN) actor(NN) give(VBP) dems(NNS) as(IN) kicking(VBG) fighting(VBG) hard(JJ) enough(RB) donald(JJ) trump(NN)   \n",
       "4  julianna(NN) margulies(NNS) us(PRP) donald(VBP) trump(JJ) poop(NN) bag(NN) pick(NN) dog(NN) dietland(NN) actress(NN) said(VBD) using(VBG) bag(NN) really(RB) cathartic(JJ) therapeutic(JJ) moment(NN)      "
      ]
     },
     "execution_count": 25,
     "metadata": {},
     "output_type": "execute_result"
    }
   ],
   "source": [
    "data.head()"
   ]
  },
  {
   "cell_type": "code",
   "execution_count": 10,
   "metadata": {
    "ExecuteTime": {
     "end_time": "2019-05-11T17:33:26.816781Z",
     "start_time": "2019-05-11T17:33:26.798829Z"
    }
   },
   "outputs": [],
   "source": [
    "data = data.drop(['headline', 'link', 'short_description', 'article'], axis=1)"
   ]
  },
  {
   "cell_type": "code",
   "execution_count": 11,
   "metadata": {
    "ExecuteTime": {
     "end_time": "2019-05-11T17:33:31.534332Z",
     "start_time": "2019-05-11T17:33:31.266322Z"
    }
   },
   "outputs": [
    {
     "data": {
      "text/html": [
       "<div>\n",
       "<style scoped>\n",
       "    .dataframe tbody tr th:only-of-type {\n",
       "        vertical-align: middle;\n",
       "    }\n",
       "\n",
       "    .dataframe tbody tr th {\n",
       "        vertical-align: top;\n",
       "    }\n",
       "\n",
       "    .dataframe thead th {\n",
       "        text-align: right;\n",
       "    }\n",
       "</style>\n",
       "<table border=\"1\" class=\"dataframe\">\n",
       "  <thead>\n",
       "    <tr style=\"text-align: right;\">\n",
       "      <th></th>\n",
       "      <th>category</th>\n",
       "      <th>article_clean</th>\n",
       "    </tr>\n",
       "  </thead>\n",
       "  <tbody>\n",
       "    <tr>\n",
       "      <th>0</th>\n",
       "      <td>MISCELLANEOUS</td>\n",
       "      <td>mass(NN) shooting(VBG) texas(NN) last(JJ) week(NN) tv(NN) left(VBD) husband(NN) killed(VBN) child(JJ) another(DT) day(NN) america(VB)</td>\n",
       "    </tr>\n",
       "    <tr>\n",
       "      <th>1</th>\n",
       "      <td>ENTERTAINMENT</td>\n",
       "      <td>smith(NN) join(NN) diplo(JJ) nicky(JJ) jam(NN) world(NN) cup(NN) official(NN) song(NN) course(NN) song(NN)</td>\n",
       "    </tr>\n",
       "    <tr>\n",
       "      <th>2</th>\n",
       "      <td>ENTERTAINMENT</td>\n",
       "      <td>hugh(NN) grant(NN) marries(NNS) first(JJ) time(NN) age(NN) actor(NN) longtime(JJ) girlfriend(NN) anna(NN) eberstein(RB) tied(VBN) knot(NN) civil(JJ) ceremony(NN)</td>\n",
       "    </tr>\n",
       "    <tr>\n",
       "      <th>3</th>\n",
       "      <td>ENTERTAINMENT</td>\n",
       "      <td>jim(NN) carrey(NN) blast(NN) castrato(NN) adam(NN) schiff(NN) democrat(VBD) new(JJ) artwork(NN) actor(NN) give(VBP) dems(NNS) as(IN) kicking(VBG) fighting(VBG) hard(JJ) enough(RB) donald(JJ) trump(NN)</td>\n",
       "    </tr>\n",
       "    <tr>\n",
       "      <th>4</th>\n",
       "      <td>ENTERTAINMENT</td>\n",
       "      <td>julianna(NN) margulies(NNS) us(PRP) donald(VBP) trump(JJ) poop(NN) bag(NN) pick(NN) dog(NN) dietland(NN) actress(NN) said(VBD) using(VBG) bag(NN) really(RB) cathartic(JJ) therapeutic(JJ) moment(NN)</td>\n",
       "    </tr>\n",
       "  </tbody>\n",
       "</table>\n",
       "</div>"
      ],
      "text/plain": [
       "        category  \\\n",
       "0  MISCELLANEOUS   \n",
       "1  ENTERTAINMENT   \n",
       "2  ENTERTAINMENT   \n",
       "3  ENTERTAINMENT   \n",
       "4  ENTERTAINMENT   \n",
       "\n",
       "                                                                                                                                                                                               article_clean  \n",
       "0  mass(NN) shooting(VBG) texas(NN) last(JJ) week(NN) tv(NN) left(VBD) husband(NN) killed(VBN) child(JJ) another(DT) day(NN) america(VB)                                                                      \n",
       "1  smith(NN) join(NN) diplo(JJ) nicky(JJ) jam(NN) world(NN) cup(NN) official(NN) song(NN) course(NN) song(NN)                                                                                                 \n",
       "2  hugh(NN) grant(NN) marries(NNS) first(JJ) time(NN) age(NN) actor(NN) longtime(JJ) girlfriend(NN) anna(NN) eberstein(RB) tied(VBN) knot(NN) civil(JJ) ceremony(NN)                                          \n",
       "3  jim(NN) carrey(NN) blast(NN) castrato(NN) adam(NN) schiff(NN) democrat(VBD) new(JJ) artwork(NN) actor(NN) give(VBP) dems(NNS) as(IN) kicking(VBG) fighting(VBG) hard(JJ) enough(RB) donald(JJ) trump(NN)   \n",
       "4  julianna(NN) margulies(NNS) us(PRP) donald(VBP) trump(JJ) poop(NN) bag(NN) pick(NN) dog(NN) dietland(NN) actress(NN) said(VBD) using(VBG) bag(NN) really(RB) cathartic(JJ) therapeutic(JJ) moment(NN)      "
      ]
     },
     "execution_count": 11,
     "metadata": {},
     "output_type": "execute_result"
    }
   ],
   "source": [
    "data.head()"
   ]
  },
  {
   "cell_type": "code",
   "execution_count": 12,
   "metadata": {
    "ExecuteTime": {
     "end_time": "2019-05-11T17:33:35.936255Z",
     "start_time": "2019-05-11T17:33:34.346616Z"
    }
   },
   "outputs": [],
   "source": [
    "data.to_csv('json_cleaned.csv', index=False)"
   ]
  },
  {
   "cell_type": "code",
   "execution_count": 7,
   "metadata": {
    "ExecuteTime": {
     "end_time": "2019-05-12T03:08:40.484495Z",
     "start_time": "2019-05-12T03:08:38.009384Z"
    }
   },
   "outputs": [],
   "source": [
    "data = pd.read_csv('json_cleaned.csv')"
   ]
  },
  {
   "cell_type": "code",
   "execution_count": 8,
   "metadata": {
    "ExecuteTime": {
     "end_time": "2019-05-12T03:08:40.613062Z",
     "start_time": "2019-05-12T03:08:40.530289Z"
    }
   },
   "outputs": [],
   "source": [
    "data['article_clean'] = data['article_clean'].apply(str)"
   ]
  },
  {
   "cell_type": "code",
   "execution_count": 9,
   "metadata": {
    "ExecuteTime": {
     "end_time": "2019-05-12T03:08:40.880546Z",
     "start_time": "2019-05-12T03:08:40.639991Z"
    }
   },
   "outputs": [],
   "source": [
    "Y = pd.get_dummies(data['category'])"
   ]
  },
  {
   "cell_type": "markdown",
   "metadata": {},
   "source": [
    "## Baseline Model"
   ]
  },
  {
   "cell_type": "markdown",
   "metadata": {},
   "source": [
    "### TFIDF Vectorization"
   ]
  },
  {
   "cell_type": "code",
   "execution_count": null,
   "metadata": {
    "ExecuteTime": {
     "start_time": "2019-05-09T15:59:23.747Z"
    }
   },
   "outputs": [],
   "source": [
    "from sklearn.feature_extraction.text import TfidfVectorizer"
   ]
  },
  {
   "cell_type": "code",
   "execution_count": null,
   "metadata": {
    "ExecuteTime": {
     "start_time": "2019-05-09T15:59:23.760Z"
    }
   },
   "outputs": [],
   "source": [
    "vectorizer = TfidfVectorizer()\n",
    "vectorizer.fit(data['article_clean'])\n",
    "X_vect = vectorizer.transform(data['article_clean'])"
   ]
  },
  {
   "cell_type": "code",
   "execution_count": null,
   "metadata": {
    "ExecuteTime": {
     "start_time": "2019-05-09T15:59:23.775Z"
    }
   },
   "outputs": [],
   "source": [
    "pickle.dump(vectorizer, open('Tvect', 'wb'))"
   ]
  },
  {
   "cell_type": "markdown",
   "metadata": {},
   "source": [
    "### Cross Validation"
   ]
  },
  {
   "cell_type": "code",
   "execution_count": null,
   "metadata": {
    "ExecuteTime": {
     "start_time": "2019-05-09T15:59:23.782Z"
    }
   },
   "outputs": [],
   "source": [
    "from sklearn.model_selection import cross_val_score"
   ]
  },
  {
   "cell_type": "code",
   "execution_count": null,
   "metadata": {
    "ExecuteTime": {
     "start_time": "2019-05-09T15:59:23.789Z"
    }
   },
   "outputs": [],
   "source": [
    "model_accuracies = pd.DataFrame()"
   ]
  },
  {
   "cell_type": "markdown",
   "metadata": {},
   "source": [
    "#### Logistic Regression"
   ]
  },
  {
   "cell_type": "code",
   "execution_count": null,
   "metadata": {
    "ExecuteTime": {
     "start_time": "2019-05-09T15:59:23.796Z"
    }
   },
   "outputs": [],
   "source": [
    "from sklearn.linear_model import LogisticRegression"
   ]
  },
  {
   "cell_type": "code",
   "execution_count": null,
   "metadata": {
    "ExecuteTime": {
     "start_time": "2019-05-09T15:59:23.803Z"
    }
   },
   "outputs": [
    {
     "name": "stderr",
     "output_type": "stream",
     "text": [
      "D:\\Users\\Ritvik\\Anaconda3\\envs\\datascience\\lib\\site-packages\\sklearn\\linear_model\\logistic.py:433: FutureWarning: Default solver will be changed to 'lbfgs' in 0.22. Specify a solver to silence this warning.\n",
      "  FutureWarning)\n"
     ]
    },
    {
     "name": "stdout",
     "output_type": "stream",
     "text": [
      "Accuracy: 0.97 (+/- 0.00)\n"
     ]
    },
    {
     "name": "stderr",
     "output_type": "stream",
     "text": [
      "D:\\Users\\Ritvik\\Anaconda3\\envs\\datascience\\lib\\site-packages\\sklearn\\linear_model\\logistic.py:433: FutureWarning: Default solver will be changed to 'lbfgs' in 0.22. Specify a solver to silence this warning.\n",
      "  FutureWarning)\n"
     ]
    },
    {
     "name": "stdout",
     "output_type": "stream",
     "text": [
      "Accuracy: 0.95 (+/- 0.00)\n"
     ]
    },
    {
     "name": "stderr",
     "output_type": "stream",
     "text": [
      "D:\\Users\\Ritvik\\Anaconda3\\envs\\datascience\\lib\\site-packages\\sklearn\\linear_model\\logistic.py:433: FutureWarning: Default solver will be changed to 'lbfgs' in 0.22. Specify a solver to silence this warning.\n",
      "  FutureWarning)\n"
     ]
    },
    {
     "name": "stdout",
     "output_type": "stream",
     "text": [
      "Accuracy: 0.94 (+/- 0.00)\n"
     ]
    },
    {
     "name": "stderr",
     "output_type": "stream",
     "text": [
      "D:\\Users\\Ritvik\\Anaconda3\\envs\\datascience\\lib\\site-packages\\sklearn\\linear_model\\logistic.py:433: FutureWarning: Default solver will be changed to 'lbfgs' in 0.22. Specify a solver to silence this warning.\n",
      "  FutureWarning)\n"
     ]
    },
    {
     "name": "stdout",
     "output_type": "stream",
     "text": [
      "Accuracy: 0.90 (+/- 0.01)\n"
     ]
    },
    {
     "name": "stderr",
     "output_type": "stream",
     "text": [
      "D:\\Users\\Ritvik\\Anaconda3\\envs\\datascience\\lib\\site-packages\\sklearn\\linear_model\\logistic.py:433: FutureWarning: Default solver will be changed to 'lbfgs' in 0.22. Specify a solver to silence this warning.\n",
      "  FutureWarning)\n"
     ]
    },
    {
     "name": "stdout",
     "output_type": "stream",
     "text": [
      "Accuracy: 0.86 (+/- 0.04)\n"
     ]
    },
    {
     "name": "stderr",
     "output_type": "stream",
     "text": [
      "D:\\Users\\Ritvik\\Anaconda3\\envs\\datascience\\lib\\site-packages\\sklearn\\linear_model\\logistic.py:433: FutureWarning: Default solver will be changed to 'lbfgs' in 0.22. Specify a solver to silence this warning.\n",
      "  FutureWarning)\n"
     ]
    },
    {
     "name": "stdout",
     "output_type": "stream",
     "text": [
      "Accuracy: 0.93 (+/- 0.00)\n"
     ]
    },
    {
     "name": "stderr",
     "output_type": "stream",
     "text": [
      "D:\\Users\\Ritvik\\Anaconda3\\envs\\datascience\\lib\\site-packages\\sklearn\\linear_model\\logistic.py:433: FutureWarning: Default solver will be changed to 'lbfgs' in 0.22. Specify a solver to silence this warning.\n",
      "  FutureWarning)\n"
     ]
    },
    {
     "name": "stdout",
     "output_type": "stream",
     "text": [
      "Accuracy: 0.91 (+/- 0.03)\n"
     ]
    },
    {
     "name": "stderr",
     "output_type": "stream",
     "text": [
      "D:\\Users\\Ritvik\\Anaconda3\\envs\\datascience\\lib\\site-packages\\sklearn\\linear_model\\logistic.py:433: FutureWarning: Default solver will be changed to 'lbfgs' in 0.22. Specify a solver to silence this warning.\n",
      "  FutureWarning)\n"
     ]
    },
    {
     "name": "stdout",
     "output_type": "stream",
     "text": [
      "Accuracy: 0.98 (+/- 0.00)\n"
     ]
    }
   ],
   "source": [
    "accuracy_means = []\n",
    "for y in Y.columns:\n",
    "    model = LogisticRegression()\n",
    "    scores = cross_val_score(model, X_vect, Y[y], cv=10)\n",
    "    print('Accuracy: %0.2f (+/- %0.2f)' %(scores.mean(), scores.std()))\n",
    "    accuracy_means.append(scores.mean())\n",
    "model_accuracies['LR'] = accuracy_means"
   ]
  },
  {
   "cell_type": "markdown",
   "metadata": {},
   "source": [
    "#### Multinomial NB"
   ]
  },
  {
   "cell_type": "code",
   "execution_count": null,
   "metadata": {
    "ExecuteTime": {
     "start_time": "2019-05-09T15:59:23.813Z"
    }
   },
   "outputs": [],
   "source": [
    "from sklearn.naive_bayes import MultinomialNB"
   ]
  },
  {
   "cell_type": "code",
   "execution_count": null,
   "metadata": {
    "ExecuteTime": {
     "start_time": "2019-05-09T15:59:23.823Z"
    }
   },
   "outputs": [
    {
     "name": "stdout",
     "output_type": "stream",
     "text": [
      "Accuracy: 0.96 (+/- 0.00)\n",
      "Accuracy: 0.95 (+/- 0.00)\n",
      "Accuracy: 0.92 (+/- 0.00)\n",
      "Accuracy: 0.88 (+/- 0.00)\n",
      "Accuracy: 0.85 (+/- 0.04)\n",
      "Accuracy: 0.92 (+/- 0.00)\n",
      "Accuracy: 0.89 (+/- 0.01)\n",
      "Accuracy: 0.98 (+/- 0.00)\n"
     ]
    }
   ],
   "source": [
    "accuracy_means = []\n",
    "for y in Y.columns:\n",
    "    model = MultinomialNB()\n",
    "    scores = cross_val_score(model, X_vect, Y[y], cv=10)\n",
    "    print('Accuracy: %0.2f (+/- %0.2f)' %(scores.mean(), scores.std()))\n",
    "    accuracy_means.append(scores.mean())\n",
    "model_accuracies['MNB'] = accuracy_means"
   ]
  },
  {
   "cell_type": "markdown",
   "metadata": {},
   "source": [
    "### Model Comparison"
   ]
  },
  {
   "cell_type": "code",
   "execution_count": null,
   "metadata": {
    "ExecuteTime": {
     "start_time": "2019-05-09T15:59:23.830Z"
    }
   },
   "outputs": [
    {
     "data": {
      "image/png": "[encoded data removed]",
      "text/plain": [
       "<Figure size 1080x576 with 1 Axes>"
      ]
     },
     "metadata": {
      "needs_background": "light"
     },
     "output_type": "display_data"
    }
   ],
   "source": [
    "plt.figure(1, figsize=(15, 8))\n",
    "for x in model_accuracies:\n",
    "    plt.plot(model_accuracies[x], '--o',label=x)\n",
    "plt.ylabel('CV Score mean')    \n",
    "plt.legend()\n",
    "plt.show()"
   ]
  },
  {
   "cell_type": "markdown",
   "metadata": {},
   "source": [
    "## Model Training"
   ]
  },
  {
   "cell_type": "markdown",
   "metadata": {},
   "source": [
    "### Logistic Regression"
   ]
  },
  {
   "cell_type": "code",
   "execution_count": null,
   "metadata": {
    "ExecuteTime": {
     "start_time": "2019-05-09T15:59:23.837Z"
    }
   },
   "outputs": [
    {
     "name": "stderr",
     "output_type": "stream",
     "text": [
      "D:\\Users\\Ritvik\\Anaconda3\\envs\\datascience\\lib\\site-packages\\sklearn\\linear_model\\logistic.py:433: FutureWarning: Default solver will be changed to 'lbfgs' in 0.22. Specify a solver to silence this warning.\n",
      "  FutureWarning)\n"
     ]
    },
    {
     "data": {
      "text/plain": [
       "LogisticRegression(C=1.0, class_weight=None, dual=False, fit_intercept=True,\n",
       "          intercept_scaling=1, max_iter=100, multi_class='warn',\n",
       "          n_jobs=None, penalty='l2', random_state=None, solver='warn',\n",
       "          tol=0.0001, verbose=0, warm_start=False)"
      ]
     },
     "execution_count": 37,
     "metadata": {},
     "output_type": "execute_result"
    }
   ],
   "source": [
    "lr01 = LogisticRegression()\n",
    "lr01.fit(X_vect, Y['LIFESTYLE'])\n",
    "\n",
    "lr02 = LogisticRegression()\n",
    "lr02.fit(X_vect, Y['POLITICS'])\n",
    "\n",
    "lr03 = LogisticRegression()\n",
    "lr03.fit(X_vect, Y['GLOBAL'])\n",
    "\n",
    "lr04 = LogisticRegression()\n",
    "lr04.fit(X_vect, Y['MISCELLANEOUS'])\n",
    "\n",
    "lr05 = LogisticRegression()\n",
    "lr05.fit(X_vect, Y['ENTERTAINMENT'])\n",
    "\n",
    "lr06 = LogisticRegression()\n",
    "lr06.fit(X_vect, Y['EDUCATION'])\n",
    "\n",
    "lr07 = LogisticRegression()\n",
    "lr07.fit(X_vect, Y['BUSINESS'])\n",
    "\n",
    "lr08 = LogisticRegression()\n",
    "lr08.fit(X_vect, Y['SPORTS'])"
   ]
  },
  {
   "cell_type": "markdown",
   "metadata": {
    "ExecuteTime": {
     "start_time": "2019-05-09T15:48:25.556Z"
    },
    "collapsed": true
   },
   "source": [
    "pickle.dump(lr01, open('lifestyleLR.pickle', 'wb'))\n",
    "pickle.dump(lr02, open('politicsLR.pickle', 'wb'))\n",
    "pickle.dump(lr03, open('globalLR.pickle', 'wb'))\n",
    "pickle.dump(lr04, open('miscellaneousLR.pickle', 'wb'))\n",
    "pickle.dump(lr05, open('entertainmentLR.pickle', 'wb'))\n",
    "pickle.dump(lr06, open('educationLR.pickle', 'wb'))\n",
    "pickle.dump(lr07, open('businessLR.pickle', 'wb'))\n",
    "pickle.dump(lr08, open('sportsLR.pickle', 'wb'))"
   ]
  },
  {
   "cell_type": "markdown",
   "metadata": {},
   "source": [
    "### Multinomial NB"
   ]
  },
  {
   "cell_type": "code",
   "execution_count": null,
   "metadata": {
    "ExecuteTime": {
     "start_time": "2019-05-09T15:59:23.845Z"
    }
   },
   "outputs": [
    {
     "data": {
      "text/plain": [
       "MultinomialNB(alpha=1.0, class_prior=None, fit_prior=True)"
      ]
     },
     "execution_count": 38,
     "metadata": {},
     "output_type": "execute_result"
    }
   ],
   "source": [
    "mnb01 = MultinomialNB()\n",
    "mnb01.fit(X_vect, Y['LIFESTYLE'])\n",
    "\n",
    "mnb02 = MultinomialNB()\n",
    "mnb02.fit(X_vect, Y['POLITICS'])\n",
    "\n",
    "mnb03 = MultinomialNB()\n",
    "mnb03.fit(X_vect, Y['GLOBAL'])\n",
    "\n",
    "mnb04 = MultinomialNB()\n",
    "mnb04.fit(X_vect, Y['MISCELLANEOUS'])\n",
    "\n",
    "mnb05 = MultinomialNB()\n",
    "mnb05.fit(X_vect, Y['ENTERTAINMENT'])\n",
    "\n",
    "mnb06 = MultinomialNB()\n",
    "mnb06.fit(X_vect, Y['EDUCATION'])\n",
    "\n",
    "mnb07 = MultinomialNB()\n",
    "mnb07.fit(X_vect, Y['BUSINESS'])\n",
    "\n",
    "mnb08 = MultinomialNB()\n",
    "mnb08.fit(X_vect, Y['SPORTS'])"
   ]
  },
  {
   "cell_type": "markdown",
   "metadata": {
    "ExecuteTime": {
     "start_time": "2019-05-09T15:48:26.405Z"
    },
    "collapsed": true
   },
   "source": [
    "pickle.dump(mnb01, open('lifestyleMNB.pickle', 'wb'))\n",
    "pickle.dump(mnb02, open('politicsMNB.pickle', 'wb'))\n",
    "pickle.dump(mnb03, open('globalMNB.pickle', 'wb'))\n",
    "pickle.dump(mnb04, open('miscellaneousMNB.pickle', 'wb'))\n",
    "pickle.dump(mnb05, open('entertainmentMNB.pickle', 'wb'))\n",
    "pickle.dump(mnb06, open('educationMNB.pickle', 'wb'))\n",
    "pickle.dump(mnb07, open('businessMNB.pickle', 'wb'))\n",
    "pickle.dump(mnb08, open('sportsMNB.pickle', 'wb'))"
   ]
  },
  {
   "cell_type": "markdown",
   "metadata": {},
   "source": [
    "## Predictions"
   ]
  },
  {
   "cell_type": "code",
   "execution_count": null,
   "metadata": {
    "ExecuteTime": {
     "start_time": "2019-05-09T15:59:23.852Z"
    }
   },
   "outputs": [],
   "source": [
    "def classify(news):\n",
    "    news_clean = cleanText(news, True, False, True, True)\n",
    "    news_vect = vectorizer.transform([news_clean])\n",
    "    lrpred = []\n",
    "    if lr01.predict(news_vect):\n",
    "        lrpred.append('LIFESTYLE')\n",
    "    if lr02.predict(news_vect):\n",
    "        lrpred.append('POLITICS')\n",
    "    if lr03.predict(news_vect):\n",
    "        lrpred.append('GLOBAL')\n",
    "    if lr04.predict(news_vect):\n",
    "        lrpred.append('MISCELLANEOUS')\n",
    "    if lr05.predict(news_vect):\n",
    "        lrpred.append('ENTERTAINMENT')\n",
    "    if lr06.predict(news_vect):\n",
    "        lrpred.append('EDUCATION')\n",
    "    if lr07.predict(news_vect):\n",
    "        lrpred.append('BUSINESS')\n",
    "    if lr08.predict(news_vect):\n",
    "        lrpred.append('SPORTS')\n",
    "    mnbpred = []\n",
    "    if mnb01.predict(news_vect):\n",
    "        mnbpred.append('LIFESTYLE')\n",
    "    if mnb02.predict(news_vect):\n",
    "        mnbpred.append('POLITICS')\n",
    "    if mnb03.predict(news_vect):\n",
    "        mnbpred.append('GLOBAL')\n",
    "    if mnb04.predict(news_vect):\n",
    "        mnbpred.append('MISCELLANEOUS')\n",
    "    if mnb05.predict(news_vect):\n",
    "        mnbpred.append('ENTERTAINMENT')\n",
    "    if mnb06.predict(news_vect):\n",
    "        mnbpred.append('EDUCATION')\n",
    "    if mnb07.predict(news_vect):\n",
    "        mnbpred.append('BUSINESS')\n",
    "    if mnb08.predict(news_vect):\n",
    "        mnbpred.append('SPORTS')\n",
    "    return lrpred, mnbpred"
   ]
  },
  {
   "cell_type": "code",
   "execution_count": null,
   "metadata": {
    "ExecuteTime": {
     "start_time": "2019-05-09T15:59:23.856Z"
    }
   },
   "outputs": [],
   "source": [
    "def interpret(classification):\n",
    "    print('Tags identified by Logistic Regression:')\n",
    "    for x in classification[0]:\n",
    "        print(x)\n",
    "    print()\n",
    "    print('Tags identified by MultinomialNB:')\n",
    "    for x in classification[1]:\n",
    "        print(x)\n",
    "    print()\n",
    "    print('Common Tags:')\n",
    "    for x in set(classification[0])&set(classification[1]):\n",
    "        print(x)\n",
    "    print()\n",
    "    print('All Tags:')\n",
    "    for x in set(classification[0])|set(classification[1]):\n",
    "        print(x)"
   ]
  },
  {
   "cell_type": "code",
   "execution_count": 10,
   "metadata": {
    "ExecuteTime": {
     "end_time": "2019-05-12T03:08:47.954320Z",
     "start_time": "2019-05-12T03:08:47.947378Z"
    }
   },
   "outputs": [],
   "source": [
    "test_news = [\n",
    "    \"No alliance with AAP in Haryana and Punjab, Congress confirms\",\n",
    "    \"Online travel game show 'Knock Knock' goes live on MakeMyTrip app\",\n",
    "    \"Female fan threatens to kill Varun's girlfriend outside his house\",\n",
    "    \"Longest year of our life: Irrfan's wife after his cancer treatment\",\n",
    "    \"Joseph breaks all-time IPL record set by Pakistan's Tanvir in 2008\",\n",
    "    \"EC bans BJP's theme song composed by Babul Supriyo\",\n",
    "    \"Dhoni gets angry at Chahar for no-balls, bowler responds with wicket\",\n",
    "    \"MI defeat SRH as debutant Joseph records best IPL bowling figures\",\n",
    "    \"Pulwama attack convinced world Pak exporting terror to India: PM Modi\",\n",
    "    \"FB visits Delhi man's home for political post's verification: Report\",\n",
    "    \"NZ family finds hidden camera in Airbnb room, company apologises\",\n",
    "    \"Cong spokesman attacks BJP counterpart over traitor remark on TV\",\n",
    "    \"Drunk father fed alcohol in milk bottle to daughter, 3-yr-old rescued\",\n",
    "    \"IT officials raid houses of MP CM Kamal Nath's close aides\",\n",
    "    \"I once withdrew $10 million just to look at it: Africa's richest man\"\n",
    "]"
   ]
  },
  {
   "cell_type": "code",
   "execution_count": null,
   "metadata": {
    "ExecuteTime": {
     "start_time": "2019-05-10T17:16:41.850Z"
    }
   },
   "outputs": [],
   "source": [
    "test_results = pd.DataFrame(columns=['news', 'lr', 'mnb', 'common', 'all'])\n",
    "for i in range(len(test_news)):\n",
    "    x = classify(test_news[i])\n",
    "    test_results.loc[i] = [test_news[i], x[0], x[1], set(x[0])&set(x[1]), set(x[0])|set(x[1])]"
   ]
  },
  {
   "cell_type": "code",
   "execution_count": null,
   "metadata": {
    "ExecuteTime": {
     "start_time": "2019-05-10T17:16:43.959Z"
    }
   },
   "outputs": [],
   "source": [
    "test_results"
   ]
  },
  {
   "cell_type": "markdown",
   "metadata": {
    "collapsed": true
   },
   "source": [
    "## LSTM"
   ]
  },
  {
   "cell_type": "code",
   "execution_count": 11,
   "metadata": {
    "ExecuteTime": {
     "end_time": "2019-05-12T03:09:28.499832Z",
     "start_time": "2019-05-12T03:08:53.072210Z"
    }
   },
   "outputs": [
    {
     "name": "stderr",
     "output_type": "stream",
     "text": [
      "Using TensorFlow backend.\n"
     ]
    }
   ],
   "source": [
    "from keras.preprocessing.text import Tokenizer\n",
    "from keras.preprocessing.sequence import pad_sequences\n",
    "from keras.models import Sequential\n",
    "from keras.layers import Dense, LSTM, Dropout, Activation\n",
    "from keras.layers.embeddings import Embedding\n",
    "from keras.callbacks import EarlyStopping, ModelCheckpoint"
   ]
  },
  {
   "cell_type": "code",
   "execution_count": 12,
   "metadata": {
    "ExecuteTime": {
     "end_time": "2019-05-12T03:09:48.695813Z",
     "start_time": "2019-05-12T03:09:28.552697Z"
    }
   },
   "outputs": [],
   "source": [
    "vocabulary_size = 8192\n",
    "pad_length = 256\n",
    "tokenizer = Tokenizer(num_words= vocabulary_size)\n",
    "tokenizer.fit_on_texts(data['article_clean'])\n",
    "sequences = tokenizer.texts_to_sequences(data['article_clean'])\n",
    "padded_sequences = pad_sequences(sequences, maxlen=pad_length)\n",
    "\n",
    "es = EarlyStopping(monitor='loss', mode='min', verbose=1)\n",
    "filepath = \"model.h5\"\n",
    "ckpt = ModelCheckpoint(filepath, monitor='loss', verbose=1, save_best_only=True, mode='min')"
   ]
  },
  {
   "cell_type": "code",
   "execution_count": null,
   "metadata": {
    "ExecuteTime": {
     "start_time": "2019-05-09T15:59:23.880Z"
    }
   },
   "outputs": [
    {
     "name": "stderr",
     "output_type": "stream",
     "text": [
      "Using TensorFlow backend.\n"
     ]
    },
    {
     "name": "stdout",
     "output_type": "stream",
     "text": [
      "WARNING:tensorflow:From D:\\Users\\Ritvik\\Anaconda3\\envs\\datascience\\lib\\site-packages\\tensorflow\\python\\framework\\op_def_library.py:263: colocate_with (from tensorflow.python.framework.ops) is deprecated and will be removed in a future version.\n",
      "Instructions for updating:\n",
      "Colocations handled automatically by placer.\n",
      "WARNING:tensorflow:From D:\\Users\\Ritvik\\Anaconda3\\envs\\datascience\\lib\\site-packages\\keras\\backend\\tensorflow_backend.py:3445: calling dropout (from tensorflow.python.ops.nn_ops) with keep_prob is deprecated and will be removed in a future version.\n",
      "Instructions for updating:\n",
      "Please use `rate` instead of `keep_prob`. Rate should be set to `rate = 1 - keep_prob`.\n",
      "_________________________________________________________________\n",
      "Layer (type)                 Output Shape              Param #   \n",
      "=================================================================\n",
      "embedding_1 (Embedding)      (None, 256, 1024)         8388608   \n",
      "_________________________________________________________________\n",
      "lstm_1 (LSTM)                (None, 1024)              8392704   \n",
      "_________________________________________________________________\n",
      "dense_1 (Dense)              (None, 8)                 8200      \n",
      "=================================================================\n",
      "Total params: 16,789,512\n",
      "Trainable params: 16,789,512\n",
      "Non-trainable params: 0\n",
      "_________________________________________________________________\n",
      "WARNING:tensorflow:From D:\\Users\\Ritvik\\Anaconda3\\envs\\datascience\\lib\\site-packages\\tensorflow\\python\\ops\\math_ops.py:3066: to_int32 (from tensorflow.python.ops.math_ops) is deprecated and will be removed in a future version.\n",
      "Instructions for updating:\n",
      "Use tf.cast instead.\n",
      "Train on 140597 samples, validate on 60256 samples\n",
      "Epoch 1/25\n",
      "140597/140597 [==============================] - 36870s 262ms/step - loss: 0.2211 - acc: 0.9168 - val_loss: 0.1460 - val_acc: 0.9473\n",
      "\n",
      "Epoch 00001: loss improved from inf to 0.22106, saving model to model.h5\n",
      "Epoch 2/25\n",
      "140597/140597 [==============================] - 37706s 268ms/step - loss: 0.1684 - acc: 0.9345 - val_loss: 0.1327 - val_acc: 0.9505\n",
      "\n",
      "Epoch 00002: loss improved from 0.22106 to 0.16835, saving model to model.h5\n",
      "Epoch 3/25\n",
      "    96/140597 [..............................] - ETA: 9:38:09 - loss: 0.2035 - acc: 0.9167"
     ]
    }
   ],
   "source": [
    "def build_lstm(vocabulary_size, pad_length):\n",
    "    model = Sequential()\n",
    "    model.add(Embedding(vocabulary_size, 1024, input_length=pad_length))\n",
    "    model.add(LSTM(1024, dropout=0.2, recurrent_dropout=0.2))\n",
    "    model.add(Dense(8, activation='sigmoid'))\n",
    "    model.compile(loss='binary_crossentropy', optimizer='adam', metrics=['accuracy'])\n",
    "    model.summary()\n",
    "    return model\n",
    "\n",
    "model = build_lstm(vocabulary_size, pad_length)\n",
    "\n",
    "\n",
    "model.fit(padded_sequences, Y, validation_split=0.3, epochs=25, \n",
    "           callbacks=[es, ckpt])"
   ]
  },
  {
   "cell_type": "code",
   "execution_count": 13,
   "metadata": {
    "ExecuteTime": {
     "end_time": "2019-05-12T03:09:49.970793Z",
     "start_time": "2019-05-12T03:09:49.964811Z"
    }
   },
   "outputs": [],
   "source": [
    "from keras.models import load_model"
   ]
  },
  {
   "cell_type": "code",
   "execution_count": null,
   "metadata": {
    "ExecuteTime": {
     "start_time": "2019-05-10T17:39:08.138Z"
    }
   },
   "outputs": [
    {
     "name": "stdout",
     "output_type": "stream",
     "text": [
      "Train on 140597 samples, validate on 60256 samples\n",
      "Epoch 1/25\n",
      "140597/140597 [==============================] - 36673s 261ms/step - loss: 0.1518 - acc: 0.9408 - val_loss: 0.1367 - val_acc: 0.9495\n",
      "\n",
      "Epoch 00001: loss improved from inf to 0.15183, saving model to model.h5\n",
      "Epoch 2/25\n",
      "  2656/140597 [..............................] - ETA: 8:55:40 - loss: 0.1203 - acc: 0.9535"
     ]
    }
   ],
   "source": [
    "new_model = load_model(\"model.h5\")\n",
    "new_model.fit(padded_sequences, Y, validation_split=0.3, epochs=25, callbacks=[es, ckpt])"
   ]
  },
  {
   "cell_type": "code",
   "execution_count": null,
   "metadata": {
    "ExecuteTime": {
     "start_time": "2019-05-11T17:34:09.558Z"
    }
   },
   "outputs": [
    {
     "name": "stdout",
     "output_type": "stream",
     "text": [
      "WARNING:tensorflow:From D:\\Users\\Ritvik\\Anaconda3\\envs\\datascience\\lib\\site-packages\\tensorflow\\python\\framework\\op_def_library.py:263: colocate_with (from tensorflow.python.framework.ops) is deprecated and will be removed in a future version.\n",
      "Instructions for updating:\n",
      "Colocations handled automatically by placer.\n",
      "WARNING:tensorflow:From D:\\Users\\Ritvik\\Anaconda3\\envs\\datascience\\lib\\site-packages\\keras\\backend\\tensorflow_backend.py:3445: calling dropout (from tensorflow.python.ops.nn_ops) with keep_prob is deprecated and will be removed in a future version.\n",
      "Instructions for updating:\n",
      "Please use `rate` instead of `keep_prob`. Rate should be set to `rate = 1 - keep_prob`.\n",
      "WARNING:tensorflow:From D:\\Users\\Ritvik\\Anaconda3\\envs\\datascience\\lib\\site-packages\\tensorflow\\python\\ops\\math_ops.py:3066: to_int32 (from tensorflow.python.ops.math_ops) is deprecated and will be removed in a future version.\n",
      "Instructions for updating:\n",
      "Use tf.cast instead.\n",
      "Train on 140597 samples, validate on 60256 samples\n",
      "Epoch 1/25\n",
      "140597/140597 [==============================] - 34264s 244ms/step - loss: 0.1366 - acc: 0.9467 - val_loss: 0.1407 - val_acc: 0.9484\n",
      "\n",
      "Epoch 00001: loss improved from inf to 0.13662, saving model to model.h5\n",
      "Epoch 2/25\n",
      "    64/140597 [..............................] - ETA: 8:56:52 - loss: 0.1163 - acc: 0.9512"
     ]
    }
   ],
   "source": [
    "new_model = load_model(\"model.h5\")\n",
    "new_model.fit(padded_sequences, Y, validation_split=0.3, epochs=25, callbacks=[es, ckpt])"
   ]
  },
  {
   "cell_type": "code",
   "execution_count": 14,
   "metadata": {
    "ExecuteTime": {
     "end_time": "2019-05-12T03:10:14.259933Z",
     "start_time": "2019-05-12T03:10:04.266280Z"
    }
   },
   "outputs": [
    {
     "name": "stdout",
     "output_type": "stream",
     "text": [
      "WARNING:tensorflow:From D:\\Users\\Ritvik\\Anaconda3\\envs\\datascience\\lib\\site-packages\\tensorflow\\python\\framework\\op_def_library.py:263: colocate_with (from tensorflow.python.framework.ops) is deprecated and will be removed in a future version.\n",
      "Instructions for updating:\n",
      "Colocations handled automatically by placer.\n",
      "WARNING:tensorflow:From D:\\Users\\Ritvik\\Anaconda3\\envs\\datascience\\lib\\site-packages\\keras\\backend\\tensorflow_backend.py:3445: calling dropout (from tensorflow.python.ops.nn_ops) with keep_prob is deprecated and will be removed in a future version.\n",
      "Instructions for updating:\n",
      "Please use `rate` instead of `keep_prob`. Rate should be set to `rate = 1 - keep_prob`.\n",
      "WARNING:tensorflow:From D:\\Users\\Ritvik\\Anaconda3\\envs\\datascience\\lib\\site-packages\\tensorflow\\python\\ops\\math_ops.py:3066: to_int32 (from tensorflow.python.ops.math_ops) is deprecated and will be removed in a future version.\n",
      "Instructions for updating:\n",
      "Use tf.cast instead.\n"
     ]
    }
   ],
   "source": [
    "new_model = load_model(\"model.h5\")"
   ]
  },
  {
   "cell_type": "code",
   "execution_count": 15,
   "metadata": {
    "ExecuteTime": {
     "end_time": "2019-05-12T03:10:50.081182Z",
     "start_time": "2019-05-12T03:10:47.997254Z"
    }
   },
   "outputs": [],
   "source": [
    "preds = new_model.predict(pad_sequences(tokenizer.texts_to_sequences(test_news), maxlen=pad_length))"
   ]
  },
  {
   "cell_type": "code",
   "execution_count": 19,
   "metadata": {
    "ExecuteTime": {
     "end_time": "2019-05-12T03:17:00.967456Z",
     "start_time": "2019-05-12T03:17:00.959481Z"
    }
   },
   "outputs": [],
   "source": [
    "def interpreted_lstm_pred(pred):\n",
    "    labels = [\n",
    "        'LIFESTYLE',\n",
    "        'POLITICS',\n",
    "        'GLOBAL',\n",
    "        'MISCELLANEOUS',\n",
    "        'ENTERTAINMENT',\n",
    "        'EDUCATION',\n",
    "        'BUSINESS',\n",
    "        'SPORTS'\n",
    "    ]\n",
    "    identified = []\n",
    "    for i, p in enumerate(pred):\n",
    "        if p > 0.5:\n",
    "            identified.append(labels[i])\n",
    "    return identified"
   ]
  },
  {
   "cell_type": "code",
   "execution_count": 20,
   "metadata": {
    "ExecuteTime": {
     "end_time": "2019-05-12T03:17:02.164227Z",
     "start_time": "2019-05-12T03:17:02.155250Z"
    }
   },
   "outputs": [],
   "source": [
    "preds_ = []\n",
    "for pred in preds:\n",
    "    preds_.append(interpreted_lstm_pred(pred))"
   ]
  },
  {
   "cell_type": "code",
   "execution_count": 22,
   "metadata": {
    "ExecuteTime": {
     "end_time": "2019-05-12T03:17:44.516402Z",
     "start_time": "2019-05-12T03:17:44.292610Z"
    }
   },
   "outputs": [
    {
     "data": {
      "text/html": [
       "<div>\n",
       "<style scoped>\n",
       "    .dataframe tbody tr th:only-of-type {\n",
       "        vertical-align: middle;\n",
       "    }\n",
       "\n",
       "    .dataframe tbody tr th {\n",
       "        vertical-align: top;\n",
       "    }\n",
       "\n",
       "    .dataframe thead th {\n",
       "        text-align: right;\n",
       "    }\n",
       "</style>\n",
       "<table border=\"1\" class=\"dataframe\">\n",
       "  <thead>\n",
       "    <tr style=\"text-align: right;\">\n",
       "      <th></th>\n",
       "      <th>News</th>\n",
       "      <th>Tags</th>\n",
       "    </tr>\n",
       "  </thead>\n",
       "  <tbody>\n",
       "    <tr>\n",
       "      <th>0</th>\n",
       "      <td>No alliance with AAP in Haryana and Punjab, Congress confirms</td>\n",
       "      <td>[BUSINESS]</td>\n",
       "    </tr>\n",
       "    <tr>\n",
       "      <th>1</th>\n",
       "      <td>Online travel game show 'Knock Knock' goes live on MakeMyTrip app</td>\n",
       "      <td>[ENTERTAINMENT]</td>\n",
       "    </tr>\n",
       "    <tr>\n",
       "      <th>2</th>\n",
       "      <td>Female fan threatens to kill Varun's girlfriend outside his house</td>\n",
       "      <td>[]</td>\n",
       "    </tr>\n",
       "    <tr>\n",
       "      <th>3</th>\n",
       "      <td>Longest year of our life: Irrfan's wife after his cancer treatment</td>\n",
       "      <td>[ENTERTAINMENT]</td>\n",
       "    </tr>\n",
       "    <tr>\n",
       "      <th>4</th>\n",
       "      <td>Joseph breaks all-time IPL record set by Pakistan's Tanvir in 2008</td>\n",
       "      <td>[]</td>\n",
       "    </tr>\n",
       "    <tr>\n",
       "      <th>5</th>\n",
       "      <td>EC bans BJP's theme song composed by Babul Supriyo</td>\n",
       "      <td>[]</td>\n",
       "    </tr>\n",
       "    <tr>\n",
       "      <th>6</th>\n",
       "      <td>Dhoni gets angry at Chahar for no-balls, bowler responds with wicket</td>\n",
       "      <td>[]</td>\n",
       "    </tr>\n",
       "    <tr>\n",
       "      <th>7</th>\n",
       "      <td>MI defeat SRH as debutant Joseph records best IPL bowling figures</td>\n",
       "      <td>[]</td>\n",
       "    </tr>\n",
       "    <tr>\n",
       "      <th>8</th>\n",
       "      <td>Pulwama attack convinced world Pak exporting terror to India: PM Modi</td>\n",
       "      <td>[MISCELLANEOUS]</td>\n",
       "    </tr>\n",
       "    <tr>\n",
       "      <th>9</th>\n",
       "      <td>FB visits Delhi man's home for political post's verification: Report</td>\n",
       "      <td>[EDUCATION]</td>\n",
       "    </tr>\n",
       "    <tr>\n",
       "      <th>10</th>\n",
       "      <td>NZ family finds hidden camera in Airbnb room, company apologises</td>\n",
       "      <td>[]</td>\n",
       "    </tr>\n",
       "    <tr>\n",
       "      <th>11</th>\n",
       "      <td>Cong spokesman attacks BJP counterpart over traitor remark on TV</td>\n",
       "      <td>[BUSINESS]</td>\n",
       "    </tr>\n",
       "    <tr>\n",
       "      <th>12</th>\n",
       "      <td>Drunk father fed alcohol in milk bottle to daughter, 3-yr-old rescued</td>\n",
       "      <td>[EDUCATION]</td>\n",
       "    </tr>\n",
       "    <tr>\n",
       "      <th>13</th>\n",
       "      <td>IT officials raid houses of MP CM Kamal Nath's close aides</td>\n",
       "      <td>[]</td>\n",
       "    </tr>\n",
       "    <tr>\n",
       "      <th>14</th>\n",
       "      <td>I once withdrew $10 million just to look at it: Africa's richest man</td>\n",
       "      <td>[]</td>\n",
       "    </tr>\n",
       "  </tbody>\n",
       "</table>\n",
       "</div>"
      ],
      "text/plain": [
       "                                                                     News  \\\n",
       "0   No alliance with AAP in Haryana and Punjab, Congress confirms           \n",
       "1   Online travel game show 'Knock Knock' goes live on MakeMyTrip app       \n",
       "2   Female fan threatens to kill Varun's girlfriend outside his house       \n",
       "3   Longest year of our life: Irrfan's wife after his cancer treatment      \n",
       "4   Joseph breaks all-time IPL record set by Pakistan's Tanvir in 2008      \n",
       "5   EC bans BJP's theme song composed by Babul Supriyo                      \n",
       "6   Dhoni gets angry at Chahar for no-balls, bowler responds with wicket    \n",
       "7   MI defeat SRH as debutant Joseph records best IPL bowling figures       \n",
       "8   Pulwama attack convinced world Pak exporting terror to India: PM Modi   \n",
       "9   FB visits Delhi man's home for political post's verification: Report    \n",
       "10  NZ family finds hidden camera in Airbnb room, company apologises        \n",
       "11  Cong spokesman attacks BJP counterpart over traitor remark on TV        \n",
       "12  Drunk father fed alcohol in milk bottle to daughter, 3-yr-old rescued   \n",
       "13  IT officials raid houses of MP CM Kamal Nath's close aides              \n",
       "14  I once withdrew $10 million just to look at it: Africa's richest man    \n",
       "\n",
       "               Tags  \n",
       "0   [BUSINESS]       \n",
       "1   [ENTERTAINMENT]  \n",
       "2   []               \n",
       "3   [ENTERTAINMENT]  \n",
       "4   []               \n",
       "5   []               \n",
       "6   []               \n",
       "7   []               \n",
       "8   [MISCELLANEOUS]  \n",
       "9   [EDUCATION]      \n",
       "10  []               \n",
       "11  [BUSINESS]       \n",
       "12  [EDUCATION]      \n",
       "13  []               \n",
       "14  []               "
      ]
     },
     "execution_count": 22,
     "metadata": {},
     "output_type": "execute_result"
    }
   ],
   "source": [
    "pd.DataFrame({'News': test_news, 'Tags':preds_})"
   ]
  },
  {
   "cell_type": "code",
   "execution_count": null,
   "metadata": {},
   "outputs": [],
   "source": []
  }
 ],
 "metadata": {
  "kernelspec": {
   "display_name": "Python 3",
   "language": "python",
   "name": "python3"
  },
  "language_info": {
   "codemirror_mode": {
    "name": "ipython",
    "version": 3
   },
   "file_extension": ".py",
   "mimetype": "text/x-python",
   "name": "python",
   "nbconvert_exporter": "python",
   "pygments_lexer": "ipython3",
   "version": "3.7.3"
  },
  "toc": {
   "base_numbering": 1,
   "nav_menu": {},
   "number_sections": true,
   "sideBar": true,
   "skip_h1_title": false,
   "title_cell": "Table of Contents",
   "title_sidebar": "Contents",
   "toc_cell": false,
   "toc_position": {},
   "toc_section_display": true,
   "toc_window_display": false
  },
  "varInspector": {
   "cols": {
    "lenName": 16,
    "lenType": 16,
    "lenVar": 40
   },
   "kernels_config": {
    "python": {
     "delete_cmd_postfix": "",
     "delete_cmd_prefix": "del ",
     "library": "var_list.py",
     "varRefreshCmd": "print(var_dic_list())"
    },
    "r": {
     "delete_cmd_postfix": ") ",
     "delete_cmd_prefix": "rm(",
     "library": "var_list.r",
     "varRefreshCmd": "cat(var_dic_list()) "
    }
   },
   "types_to_exclude": [
    "module",
    "function",
    "builtin_function_or_method",
    "instance",
    "_Feature"
   ],
   "window_display": false
  }
 },
 "nbformat": 4,
 "nbformat_minor": 2
}
